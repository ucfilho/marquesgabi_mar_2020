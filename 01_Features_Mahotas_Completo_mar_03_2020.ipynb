{
  "nbformat": 4,
  "nbformat_minor": 0,
  "metadata": {
    "colab": {
      "name": "01_Features_Mahotas_Completo_mar_03_2020.ipynb",
      "provenance": [],
      "collapsed_sections": [],
      "include_colab_link": true
    },
    "kernelspec": {
      "name": "python3",
      "display_name": "Python 3"
    },
    "accelerator": "GPU"
  },
  "cells": [
    {
      "cell_type": "markdown",
      "metadata": {
        "id": "view-in-github",
        "colab_type": "text"
      },
      "source": [
        "<a href=\"https://colab.research.google.com/github/ucfilho/marquesgabi_mar_2020/blob/master/01_Features_Mahotas_Completo_mar_03_2020.ipynb\" target=\"_parent\"><img src=\"https://colab.research.google.com/assets/colab-badge.svg\" alt=\"Open In Colab\"/></a>"
      ]
    },
    {
      "cell_type": "code",
      "metadata": {
        "id": "f393Z8HdEmRg",
        "colab_type": "code",
        "outputId": "8c546fb4-496d-4173-a345-26c50ca55ce0",
        "colab": {
          "base_uri": "https://localhost:8080/",
          "height": 72
        }
      },
      "source": [
        "!pip install mahotas"
      ],
      "execution_count": 0,
      "outputs": [
        {
          "output_type": "stream",
          "text": [
            "Requirement already satisfied: mahotas in /usr/local/lib/python3.6/dist-packages (1.4.9)\n",
            "Requirement already satisfied: numpy in /usr/local/lib/python3.6/dist-packages (from mahotas) (1.17.5)\n"
          ],
          "name": "stdout"
        }
      ]
    },
    {
      "cell_type": "code",
      "metadata": {
        "id": "W0wfLMP8nWAM",
        "colab_type": "code",
        "outputId": "1ed49fd7-9299-4f24-e57d-150d27eb6860",
        "colab": {
          "base_uri": "https://localhost:8080/",
          "height": 72
        }
      },
      "source": [
        "\n",
        "!git clone https://github.com/ucfilho/marquesgabi_fev_2020 #clonar do Github\n",
        "%cd marquesgabi_fev_2020"
      ],
      "execution_count": 0,
      "outputs": [
        {
          "output_type": "stream",
          "text": [
            "fatal: destination path 'marquesgabi_fev_2020' already exists and is not an empty directory.\n",
            "/content/marquesgabi_fev_2020\n"
          ],
          "name": "stdout"
        }
      ]
    },
    {
      "cell_type": "code",
      "metadata": {
        "id": "SzWdrvAgvBId",
        "colab_type": "code",
        "colab": {}
      },
      "source": [
        "import numpy as np\n",
        "import cv2\n",
        "from skimage import data\n",
        "import matplotlib.pyplot as plt\n",
        "import matplotlib\n",
        "import pandas as pd\n",
        "from skimage import io, util\n",
        "import mahotas.features.texture as mht\n",
        "import mahotas.features\n",
        "import os \n",
        "import zipfile\n",
        "from skimage import filters\n",
        "from skimage import exposure\n",
        "import skimage.feature as sk\n",
        "from google.colab import files\n",
        "from numpy import linalg as LA\n",
        "from scipy.signal import find_peaks\n",
        "from scipy.signal import peak_prominences\n",
        "from scipy.signal import peak_widths\n",
        "from scipy.integrate import simps\n",
        "import re\n",
        "import Go2BlackWhite\n",
        "import Go2Mahotas\n",
        "%matplotlib inline"
      ],
      "execution_count": 0,
      "outputs": []
    },
    {
      "cell_type": "code",
      "metadata": {
        "id": "xoW1HoWp3qNO",
        "colab_type": "code",
        "colab": {}
      },
      "source": [
        "Size=20 # tamanho da foto\n",
        "Sub_Size=int(Size/5) # tamanho do fracionamento\n",
        "Row_Crop=1/2 # posicao do corte\n",
        "Crop=int(Size*Row_Crop)\n",
        "Propriedade='contrast' # aquela q vai calcular os picos e outras informacoes"
      ],
      "execution_count": 0,
      "outputs": []
    },
    {
      "cell_type": "code",
      "metadata": {
        "id": "h1Zsufcm9bfv",
        "colab_type": "code",
        "colab": {}
      },
      "source": [
        "Transfere='Fotos9Amostras.zip'\n",
        "file_name = zipfile.ZipFile(Transfere, 'r')\n",
        "file_name.extractall()"
      ],
      "execution_count": 0,
      "outputs": []
    },
    {
      "cell_type": "code",
      "metadata": {
        "id": "9ZQOQdJVjkW1",
        "colab_type": "code",
        "colab": {}
      },
      "source": [
        "Prop=Propriedade"
      ],
      "execution_count": 0,
      "outputs": []
    },
    {
      "cell_type": "code",
      "metadata": {
        "id": "MDDexaSZiaJA",
        "colab_type": "code",
        "outputId": "b9eb29ec-8b0a-4379-b7ae-3f632e0c8dc0",
        "colab": {
          "base_uri": "https://localhost:8080/",
          "height": 265
        }
      },
      "source": [
        "ww,img_name=Go2BlackWhite.BlackWhite(Transfere,Size)\n",
        "plt.axis(\"off\")\n",
        "plt.imshow(ww[5], cmap = \"gray\")"
      ],
      "execution_count": 0,
      "outputs": [
        {
          "output_type": "execute_result",
          "data": {
            "text/plain": [
              "<matplotlib.image.AxesImage at 0x7efef542fe80>"
            ]
          },
          "metadata": {
            "tags": []
          },
          "execution_count": 7
        },
        {
          "output_type": "display_data",
          "data": {
            "image/png": "[encoded data removed]",
            "text/plain": [
              "<Figure size 432x288 with 1 Axes>"
            ]
          },
          "metadata": {
            "tags": []
          }
        }
      ]
    },
    {
      "cell_type": "code",
      "metadata": {
        "id": "VHWVP_N8ebP6",
        "colab_type": "code",
        "outputId": "415cd63e-42df-4b3c-8942-eff5d5f591a5",
        "colab": {
          "base_uri": "https://localhost:8080/",
          "height": 55
        }
      },
      "source": [
        "Num,Row,Col=np.asarray(ww).shape\n",
        "Idx=[]\n",
        "New_Colunm=[]\n",
        "\n",
        "for i in range(Num):\n",
        "  Media=np.mean(ww[i])\n",
        "  k=np.where(ww[i].ravel() > Media)\n",
        "  Idx.append(np.asarray(k).ravel())\n",
        "\n",
        "Quant=Size*Size\n",
        "for i in Idx:\n",
        "  #print(i)\n",
        "  New_Colunm.append(len(i)/Quant)\n",
        "print(New_Colunm)"
      ],
      "execution_count": 0,
      "outputs": [
        {
          "output_type": "stream",
          "text": [
            "[0.48, 0.4725, 0.39, 0.435, 0.3625, 0.3675, 0.4825, 0.475, 0.515, 0.4975, 0.5, 0.6275, 0.49, 0.5425, 0.4325, 0.4625, 0.4475, 0.6575, 0.5325, 0.4125, 0.5325, 0.39, 0.5175, 0.48, 0.5625, 0.4675, 0.44, 0.54, 0.465, 0.4975, 0.5575, 0.54, 0.46, 0.48, 0.4475, 0.455, 0.3275, 0.4325, 0.4025, 0.4575, 0.5, 0.46, 0.63, 0.4325, 0.505, 0.4425, 0.4425, 0.485, 0.5, 0.5125, 0.5575, 0.4875, 0.43, 0.5625, 0.4475, 0.4625, 0.395, 0.515, 0.4925, 0.4725, 0.4125, 0.41, 0.4225, 0.4825, 0.53, 0.49, 0.38, 0.405, 0.4125, 0.41, 0.53, 0.5775, 0.4675, 0.4675, 0.5, 0.51, 0.53, 0.485, 0.4775, 0.5275, 0.495, 0.5525, 0.48, 0.5275, 0.4325, 0.4575, 0.5475, 0.56, 0.535, 0.5, 0.51, 0.525, 0.44, 0.435, 0.5125, 0.39, 0.565, 0.5075, 0.485, 0.4825, 0.3775, 0.5275, 0.5475, 0.5325, 0.58, 0.4275, 0.41, 0.5175, 0.5225, 0.44, 0.4375, 0.395, 0.535, 0.555, 0.4825, 0.4325, 0.4625, 0.4525, 0.495, 0.4925, 0.3625, 0.375, 0.355, 0.4075, 0.405, 0.465, 0.4575, 0.4725, 0.4825, 0.4375, 0.585, 0.5325, 0.57, 0.4775, 0.4425, 0.4025, 0.45, 0.4625, 0.615, 0.5575, 0.4675, 0.4175, 0.45, 0.4525, 0.4625, 0.525, 0.4625, 0.525, 0.455, 0.3875, 0.33, 0.5625, 0.33, 0.3675, 0.41, 0.5, 0.53, 0.4875, 0.47, 0.54, 0.41, 0.5125, 0.4975, 0.5575, 0.405, 0.6125, 0.5575, 0.5075, 0.4025, 0.4875, 0.4825, 0.4575, 0.43, 0.39, 0.45, 0.41, 0.435, 0.505, 0.5325, 0.46, 0.5175, 0.48, 0.48, 0.5525, 0.3875, 0.4575, 0.3975, 0.3575, 0.4975, 0.4, 0.5125, 0.5225, 0.4425, 0.495, 0.5625, 0.48, 0.475, 0.4625, 0.485, 0.39, 0.5325, 0.535, 0.4575, 0.475, 0.5075, 0.4475, 0.4625, 0.4775, 0.5025, 0.4575, 0.465, 0.515, 0.5475, 0.54, 0.4675, 0.3825, 0.4725, 0.505, 0.51, 0.5475, 0.4675, 0.4825, 0.47, 0.44, 0.4675, 0.575, 0.4275, 0.4925, 0.4575, 0.43, 0.5325, 0.495, 0.445, 0.46, 0.545, 0.5425, 0.5975, 0.495, 0.46, 0.52, 0.4475, 0.505, 0.51, 0.5025, 0.4725, 0.465, 0.6425, 0.4275, 0.3775, 0.4475, 0.535, 0.4125, 0.5775, 0.4175, 0.3875, 0.4425, 0.505, 0.4475, 0.43, 0.4175, 0.4525, 0.4825, 0.5025, 0.475, 0.345, 0.3925, 0.4925, 0.4875, 0.43, 0.355, 0.41, 0.49, 0.56, 0.4225, 0.425, 0.405, 0.3525, 0.4675, 0.525, 0.5375, 0.4475, 0.5525, 0.485, 0.3825, 0.455, 0.4275, 0.5125, 0.47, 0.48, 0.3925, 0.485, 0.5925, 0.5175, 0.3375, 0.3225, 0.4025, 0.555, 0.4525, 0.36, 0.4425, 0.4125, 0.4775, 0.45, 0.435, 0.5, 0.4275, 0.43, 0.3825, 0.295, 0.5075, 0.6425, 0.515, 0.6, 0.5075, 0.5325, 0.465, 0.5275, 0.49, 0.6075, 0.405, 0.4675, 0.4625, 0.485, 0.465, 0.4525, 0.505, 0.4475, 0.525, 0.4675, 0.52, 0.565, 0.4575, 0.425, 0.3975, 0.5125, 0.5, 0.4, 0.3475, 0.385, 0.45, 0.495, 0.405, 0.4975, 0.52, 0.4975, 0.5225, 0.54, 0.4675, 0.3975, 0.4175, 0.5225, 0.5, 0.4775, 0.4925, 0.515, 0.495, 0.49, 0.5525, 0.46, 0.445, 0.3125, 0.33, 0.485, 0.39, 0.365, 0.43, 0.46, 0.5275, 0.5675, 0.47, 0.5825, 0.61, 0.625, 0.56, 0.5075, 0.3675, 0.485, 0.3825, 0.4975, 0.5175, 0.3225, 0.52, 0.545, 0.3375, 0.39, 0.5325, 0.5075, 0.5425, 0.53, 0.45, 0.4825, 0.6025, 0.53, 0.6025, 0.44, 0.4575, 0.3675, 0.4875, 0.395, 0.4825, 0.6175, 0.5025, 0.4825, 0.6225, 0.4525, 0.5125, 0.46, 0.5, 0.5775, 0.5225, 0.6125, 0.48, 0.515, 0.5325, 0.4825, 0.3875, 0.5475, 0.4875, 0.5425, 0.5, 0.3675, 0.3875, 0.445, 0.495, 0.465, 0.425, 0.4975, 0.525, 0.4025, 0.34, 0.515, 0.6175, 0.55, 0.63, 0.5375, 0.6425, 0.6075, 0.5625, 0.54, 0.55, 0.505, 0.52, 0.5975, 0.545, 0.5375, 0.4925, 0.545, 0.595, 0.615, 0.5925, 0.4575, 0.37, 0.575, 0.3925, 0.4575, 0.355, 0.34, 0.3125, 0.37, 0.4875, 0.5625, 0.6575, 0.67, 0.555, 0.5375, 0.585, 0.5725, 0.62, 0.48, 0.585, 0.545, 0.715, 0.49, 0.5, 0.5375, 0.535, 0.635, 0.5975, 0.525, 0.5175, 0.4875, 0.4875, 0.5375, 0.5375, 0.455, 0.5725, 0.405, 0.5375, 0.53, 0.3925, 0.5025, 0.5925, 0.57, 0.5775, 0.6525, 0.5775, 0.6425, 0.6375, 0.56, 0.6275, 0.5125, 0.5175, 0.405, 0.4575, 0.5, 0.4425, 0.55, 0.6175, 0.525, 0.5475, 0.36, 0.5, 0.57, 0.505, 0.5225, 0.4875, 0.4475, 0.57, 0.535, 0.385, 0.6175, 0.6125, 0.6375, 0.63, 0.4775, 0.495, 0.62, 0.5, 0.6075, 0.6, 0.565, 0.495, 0.5075, 0.4625, 0.5775, 0.53, 0.44, 0.51, 0.5225, 0.5325]\n"
          ],
          "name": "stdout"
        }
      ]
    },
    {
      "cell_type": "code",
      "metadata": {
        "id": "c43TnWalRs_H",
        "colab_type": "code",
        "colab": {}
      },
      "source": [
        "file_name = zipfile.ZipFile(Transfere, 'r')\n",
        "file_name.extractall()"
      ],
      "execution_count": 0,
      "outputs": []
    },
    {
      "cell_type": "code",
      "metadata": {
        "id": "GrLtSCRor_By",
        "colab_type": "code",
        "outputId": "60852923-22e8-4632-edf2-4a031b958661",
        "colab": {
          "base_uri": "https://localhost:8080/",
          "height": 35
        }
      },
      "source": [
        "print(len(img_name))"
      ],
      "execution_count": 0,
      "outputs": [
        {
          "output_type": "stream",
          "text": [
            "540\n"
          ],
          "name": "stdout"
        }
      ]
    },
    {
      "cell_type": "code",
      "metadata": {
        "colab_type": "code",
        "id": "qCKcPafHsAuJ",
        "colab": {}
      },
      "source": [
        "# ww contain all photos in black and white\n",
        "ww,img_name=Go2BlackWhite.BlackWhite(Transfere,Size)\n"
      ],
      "execution_count": 0,
      "outputs": []
    },
    {
      "cell_type": "code",
      "metadata": {
        "id": "hDdj1998k-7s",
        "colab_type": "code",
        "outputId": "c3edfabf-f9dc-44dc-d32f-4edeed1947be",
        "colab": {
          "base_uri": "https://localhost:8080/",
          "height": 265
        }
      },
      "source": [
        "plt.axis(\"off\")\n",
        "plt.imshow(ww[539], cmap = \"gray\")"
      ],
      "execution_count": 0,
      "outputs": [
        {
          "output_type": "execute_result",
          "data": {
            "text/plain": [
              "<matplotlib.image.AxesImage at 0x7efef542fc18>"
            ]
          },
          "metadata": {
            "tags": []
          },
          "execution_count": 12
        },
        {
          "output_type": "display_data",
          "data": {
            "image/png": "[encoded data removed]",
            "text/plain": [
              "<Figure size 432x288 with 1 Axes>"
            ]
          },
          "metadata": {
            "tags": []
          }
        }
      ]
    },
    {
      "cell_type": "code",
      "metadata": {
        "id": "MukX2r3ys3tm",
        "colab_type": "code",
        "colab": {}
      },
      "source": [
        "# Find the list elements starting with specific letter\n",
        "subs = 'B'\n",
        "Buraco = [x for x in img_name if re.search(subs, x)] \n",
        "subs = 'G'\n",
        "Grao = [x for x in img_name if re.search(subs, x)] \n",
        "subs = 'I'\n",
        "Indef = [x for x in img_name if re.search(subs, x)] "
      ],
      "execution_count": 0,
      "outputs": []
    },
    {
      "cell_type": "code",
      "metadata": {
        "id": "WkQzQVXn3k42",
        "colab_type": "code",
        "outputId": "888402db-d6fd-4bf9-e95b-871012443e30",
        "colab": {
          "base_uri": "https://localhost:8080/",
          "height": 371
        }
      },
      "source": [
        "# find df texture for a given picture\n",
        "df=Go2Mahotas.Mahotas(ww[0],Size,Sub_Size,Crop,img_name)   # gotoMahotas junta Mahotas com outros calculos\n",
        "print(df)"
      ],
      "execution_count": 0,
      "outputs": [
        {
          "output_type": "stream",
          "text": [
            "         ASM   constrast    correl  ...  dif entropy      IMC1      IMC2\n",
            "0   0.062114   15.805556  0.118833  ...     2.600961 -0.510280  0.968961\n",
            "1   0.054688   59.854167 -0.082244  ...     2.712072 -0.621625  0.989078\n",
            "2   0.052951   90.243056 -0.000144  ...     2.840748 -0.725483  0.995986\n",
            "3   0.052083   90.388889  0.160040  ...     2.771303 -0.680857  0.993830\n",
            "4   0.053434   77.562500  0.331489  ...     2.764495 -0.644239  0.991322\n",
            "5   0.060185   46.638889  0.507428  ...     2.696888 -0.673112  0.992278\n",
            "6   0.064333   41.708333  0.522625  ...     2.634252 -0.634782  0.988039\n",
            "7   0.058931   30.319444  0.483757  ...     2.319265 -0.723731  0.995494\n",
            "8   0.057388   19.104167  0.481467  ...     2.259791 -0.750027  0.996652\n",
            "9   0.053434   32.263889  0.207233  ...     2.535192 -0.732016  0.996303\n",
            "10  0.051890   43.611111  0.369478  ...     2.595990 -0.779193  0.997869\n",
            "11  0.056713   38.555556  0.426907  ...     2.498496 -0.744323  0.996186\n",
            "12  0.058256   26.868056  0.170268  ...     2.415163 -0.710839  0.994484\n",
            "13  0.055170   18.458333  0.520341  ...     2.343881 -0.736825  0.996181\n",
            "14  0.054302   22.236111  0.507916  ...     2.413325 -0.768986  0.997439\n",
            "15  0.052083  221.625000  0.234800  ...     2.783354 -0.733072  0.996397\n",
            "16  0.052083  263.694444  0.581437  ...     2.998768 -0.699292  0.994689\n",
            "\n",
            "[17 rows x 13 columns]\n"
          ],
          "name": "stdout"
        }
      ]
    },
    {
      "cell_type": "code",
      "metadata": {
        "id": "3YkXNoLOgYMw",
        "colab_type": "code",
        "colab": {}
      },
      "source": [
        ""
      ],
      "execution_count": 0,
      "outputs": []
    },
    {
      "cell_type": "code",
      "metadata": {
        "id": "XfeRom6H2vPv",
        "colab_type": "code",
        "outputId": "d068462e-e294-46e9-b8a5-5f3e5944ec55",
        "colab": {
          "base_uri": "https://localhost:8080/",
          "height": 55
        }
      },
      "source": [
        "Nomes=list(df.columns)\n",
        "Nomes_2=[]\n",
        "for it in Nomes:\n",
        "  Nomes_2.append(it)\n",
        "Nomes_2.append('colors') # vai adicionar as variaveis novas \n",
        "# caso queria adicionar outra variavel alem de cor tem que modificar\n",
        "# a lista Nomes_2 com a adicao do nome da variavel a ser adicionada\n",
        "print(Nomes_2)"
      ],
      "execution_count": 0,
      "outputs": [
        {
          "output_type": "stream",
          "text": [
            "['ASM', 'constrast', 'correl', 'variance', 'inv diff mom', 'sum aveg', 'sum var', 'sum entropy', 'entropy', 'dif var', 'dif entropy', 'IMC1', 'IMC2', 'colors']\n"
          ],
          "name": "stdout"
        }
      ]
    },
    {
      "cell_type": "code",
      "metadata": {
        "id": "UgKlHvzR4T3J",
        "colab_type": "code",
        "outputId": "c3db6f38-c061-4ad3-f09b-0b01a8331ef4",
        "colab": {
          "base_uri": "https://localhost:8080/",
          "height": 55
        }
      },
      "source": [
        "print(Nomes)"
      ],
      "execution_count": 0,
      "outputs": [
        {
          "output_type": "stream",
          "text": [
            "['ASM', 'constrast', 'correl', 'variance', 'inv diff mom', 'sum aveg', 'sum var', 'sum entropy', 'entropy', 'dif var', 'dif entropy', 'IMC1', 'IMC2']\n"
          ],
          "name": "stdout"
        }
      ]
    },
    {
      "cell_type": "code",
      "metadata": {
        "id": "BdfF9ZHzjDeI",
        "colab_type": "code",
        "outputId": "81bf7f9d-5523-4074-d153-b004442c3e07",
        "colab": {
          "base_uri": "https://localhost:8080/",
          "height": 35
        }
      },
      "source": [
        "print(len(df['ASM']))"
      ],
      "execution_count": 0,
      "outputs": [
        {
          "output_type": "stream",
          "text": [
            "17\n"
          ],
          "name": "stdout"
        }
      ]
    },
    {
      "cell_type": "code",
      "metadata": {
        "id": "U2ymyUPFiADf",
        "colab_type": "code",
        "colab": {}
      },
      "source": [
        "j=0\n",
        "cont=-1\n",
        "Posicao_Buraco=[]\n",
        "for i in img_name:\n",
        "  cont=cont+1\n",
        "  for k in Buraco:\n",
        "    if(i==k):\n",
        "      Posicao_Buraco.append(cont)\n",
        "j=0\n",
        "cont=-1\n",
        "Posicao_Grao=[]\n",
        "for i in img_name:\n",
        "  cont=cont+1\n",
        "  for k in Grao:\n",
        "    if(i==k):\n",
        "      Posicao_Grao.append(cont)\n",
        "\n",
        "j=0\n",
        "cont=-1\n",
        "Posicao_Indef=[]\n",
        "for i in img_name:\n",
        "  cont=cont+1\n",
        "  for k in Indef:\n",
        "    if(i==k):\n",
        "      Posicao_Indef.append(cont)\n",
        "\n",
        "# print(Posicao_Grao)\n",
        "# print(Posicao_Buraco)\n",
        "# print(Posicao_Indef)\n"
      ],
      "execution_count": 0,
      "outputs": []
    },
    {
      "cell_type": "code",
      "metadata": {
        "id": "c2FWBU8DR2Ap",
        "colab_type": "code",
        "colab": {}
      },
      "source": [
        "#print(Posicao_Buraco)"
      ],
      "execution_count": 0,
      "outputs": []
    },
    {
      "cell_type": "code",
      "metadata": {
        "id": "7YCD3ESkSFfV",
        "colab_type": "code",
        "colab": {}
      },
      "source": [
        "#for i in range(len(Posicao_Buraco)):\n",
        "#for i in Posicao_Buraco:\n",
        "#  print(i)"
      ],
      "execution_count": 0,
      "outputs": []
    },
    {
      "cell_type": "code",
      "metadata": {
        "id": "aNTlSGubnL3P",
        "colab_type": "code",
        "colab": {}
      },
      "source": [
        "# compara constrast dos tres primeiros buracos\n",
        "\n",
        "Matriz_X_Buraco=[]\n",
        "\n",
        "for k in Posicao_Buraco:\n",
        "  df=Go2Mahotas.Mahotas(ww[k],Size,Sub_Size,Crop,img_name)\n",
        "  Linha=[]\n",
        "  for it in Nomes:\n",
        "    #print(Linha)\n",
        "    #print(\"Nomes=\",Nomes)\n",
        "    #print(\"it=\",it)\n",
        "    #print(df[it])\n",
        "    Linha.append(np.mean(df[it]))\n",
        "\n",
        "  Linha.append(New_Colunm[k])\n",
        "  Matriz_X_Buraco.append(Linha)\n",
        "  #plt.figure(i+1)\n",
        "  #plt.plot(df['constrast'])\n",
        "  #print(Matriz_X_Buraco)\n",
        "#print(pd.DataFrame(Matriz_X_Buraco))\n",
        "#Contraste_Buraco=pd.DataFrame(Matriz_X_Buraco,columns=Nomes)\n",
        "\n",
        "Contraste_Buraco=pd.DataFrame(Matriz_X_Buraco,columns=Nomes_2) \n",
        "# precisa unir aqui fazer para as fotos sem esquecer de colocar o numero \n",
        "# de picos e outras variaveis de interess"
      ],
      "execution_count": 0,
      "outputs": []
    },
    {
      "cell_type": "code",
      "metadata": {
        "id": "hQHUCSaClwm-",
        "colab_type": "code",
        "outputId": "72ed5d75-8625-45fa-8647-f22c62371ada",
        "colab": {
          "base_uri": "https://localhost:8080/",
          "height": 108
        }
      },
      "source": [
        "print(Linha)\n",
        "print(len(Linha))\n",
        "print(Nomes_2)\n",
        "print(len(Nomes_2))"
      ],
      "execution_count": 0,
      "outputs": [
        {
          "output_type": "stream",
          "text": [
            "[0.060990831517792304, 40.85089869281045, 0.22448734562218806, 27.27401336692144, 0.197658746786737, 152.9579248366013, 68.24515477487454, 3.0192123836026887, 4.133855612795869, 0.0021141076274676235, 2.522217365225779, -0.6440596210009903, 0.9869818461903466, 0.385]\n",
            "14\n",
            "['ASM', 'constrast', 'correl', 'variance', 'inv diff mom', 'sum aveg', 'sum var', 'sum entropy', 'entropy', 'dif var', 'dif entropy', 'IMC1', 'IMC2', 'colors']\n",
            "14\n"
          ],
          "name": "stdout"
        }
      ]
    },
    {
      "cell_type": "code",
      "metadata": {
        "id": "FKpqBGqMq0U2",
        "colab_type": "code",
        "colab": {}
      },
      "source": [
        "# compara constrast dos graos\n",
        "\n",
        "Matriz_X_Grao=[]\n",
        "\n",
        "for k in Posicao_Grao:\n",
        "  df=Go2Mahotas.Mahotas(ww[k],Size,Sub_Size,Crop,img_name)\n",
        "  Linha=[]\n",
        "  for it in Nomes:\n",
        "    Linha.append(np.mean(df[it]))\n",
        "    \n",
        "  Linha.append(New_Colunm[k])\n",
        "  Matriz_X_Grao.append(Linha)\n",
        "#print(pd.DataFrame(Matriz_X_Grao))\n",
        "\n",
        "Contraste_Grao=pd.DataFrame(Matriz_X_Grao,columns=Nomes_2)\n"
      ],
      "execution_count": 0,
      "outputs": []
    },
    {
      "cell_type": "code",
      "metadata": {
        "id": "uno28vfVq0lc",
        "colab_type": "code",
        "colab": {}
      },
      "source": [
        "# compara constrast dos indefinidos\n",
        "\n",
        "Matriz_X_Indef=[]\n",
        "\n",
        "for k in Posicao_Indef:\n",
        "  df=Go2Mahotas.Mahotas(ww[k],Size,Sub_Size,Crop,img_name)\n",
        "  Linha=[]\n",
        "  for it in Nomes:\n",
        "    Linha.append(np.mean(df[it]))\n",
        "    \n",
        "  Linha.append(New_Colunm[k])\n",
        "  Matriz_X_Indef.append(Linha)\n",
        "#print(pd.DataFrame(Matriz_X_Indef))\n",
        "Contraste_Indef=pd.DataFrame(Matriz_X_Indef,columns=Nomes_2)\n",
        "\n"
      ],
      "execution_count": 0,
      "outputs": []
    },
    {
      "cell_type": "code",
      "metadata": {
        "id": "EHSBh2ye9WV8",
        "colab_type": "code",
        "outputId": "489539a0-aab3-4d3b-d630-c8a9ffb4b246",
        "colab": {
          "base_uri": "https://localhost:8080/",
          "height": 158
        }
      },
      "source": [
        "print(Contraste_Buraco.head())"
      ],
      "execution_count": 0,
      "outputs": [
        {
          "output_type": "stream",
          "text": [
            "        ASM   constrast    correl  ...      IMC1      IMC2  colors\n",
            "0  0.055885   66.996324  0.325978  ... -0.698158  0.993011  0.4800\n",
            "1  0.060038   86.345997  0.254951  ... -0.649175  0.983259  0.4725\n",
            "2  0.056129  130.039216  0.316819  ... -0.738904  0.995701  0.3900\n",
            "3  0.060032  285.037990  0.349562  ... -0.719246  0.992884  0.4350\n",
            "4  0.054319  347.037582  0.350965  ... -0.738866  0.994207  0.3625\n",
            "\n",
            "[5 rows x 14 columns]\n"
          ],
          "name": "stdout"
        }
      ]
    },
    {
      "cell_type": "code",
      "metadata": {
        "id": "k5e1EwMAs84e",
        "colab_type": "code",
        "outputId": "6fefa187-7e57-4b2b-e70f-0d2ce73ecccf",
        "colab": {
          "base_uri": "https://localhost:8080/",
          "height": 158
        }
      },
      "source": [
        "print(Contraste_Grao.head())"
      ],
      "execution_count": 0,
      "outputs": [
        {
          "output_type": "stream",
          "text": [
            "        ASM    constrast    correl  ...      IMC1      IMC2  colors\n",
            "0  0.051249   602.328840  0.365643  ... -0.794911  0.998111  0.5000\n",
            "1  0.051357   358.185458  0.455260  ... -0.786490  0.997785  0.6275\n",
            "2  0.050410  1091.308415  0.388338  ... -0.805934  0.998271  0.4900\n",
            "3  0.050449   814.251225  0.409345  ... -0.810067  0.998500  0.5425\n",
            "4  0.050801   724.794118  0.312578  ... -0.795408  0.998164  0.4325\n",
            "\n",
            "[5 rows x 14 columns]\n"
          ],
          "name": "stdout"
        }
      ]
    },
    {
      "cell_type": "code",
      "metadata": {
        "id": "3ehKvYQAs9TP",
        "colab_type": "code",
        "outputId": "2a1495f2-0f71-484b-9270-e2c29ba99972",
        "colab": {
          "base_uri": "https://localhost:8080/",
          "height": 158
        }
      },
      "source": [
        "print(Contraste_Indef.head())"
      ],
      "execution_count": 0,
      "outputs": [
        {
          "output_type": "stream",
          "text": [
            "        ASM   constrast    correl  ...      IMC1      IMC2  colors\n",
            "0  0.056009  120.755310  0.321776  ... -0.700931  0.993236  0.5325\n",
            "1  0.052668  321.672386  0.136216  ... -0.754262  0.996182  0.3900\n",
            "2  0.053195  207.910948  0.321090  ... -0.777385  0.997112  0.5175\n",
            "3  0.057138  209.535539  0.308492  ... -0.685876  0.990546  0.4800\n",
            "4  0.068134   77.505310  0.230726  ... -0.597803  0.966357  0.5625\n",
            "\n",
            "[5 rows x 14 columns]\n"
          ],
          "name": "stdout"
        }
      ]
    },
    {
      "cell_type": "code",
      "metadata": {
        "id": "dZSOVH78CeU_",
        "colab_type": "code",
        "outputId": "bb92c8f7-5265-43b2-c9ca-761c6ca96fd4",
        "colab": {
          "base_uri": "https://localhost:8080/",
          "height": 125
        }
      },
      "source": [
        "# found drive\n",
        "from google.colab import drive\n",
        "drive.mount('drive')"
      ],
      "execution_count": 0,
      "outputs": [
        {
          "output_type": "stream",
          "text": [
            "Go to this URL in a browser: https://accounts.google.com/o/oauth2/auth?client_id=947318989803-6bn6qk8qdgf4n4g3pfee6491hc0brc4i.apps.googleusercontent.com&redirect_uri=urn%3aietf%3awg%3aoauth%3a2.0%3aoob&response_type=code&scope=email%20https%3a%2f%2fwww.googleapis.com%2fauth%2fdocs.test%20https%3a%2f%2fwww.googleapis.com%2fauth%2fdrive%20https%3a%2f%2fwww.googleapis.com%2fauth%2fdrive.photos.readonly%20https%3a%2f%2fwww.googleapis.com%2fauth%2fpeopleapi.readonly\n",
            "\n",
            "Enter your authorization code:\n",
            "··········\n",
            "Mounted at drive\n"
          ],
          "name": "stdout"
        }
      ]
    },
    {
      "cell_type": "code",
      "metadata": {
        "id": "Lw8rqNu0CpQv",
        "colab_type": "code",
        "colab": {}
      },
      "source": [
        "# get csv file\n",
        "Contraste_Buraco.to_csv('Contraste_Buraco_jan_2020.csv')"
      ],
      "execution_count": 0,
      "outputs": []
    },
    {
      "cell_type": "code",
      "metadata": {
        "id": "QS3XRVNFtISH",
        "colab_type": "code",
        "colab": {}
      },
      "source": [
        "# get csv file\n",
        "Contraste_Grao.to_csv('Contraste_Grao_jan_2020.csv')"
      ],
      "execution_count": 0,
      "outputs": []
    },
    {
      "cell_type": "code",
      "metadata": {
        "id": "1r-ljDKotIlT",
        "colab_type": "code",
        "colab": {}
      },
      "source": [
        "# get csv file\n",
        "Contraste_Indef.to_csv('Contraste_Indef_jan_2020.csv')"
      ],
      "execution_count": 0,
      "outputs": []
    },
    {
      "cell_type": "code",
      "metadata": {
        "id": "6KFSiJ3tB7L2",
        "colab_type": "code",
        "colab": {}
      },
      "source": [
        "# save in drive\n",
        "!cp Contraste_Buraco_jan_2020.csv drive/My\\ Drive/Maria_Gabriela_Textura_dados_jan_2020/"
      ],
      "execution_count": 0,
      "outputs": []
    },
    {
      "cell_type": "code",
      "metadata": {
        "id": "foBD0uxUtROs",
        "colab_type": "code",
        "colab": {}
      },
      "source": [
        "# save in drive\n",
        "!cp Contraste_Grao_jan_2020.csv drive/My\\ Drive/Maria_Gabriela_Textura_dados_jan_2020/"
      ],
      "execution_count": 0,
      "outputs": []
    },
    {
      "cell_type": "code",
      "metadata": {
        "id": "g778xFc2tRh3",
        "colab_type": "code",
        "colab": {}
      },
      "source": [
        "# save in drive\n",
        "!cp Contraste_Indef_jan_2020.csv drive/My\\ Drive/Maria_Gabriela_Textura_dados_jan_2020/"
      ],
      "execution_count": 0,
      "outputs": []
    }
  ]
}