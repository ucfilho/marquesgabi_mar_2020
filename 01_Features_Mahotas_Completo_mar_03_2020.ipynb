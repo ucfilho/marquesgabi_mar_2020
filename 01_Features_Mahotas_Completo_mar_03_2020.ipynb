{
  "nbformat": 4,
  "nbformat_minor": 0,
  "metadata": {
    "colab": {
      "name": "01_Features_Mahotas_Completo_mar_03_2020.ipynb",
      "provenance": [],
      "collapsed_sections": [],
      "include_colab_link": true
    },
    "kernelspec": {
      "name": "python3",
      "display_name": "Python 3"
    },
    "accelerator": "GPU"
  },
  "cells": [
    {
      "cell_type": "markdown",
      "metadata": {
        "id": "view-in-github",
        "colab_type": "text"
      },
      "source": [
        "<a href=\"https://colab.research.google.com/github/ucfilho/marquesgabi_mar_2020/blob/master/01_Features_Mahotas_Completo_mar_03_2020.ipynb\" target=\"_parent\"><img src=\"https://colab.research.google.com/assets/colab-badge.svg\" alt=\"Open In Colab\"/></a>"
      ]
    },
    {
      "cell_type": "code",
      "metadata": {
        "id": "f393Z8HdEmRg",
        "colab_type": "code",
        "outputId": "e1b8d01c-ef9c-4f48-8a7f-e8438ae90ec0",
        "colab": {
          "base_uri": "https://localhost:8080/",
          "height": 72
        }
      },
      "source": [
        "!pip install mahotas"
      ],
      "execution_count": 1,
      "outputs": [
        {
          "output_type": "stream",
          "text": [
            "Requirement already satisfied: mahotas in /usr/local/lib/python3.6/dist-packages (1.4.9)\n",
            "Requirement already satisfied: numpy in /usr/local/lib/python3.6/dist-packages (from mahotas) (1.17.5)\n"
          ],
          "name": "stdout"
        }
      ]
    },
    {
      "cell_type": "code",
      "metadata": {
        "id": "avlgJG0Tz-Su",
        "colab_type": "code",
        "outputId": "9b8da34c-7997-4efe-8042-f266e14d6e39",
        "colab": {
          "base_uri": "https://localhost:8080/",
          "height": 72
        }
      },
      "source": [
        "!git clone https://github.com/ucfilho/marquesgabi_fev_2020 #clonar do Github\n",
        "%cd marquesgabi_fev_2020\n",
        "import Go2BlackWhite\n",
        "import Go2Mahotas\n"
      ],
      "execution_count": 2,
      "outputs": [
        {
          "output_type": "stream",
          "text": [
            "fatal: destination path 'marquesgabi_fev_2020' already exists and is not an empty directory.\n",
            "/content/marquesgabi_fev_2020\n"
          ],
          "name": "stdout"
        }
      ]
    },
    {
      "cell_type": "code",
      "metadata": {
        "id": "W0wfLMP8nWAM",
        "colab_type": "code",
        "colab": {}
      },
      "source": [
        "\n",
        "#!git clone https://github.com/ucfilho/marquesgabi_fev_2020 #clonar do Github\n",
        "#%cd marquesgabi_fev_2020"
      ],
      "execution_count": 0,
      "outputs": []
    },
    {
      "cell_type": "code",
      "metadata": {
        "id": "nI-R9-mcybyd",
        "colab_type": "code",
        "outputId": "89f3eac3-482b-4964-b891-7249a44ade6f",
        "colab": {
          "base_uri": "https://localhost:8080/",
          "height": 72
        }
      },
      "source": [
        "\n",
        "!git clone https://github.com/marquesgabi/Doutorado\n",
        "%cd Doutorado"
      ],
      "execution_count": 4,
      "outputs": [
        {
          "output_type": "stream",
          "text": [
            "fatal: destination path 'Doutorado' already exists and is not an empty directory.\n",
            "/content/marquesgabi_fev_2020/Doutorado\n"
          ],
          "name": "stdout"
        }
      ]
    },
    {
      "cell_type": "code",
      "metadata": {
        "id": "SzWdrvAgvBId",
        "colab_type": "code",
        "colab": {}
      },
      "source": [
        "import numpy as np\n",
        "import cv2\n",
        "from skimage import data\n",
        "import matplotlib.pyplot as plt\n",
        "import matplotlib\n",
        "import pandas as pd\n",
        "from skimage import io, util\n",
        "import mahotas.features.texture as mht\n",
        "import mahotas.features\n",
        "import os \n",
        "import zipfile\n",
        "from skimage import filters\n",
        "from skimage import exposure\n",
        "import skimage.feature as sk\n",
        "from google.colab import files\n",
        "from numpy import linalg as LA\n",
        "from scipy.signal import find_peaks\n",
        "from scipy.signal import peak_prominences\n",
        "from scipy.signal import peak_widths\n",
        "from scipy.integrate import simps\n",
        "import re\n",
        "import Go2BlackWhite\n",
        "%matplotlib inline"
      ],
      "execution_count": 0,
      "outputs": []
    },
    {
      "cell_type": "code",
      "metadata": {
        "id": "xoW1HoWp3qNO",
        "colab_type": "code",
        "colab": {}
      },
      "source": [
        "Size=20 # tamanho da foto\n",
        "Sub_Size=int(Size/5) # tamanho do fracionamento\n",
        "Row_Crop=1/2 # posicao do corte\n",
        "Crop=int(Size*Row_Crop)\n",
        "Propriedade='contrast' # escolher uma propriedade para o cálcul0 dos picos e outras informações"
      ],
      "execution_count": 0,
      "outputs": []
    },
    {
      "cell_type": "code",
      "metadata": {
        "id": "h1Zsufcm9bfv",
        "colab_type": "code",
        "colab": {}
      },
      "source": [
        "Transfere='Fotos9Amostras.zip'\n",
        "file_name = zipfile.ZipFile(Transfere, 'r')\n",
        "file_name.extractall()"
      ],
      "execution_count": 0,
      "outputs": []
    },
    {
      "cell_type": "code",
      "metadata": {
        "id": "9ZQOQdJVjkW1",
        "colab_type": "code",
        "colab": {}
      },
      "source": [
        "Prop=Propriedade"
      ],
      "execution_count": 0,
      "outputs": []
    },
    {
      "cell_type": "code",
      "metadata": {
        "id": "MDDexaSZiaJA",
        "colab_type": "code",
        "outputId": "9bf9ff20-b064-420d-c1d2-7e708ec67ab1",
        "colab": {
          "base_uri": "https://localhost:8080/",
          "height": 265
        }
      },
      "source": [
        "ww,img_name=Go2BlackWhite.BlackWhite(Transfere,Size)\n",
        "plt.axis(\"off\")\n",
        "plt.imshow(ww[10], cmap = \"gray\")"
      ],
      "execution_count": 9,
      "outputs": [
        {
          "output_type": "execute_result",
          "data": {
            "text/plain": [
              "<matplotlib.image.AxesImage at 0x7f6c20208048>"
            ]
          },
          "metadata": {
            "tags": []
          },
          "execution_count": 9
        },
        {
          "output_type": "display_data",
          "data": {
            "image/png": "[encoded data removed]",
            "text/plain": [
              "<Figure size 432x288 with 1 Axes>"
            ]
          },
          "metadata": {
            "tags": []
          }
        }
      ]
    },
    {
      "cell_type": "code",
      "metadata": {
        "id": "VHWVP_N8ebP6",
        "colab_type": "code",
        "outputId": "5e3b50f8-7758-4a6e-caac-da8752e7439b",
        "colab": {
          "base_uri": "https://localhost:8080/",
          "height": 55
        }
      },
      "source": [
        "Num,Row,Col=np.asarray(ww).shape\n",
        "Idx=[]\n",
        "New_Colunm=[]\n",
        "\n",
        "for i in range(Num):\n",
        "  Media=np.mean(ww[i])\n",
        "  k=np.where(ww[i].ravel() > Media)\n",
        "  Idx.append(np.asarray(k).ravel())\n",
        "\n",
        "Quant=Size*Size\n",
        "for i in Idx:\n",
        "  #print(i)\n",
        "  New_Colunm.append(len(i)/Quant)\n",
        "print(New_Colunm)"
      ],
      "execution_count": 10,
      "outputs": [
        {
          "output_type": "stream",
          "text": [
            "[0.6075, 0.51, 0.4775, 0.495, 0.515, 0.57, 0.425, 0.3225, 0.5375, 0.5075, 0.5825, 0.6175, 0.565, 0.4625, 0.62, 0.63, 0.6, 0.6125, 0.495, 0.4475, 0.44, 0.5, 0.53, 0.6375, 0.5325, 0.5775, 0.4775, 0.4875, 0.535, 0.5225, 0.5225, 0.4475, 0.4625, 0.485, 0.505, 0.385, 0.4575, 0.4675, 0.525, 0.3975, 0.45, 0.3475, 0.4675, 0.465, 0.5325, 0.4, 0.565, 0.4525, 0.515, 0.5, 0.5275, 0.52, 0.425, 0.5125, 0.5075, 0.49, 0.4925, 0.46, 0.6025, 0.4775, 0.44, 0.5125, 0.395, 0.4875, 0.5625, 0.3775, 0.57, 0.49, 0.495, 0.4275, 0.405, 0.4325, 0.4625, 0.4825, 0.5525, 0.5475, 0.4325, 0.52, 0.5175, 0.4825, 0.3925, 0.5025, 0.5, 0.4575, 0.4325, 0.3375, 0.505, 0.525, 0.475, 0.5575, 0.45, 0.3125, 0.48, 0.62, 0.4675, 0.6175, 0.4175, 0.43, 0.4825, 0.4675, 0.5225, 0.4475, 0.51, 0.4975, 0.4775, 0.6525, 0.625, 0.3925, 0.465, 0.6275, 0.495, 0.3625, 0.475, 0.6375, 0.3825, 0.4725, 0.4275, 0.5975, 0.5425, 0.4875, 0.575, 0.46, 0.6425, 0.5625, 0.53, 0.39, 0.5125, 0.4975, 0.4575, 0.525, 0.3275, 0.5925, 0.5225, 0.355, 0.565, 0.4525, 0.6575, 0.4275, 0.5575, 0.6275, 0.585, 0.5175, 0.6075, 0.4525, 0.52, 0.5375, 0.3875, 0.3675, 0.4025, 0.515, 0.5025, 0.47, 0.39, 0.36, 0.51, 0.4525, 0.5475, 0.4025, 0.5225, 0.4825, 0.435, 0.48, 0.5425, 0.4525, 0.4475, 0.545, 0.4425, 0.435, 0.6425, 0.41, 0.6, 0.295, 0.525, 0.48, 0.4825, 0.4625, 0.4575, 0.43, 0.5175, 0.4425, 0.56, 0.5025, 0.5325, 0.515, 0.5375, 0.43, 0.4175, 0.5675, 0.4925, 0.405, 0.5, 0.46, 0.4925, 0.5, 0.635, 0.6575, 0.4925, 0.5, 0.4725, 0.4375, 0.5, 0.4825, 0.54, 0.395, 0.5275, 0.47, 0.3675, 0.4575, 0.515, 0.41, 0.5575, 0.375, 0.39, 0.56, 0.425, 0.4025, 0.5, 0.445, 0.4575, 0.4825, 0.3875, 0.3775, 0.5975, 0.4575, 0.485, 0.495, 0.4825, 0.495, 0.4175, 0.5, 0.61, 0.4125, 0.5075, 0.3675, 0.45, 0.5375, 0.615, 0.4025, 0.6175, 0.55, 0.355, 0.48, 0.525, 0.585, 0.4975, 0.44, 0.53, 0.56, 0.5575, 0.4425, 0.57, 0.4875, 0.4975, 0.3125, 0.4875, 0.51, 0.5775, 0.505, 0.4775, 0.4425, 0.535, 0.5775, 0.5375, 0.515, 0.505, 0.4975, 0.5075, 0.5325, 0.6425, 0.4175, 0.545, 0.4575, 0.3925, 0.4525, 0.445, 0.4475, 0.4375, 0.475, 0.405, 0.5325, 0.5525, 0.4275, 0.3825, 0.585, 0.46, 0.5375, 0.48, 0.5025, 0.3875, 0.5125, 0.33, 0.55, 0.4825, 0.465, 0.475, 0.5025, 0.39, 0.41, 0.5175, 0.5575, 0.53, 0.44, 0.34, 0.485, 0.39, 0.46, 0.405, 0.44, 0.485, 0.595, 0.5475, 0.57, 0.525, 0.495, 0.4125, 0.5625, 0.6125, 0.535, 0.6125, 0.3875, 0.4875, 0.4725, 0.5125, 0.535, 0.5625, 0.405, 0.5375, 0.4625, 0.43, 0.555, 0.4675, 0.51, 0.41, 0.445, 0.4325, 0.4825, 0.385, 0.43, 0.5225, 0.465, 0.49, 0.36, 0.465, 0.5375, 0.5075, 0.5525, 0.4975, 0.4875, 0.505, 0.58, 0.4925, 0.4675, 0.4875, 0.5925, 0.455, 0.555, 0.4725, 0.505, 0.4675, 0.3875, 0.5775, 0.5775, 0.4225, 0.49, 0.4625, 0.48, 0.4675, 0.4675, 0.435, 0.4875, 0.495, 0.5125, 0.53, 0.485, 0.41, 0.53, 0.5525, 0.515, 0.405, 0.47, 0.4625, 0.3375, 0.41, 0.5725, 0.5425, 0.3925, 0.41, 0.5, 0.5275, 0.54, 0.5, 0.4475, 0.5425, 0.5075, 0.3675, 0.5275, 0.43, 0.4, 0.4575, 0.5, 0.5, 0.55, 0.6025, 0.45, 0.4675, 0.5475, 0.48, 0.485, 0.5325, 0.455, 0.485, 0.5325, 0.5175, 0.4025, 0.4725, 0.6425, 0.44, 0.4475, 0.4275, 0.345, 0.56, 0.54, 0.365, 0.715, 0.4325, 0.4475, 0.505, 0.4825, 0.5325, 0.4125, 0.405, 0.405, 0.48, 0.53, 0.4575, 0.525, 0.33, 0.46, 0.545, 0.4625, 0.47, 0.5275, 0.34, 0.3825, 0.535, 0.5625, 0.4575, 0.49, 0.4125, 0.39, 0.3625, 0.4075, 0.5725, 0.465, 0.54, 0.5075, 0.545, 0.52, 0.4125, 0.5975, 0.63, 0.54, 0.4825, 0.5325, 0.45, 0.53, 0.5125, 0.4475, 0.5175, 0.4425, 0.4775, 0.5625, 0.5175, 0.3975, 0.535, 0.355, 0.6175, 0.5325, 0.495, 0.435, 0.5475, 0.4425, 0.4925, 0.4675, 0.3825, 0.48, 0.5075, 0.4975, 0.485, 0.63, 0.4425, 0.5325, 0.545, 0.5775, 0.33, 0.3575, 0.3975, 0.4875, 0.52, 0.495, 0.5925, 0.505, 0.575, 0.485, 0.3675, 0.45, 0.43, 0.455, 0.465, 0.395, 0.3525, 0.48, 0.4225, 0.46, 0.525, 0.4625, 0.46, 0.67, 0.5475, 0.4575, 0.39, 0.5125, 0.37, 0.3225, 0.455, 0.5, 0.38, 0.54, 0.5, 0.6225, 0.555, 0.4475, 0.4575, 0.6075, 0.615, 0.4975, 0.37, 0.49, 0.4625, 0.5225]\n"
          ],
          "name": "stdout"
        }
      ]
    },
    {
      "cell_type": "code",
      "metadata": {
        "id": "GrLtSCRor_By",
        "colab_type": "code",
        "outputId": "a86d5412-223e-46c1-978c-1187ff687d55",
        "colab": {
          "base_uri": "https://localhost:8080/",
          "height": 35
        }
      },
      "source": [
        "print(len(img_name))"
      ],
      "execution_count": 11,
      "outputs": [
        {
          "output_type": "stream",
          "text": [
            "540\n"
          ],
          "name": "stdout"
        }
      ]
    },
    {
      "cell_type": "code",
      "metadata": {
        "colab_type": "code",
        "id": "qCKcPafHsAuJ",
        "colab": {}
      },
      "source": [
        "# ww contain all photos in black and white\n",
        "ww,img_name=Go2BlackWhite.BlackWhite(Transfere,Size)"
      ],
      "execution_count": 0,
      "outputs": []
    },
    {
      "cell_type": "code",
      "metadata": {
        "id": "hDdj1998k-7s",
        "colab_type": "code",
        "outputId": "200c5dac-298e-4b72-a5dd-12de7a5e7c6d",
        "colab": {
          "base_uri": "https://localhost:8080/",
          "height": 265
        }
      },
      "source": [
        "plt.axis(\"off\")\n",
        "plt.imshow(ww[539], cmap = \"gray\")"
      ],
      "execution_count": 13,
      "outputs": [
        {
          "output_type": "execute_result",
          "data": {
            "text/plain": [
              "<matplotlib.image.AxesImage at 0x7f6c208e98d0>"
            ]
          },
          "metadata": {
            "tags": []
          },
          "execution_count": 13
        },
        {
          "output_type": "display_data",
          "data": {
            "image/png": "[encoded data removed]",
            "text/plain": [
              "<Figure size 432x288 with 1 Axes>"
            ]
          },
          "metadata": {
            "tags": []
          }
        }
      ]
    },
    {
      "cell_type": "code",
      "metadata": {
        "id": "iSe01o8dBTdM",
        "colab_type": "code",
        "colab": {
          "base_uri": "https://localhost:8080/",
          "height": 55
        },
        "outputId": "03a087d8-6635-4328-a84e-d7d50c69d170"
      },
      "source": [
        "print(img_name)"
      ],
      "execution_count": 14,
      "outputs": [
        {
          "output_type": "stream",
          "text": [
            "['Fotos9Amostras/Q6-9-5-G9.jpg', 'Fotos9Amostras/Q6-9-5-I8.jpg', 'Fotos9Amostras/Q6-6-3-I3.jpg', 'Fotos9Amostras/Q6-9-5-G6.jpg', 'Fotos9Amostras/Q6-8-2-G1.jpg', 'Fotos9Amostras/Q6-9-5-B8.jpg', 'Fotos9Amostras/Q6-8-2-B6.jpg', 'Fotos9Amostras/Q6-7-3-I1.jpg', 'Fotos9Amostras/Q6-8-3-I5.jpg', 'Fotos9Amostras/Q6-9-5-I3.jpg', 'Fotos9Amostras/Q6-7-3-G1.jpg', 'Fotos9Amostras/Q6-9-5-G1.jpg', 'Fotos9Amostras/Q6-9-5-I1.jpg', 'Fotos9Amostras/Q6-9-5-I4.jpg', 'Fotos9Amostras/Q6-9-5-G7.jpg', 'Fotos9Amostras/Q6-9-5-G4.jpg', 'Fotos9Amostras/Q6-9-5-G10.jpg', 'Fotos9Amostras/Q6-9-5-G2.jpg', 'Fotos9Amostras/Q6-9-5-I2.jpg', 'Fotos9Amostras/Q6-9-5-B7.jpg', 'Fotos9Amostras/Q6-9-5-I7.jpg', 'Fotos9Amostras/Q6-9-5-G8.jpg', 'Fotos9Amostras/Q6-9-5-I6.jpg', 'Fotos9Amostras/Q6-9-5-G3.jpg', 'Fotos9Amostras/Q6-9-5-I10.jpg', 'Fotos9Amostras/Q6-9-5-I5.jpg', 'Fotos9Amostras/Q6-9-5-G5.jpg', 'Fotos9Amostras/Q6-9-5-B6.jpg', 'Fotos9Amostras/Q6-9-5-B9.jpg', 'Fotos9Amostras/Q6-9-5-I9.jpg', 'Fotos9Amostras/Q6-9-5-B5.jpg', 'Fotos9Amostras/Q6-6-2-I7.jpg', 'Fotos9Amostras/Q6-6-2-I2.jpg', 'Fotos9Amostras/Q6-6-2-I3.jpg', 'Fotos9Amostras/Q6-6-2-I6.jpg', 'Fotos9Amostras/Q6-6-3-B9.jpg', 'Fotos9Amostras/Q6-6-3-B2.jpg', 'Fotos9Amostras/Q6-6-2-I1.jpg', 'Fotos9Amostras/Q6-6-2-I8.jpg', 'Fotos9Amostras/Q6-6-3-B4.jpg', 'Fotos9Amostras/Q6-6-3-B10.jpg', 'Fotos9Amostras/Q6-6-3-B8.jpg', 'Fotos9Amostras/Q6-6-2-I9.jpg', 'Fotos9Amostras/Q6-6-2-I4.jpg', 'Fotos9Amostras/Q6-6-2-G5.jpg', 'Fotos9Amostras/Q6-6-3-B7.jpg', 'Fotos9Amostras/Q6-6-3-B1.jpg', 'Fotos9Amostras/Q6-6-2-I5.jpg', 'Fotos9Amostras/Q6-6-2-G2.jpg', 'Fotos9Amostras/Q6-6-3-B6.jpg', 'Fotos9Amostras/Q6-6-2-G7.jpg', 'Fotos9Amostras/Q6-6-2-I10.jpg', 'Fotos9Amostras/Q6-6-3-B3.jpg', 'Fotos9Amostras/Q6-6-3-B5.jpg', 'Fotos9Amostras/Q6-6-2-G4.jpg', 'Fotos9Amostras/Q6-6-2-G8.jpg', 'Fotos9Amostras/Q6-2-2-I10.jpg', 'Fotos9Amostras/Q6-1-5-B3.jpg', 'Fotos9Amostras/Q6-7-4-B2.jpg', 'Fotos9Amostras/Q6-3-1-G4.jpg', 'Fotos9Amostras/Q6-2-2-B3.jpg', 'Fotos9Amostras/Q6-7-4-G6.jpg', 'Fotos9Amostras/Q6-1-5-I7.jpg', 'Fotos9Amostras/Q6-1-5-I2.jpg', 'Fotos9Amostras/Q6-1-4-I5.jpg', 'Fotos9Amostras/Q6-2-2-G1.jpg', 'Fotos9Amostras/Q6-3-1-G3.jpg', 'Fotos9Amostras/Q6-6-3-I7.jpg', 'Fotos9Amostras/Q6-6-3-G1.jpg', 'Fotos9Amostras/Q6-4-3-G7.jpg', 'Fotos9Amostras/Q6-2-1-B8.jpg', 'Fotos9Amostras/Q6-1-4-G5.jpg', 'Fotos9Amostras/Q6-3-1-G8.jpg', 'Fotos9Amostras/Q6-7-4-I5.jpg', 'Fotos9Amostras/Q6-4-1-B4.jpg', 'Fotos9Amostras/Q6-7-4-I7.jpg', 'Fotos9Amostras/Q6-1-5-G4.jpg', 'Fotos9Amostras/Q6-7-3-I2.jpg', 'Fotos9Amostras/Q6-2-2-G8.jpg', 'Fotos9Amostras/Q6-4-3-G2.jpg', 'Fotos9Amostras/Q6-8-3-B4.jpg', 'Fotos9Amostras/Q6-4-1-I9.jpg', 'Fotos9Amostras/Q6-7-4-I10.jpg', 'Fotos9Amostras/Q6-7-4-B6.jpg', 'Fotos9Amostras/Q6-2-2-I6.jpg', 'Fotos9Amostras/Q6-5-4-I4.jpg', 'Fotos9Amostras/Q6-5-2-G7.jpg', 'Fotos9Amostras/Q6-9-3-I9.jpg', 'Fotos9Amostras/Q6-5-2-I4.jpg', 'Fotos9Amostras/Q6-1-5-I1.jpg', 'Fotos9Amostras/Q6-3-1-I3.jpg', 'Fotos9Amostras/Q6-8-3-B8.jpg', 'Fotos9Amostras/Q6-7-4-I2.jpg', 'Fotos9Amostras/Q6-8-3-G8.jpg', 'Fotos9Amostras/Q6-5-4-B8.jpg', 'Fotos9Amostras/Q6-9-3-I8.jpg', 'Fotos9Amostras/Q6-6-3-G10.jpg', 'Fotos9Amostras/Q6-6-2-B7.jpg', 'Fotos9Amostras/Q6-5-2-I2.jpg', 'Fotos9Amostras/Q6-3-1-I1.jpg', 'Fotos9Amostras/Q6-4-1-G2.jpg', 'Fotos9Amostras/Q6-5-4-G1.jpg', 'Fotos9Amostras/Q6-5-2-B3.jpg', 'Fotos9Amostras/Q6-3-2-G3.jpg', 'Fotos9Amostras/Q6-6-2-B2.jpg', 'Fotos9Amostras/Q6-9-3-G5.jpg', 'Fotos9Amostras/Q6-7-3-G3.jpg', 'Fotos9Amostras/Q6-9-3-B10.jpg', 'Fotos9Amostras/Q6-8-2-B5.jpg', 'Fotos9Amostras/Q6-9-3-G10.jpg', 'Fotos9Amostras/Q6-4-3-I8.jpg', 'Fotos9Amostras/Q6-3-1-B1.jpg', 'Fotos9Amostras/Q6-4-1-G7.jpg', 'Fotos9Amostras/Q6-9-3-G8.jpg', 'Fotos9Amostras/Q6-5-4-G4.jpg', 'Fotos9Amostras/Q6-5-2-B5.jpg', 'Fotos9Amostras/Q6-2-2-G6.jpg', 'Fotos9Amostras/Q6-4-3-I7.jpg', 'Fotos9Amostras/Q6-7-4-I9.jpg', 'Fotos9Amostras/Q6-5-2-I8.jpg', 'Fotos9Amostras/Q6-8-3-B3.jpg', 'Fotos9Amostras/Q6-7-4-G7.jpg', 'Fotos9Amostras/Q6-8-2-G6.jpg', 'Fotos9Amostras/Q6-4-1-G5.jpg', 'Fotos9Amostras/Q6-7-3-I9.jpg', 'Fotos9Amostras/Q6-7-3-I5.jpg', 'Fotos9Amostras/Q6-5-4-G7.jpg', 'Fotos9Amostras/Q6-8-2-B7.jpg', 'Fotos9Amostras/Q6-3-2-I2.jpg', 'Fotos9Amostras/Q6-8-2-B8.jpg', 'Fotos9Amostras/Q6-1-5-B7.jpg', 'Fotos9Amostras/Q6-5-4-I2.jpg', 'Fotos9Amostras/Q6-6-3-G6.jpg', 'Fotos9Amostras/Q6-3-1-B3.jpg', 'Fotos9Amostras/Q6-2-2-B7.jpg', 'Fotos9Amostras/Q6-3-1-I4.jpg', 'Fotos9Amostras/Q6-1-4-G8.jpg', 'Fotos9Amostras/Q6-6-2-B6.jpg', 'Fotos9Amostras/Q6-3-2-G7.jpg', 'Fotos9Amostras/Q6-1-4-G2.jpg', 'Fotos9Amostras/Q6-3-1-G1.jpg', 'Fotos9Amostras/Q6-5-4-I3.jpg', 'Fotos9Amostras/Q6-6-2-G9.jpg', 'Fotos9Amostras/Q6-5-4-I8.jpg', 'Fotos9Amostras/Q6-4-3-I10.jpg', 'Fotos9Amostras/Q6-9-3-B3.jpg', 'Fotos9Amostras/Q6-8-2-B2.jpg', 'Fotos9Amostras/Q6-8-2-B1.jpg', 'Fotos9Amostras/Q6-3-2-G9.jpg', 'Fotos9Amostras/Q6-6-3-I5.jpg', 'Fotos9Amostras/Q6-5-2-B4.jpg', 'Fotos9Amostras/Q6-5-4-G8.jpg', 'Fotos9Amostras/Q6-1-4-B3.jpg', 'Fotos9Amostras/Q6-5-4-I9.jpg', 'Fotos9Amostras/Q6-2-2-B1.jpg', 'Fotos9Amostras/Q6-5-2-I1.jpg', 'Fotos9Amostras/Q6-9-3-I10.jpg', 'Fotos9Amostras/Q6-1-5-B9.jpg', 'Fotos9Amostras/Q6-7-4-G10.jpg', 'Fotos9Amostras/Q6-2-2-I5.jpg', 'Fotos9Amostras/Q6-2-2-B4.jpg', 'Fotos9Amostras/Q6-2-1-I3.jpg', 'Fotos9Amostras/Q6-1-4-G4.jpg', 'Fotos9Amostras/Q6-7-4-G5.jpg', 'Fotos9Amostras/Q6-1-5-I5.jpg', 'Fotos9Amostras/Q6-7-3-I3.jpg', 'Fotos9Amostras/Q6-3-1-G5.jpg', 'Fotos9Amostras/Q6-6-2-B4.jpg', 'Fotos9Amostras/Q6-5-2-B7.jpg', 'Fotos9Amostras/Q6-3-2-B5.jpg', 'Fotos9Amostras/Q6-6-2-G3.jpg', 'Fotos9Amostras/Q6-6-2-B9.jpg', 'Fotos9Amostras/Q6-3-1-I8.jpg', 'Fotos9Amostras/Q6-8-3-G9.jpg', 'Fotos9Amostras/Q6-3-1-B9.jpg', 'Fotos9Amostras/Q6-4-1-G8.jpg', 'Fotos9Amostras/Q6-2-1-I6.jpg', 'Fotos9Amostras/Q6-5-2-G9.jpg', 'Fotos9Amostras/Q6-9-3-I2.jpg', 'Fotos9Amostras/Q6-5-2-G6.jpg', 'Fotos9Amostras/Q6-5-4-B3.jpg', 'Fotos9Amostras/Q6-7-4-G2.jpg', 'Fotos9Amostras/Q6-2-2-G4.jpg', 'Fotos9Amostras/Q6-7-4-I3.jpg', 'Fotos9Amostras/Q6-9-3-B8.jpg', 'Fotos9Amostras/Q6-5-2-I9.jpg', 'Fotos9Amostras/Q6-5-2-G10.jpg', 'Fotos9Amostras/Q6-7-3-B9.jpg', 'Fotos9Amostras/Q6-8-2-I6.jpg', 'Fotos9Amostras/Q6-5-4-B6.jpg', 'Fotos9Amostras/Q6-9-5-B2.jpg', 'Fotos9Amostras/Q6-6-3-I9.jpg', 'Fotos9Amostras/Q6-1-5-I9.jpg', 'Fotos9Amostras/Q6-9-3-I5.jpg', 'Fotos9Amostras/Q6-8-3-I7.jpg', 'Fotos9Amostras/Q6-8-3-G2.jpg', 'Fotos9Amostras/Q6-5-2-I7.jpg', 'Fotos9Amostras/Q6-3-2-B6.jpg', 'Fotos9Amostras/Q6-3-1-B8.jpg', 'Fotos9Amostras/Q6-3-1-B10.jpg', 'Fotos9Amostras/Q6-8-3-I4.jpg', 'Fotos9Amostras/Q6-3-2-I1.jpg', 'Fotos9Amostras/Q6-1-4-I8.jpg', 'Fotos9Amostras/Q6-2-2-I2.jpg', 'Fotos9Amostras/Q6-2-1-G10.jpg', 'Fotos9Amostras/Q6-7-3-B10.jpg', 'Fotos9Amostras/Q6-1-4-B6.jpg', 'Fotos9Amostras/Q6-9-3-I4.jpg', 'Fotos9Amostras/Q6-1-5-I8.jpg', 'Fotos9Amostras/Q6-3-2-G1.jpg', 'Fotos9Amostras/Q6-1-5-B1.jpg', 'Fotos9Amostras/Q6-3-1-B2.jpg', 'Fotos9Amostras/Q6-4-1-G10.jpg', 'Fotos9Amostras/Q6-7-3-G4.jpg', 'Fotos9Amostras/Q6-5-4-B5.jpg', 'Fotos9Amostras/Q6-5-4-I6.jpg', 'Fotos9Amostras/Q6-2-1-I10.jpg', 'Fotos9Amostras/Q6-6-3-I10.jpg', 'Fotos9Amostras/Q6-3-1-B7.jpg', 'Fotos9Amostras/Q6-2-1-B4.jpg', 'Fotos9Amostras/Q6-5-2-G5.jpg', 'Fotos9Amostras/Q6-5-2-B9.jpg', 'Fotos9Amostras/Q6-8-2-I3.jpg', 'Fotos9Amostras/Q6-4-1-I3.jpg', 'Fotos9Amostras/Q6-2-1-G8.jpg', 'Fotos9Amostras/Q6-8-2-B4.jpg', 'Fotos9Amostras/Q6-7-4-B10.jpg', 'Fotos9Amostras/Q6-2-2-I9.jpg', 'Fotos9Amostras/Q6-3-1-I2.jpg', 'Fotos9Amostras/Q6-1-5-G1.jpg', 'Fotos9Amostras/Q6-7-3-G2.jpg', 'Fotos9Amostras/Q6-2-1-B9.jpg', 'Fotos9Amostras/Q6-7-3-G5.jpg', 'Fotos9Amostras/Q6-7-4-B7.jpg', 'Fotos9Amostras/Q6-3-1-G7.jpg', 'Fotos9Amostras/Q6-9-3-B4.jpg', 'Fotos9Amostras/Q6-3-1-G9.jpg', 'Fotos9Amostras/Q6-3-1-G6.jpg', 'Fotos9Amostras/Q6-7-4-G1.jpg', 'Fotos9Amostras/Q6-8-2-G10.jpg', 'Fotos9Amostras/Q6-8-3-B6.jpg', 'Fotos9Amostras/Q6-1-5-B4.jpg', 'Fotos9Amostras/Q6-2-2-B2.jpg', 'Fotos9Amostras/Q6-8-3-G10.jpg', 'Fotos9Amostras/Q6-6-3-G5.jpg', 'Fotos9Amostras/Q6-7-4-B5.jpg', 'Fotos9Amostras/Q6-3-2-B7.jpg', 'Fotos9Amostras/Q6-2-1-I8.jpg', 'Fotos9Amostras/Q6-3-1-G10.jpg', 'Fotos9Amostras/Q6-4-1-G3.jpg', 'Fotos9Amostras/Q6-9-5-B3.jpg', 'Fotos9Amostras/Q6-9-3-B2.jpg', 'Fotos9Amostras/Q6-7-3-G9.jpg', 'Fotos9Amostras/Q6-7-3-B1.jpg', 'Fotos9Amostras/Q6-9-3-B1.jpg', 'Fotos9Amostras/Q6-4-3-B9.jpg', 'Fotos9Amostras/Q6-9-3-G6.jpg', 'Fotos9Amostras/Q6-1-5-G5.jpg', 'Fotos9Amostras/Q6-2-1-G9.jpg', 'Fotos9Amostras/Q6-9-3-I6.jpg', 'Fotos9Amostras/Q6-2-1-I9.jpg', 'Fotos9Amostras/Q6-5-2-G3.jpg', 'Fotos9Amostras/Q6-8-3-G5.jpg', 'Fotos9Amostras/Q6-1-4-B9.jpg', 'Fotos9Amostras/Q6-3-2-I8.jpg', 'Fotos9Amostras/Q6-6-3-G3.jpg', 'Fotos9Amostras/Q6-4-1-I5.jpg', 'Fotos9Amostras/Q6-7-4-I4.jpg', 'Fotos9Amostras/Q6-6-2-G1.jpg', 'Fotos9Amostras/Q6-5-2-G4.jpg', 'Fotos9Amostras/Q6-4-3-I5.jpg', 'Fotos9Amostras/Q6-8-3-B5.jpg', 'Fotos9Amostras/Q6-5-2-I6.jpg', 'Fotos9Amostras/Q6-2-2-I8.jpg', 'Fotos9Amostras/Q6-4-3-I3.jpg', 'Fotos9Amostras/Q6-1-4-G7.jpg', 'Fotos9Amostras/Q6-2-2-I1.jpg', 'Fotos9Amostras/Q6-1-4-B8.jpg', 'Fotos9Amostras/Q6-9-3-B7.jpg', 'Fotos9Amostras/Q6-4-1-I1.jpg', 'Fotos9Amostras/Q6-2-1-I2.jpg', 'Fotos9Amostras/Q6-5-4-G6.jpg', 'Fotos9Amostras/Q6-6-2-B8.jpg', 'Fotos9Amostras/Q6-8-3-G6.jpg', 'Fotos9Amostras/Q6-3-2-I10.jpg', 'Fotos9Amostras/Q6-8-2-G5.jpg', 'Fotos9Amostras/Q6-5-4-G9.jpg', 'Fotos9Amostras/Q6-5-2-I3.jpg', 'Fotos9Amostras/Q6-7-4-I6.jpg', 'Fotos9Amostras/Q6-9-3-I1.jpg', 'Fotos9Amostras/Q6-7-3-B2.jpg', 'Fotos9Amostras/Q6-8-2-G3.jpg', 'Fotos9Amostras/Q6-2-2-B10.jpg', 'Fotos9Amostras/Q6-1-4-I9.jpg', 'Fotos9Amostras/Q6-4-1-I4.jpg', 'Fotos9Amostras/Q6-9-3-G1.jpg', 'Fotos9Amostras/Q6-7-3-B4.jpg', 'Fotos9Amostras/Q6-2-2-G7.jpg', 'Fotos9Amostras/Q6-4-1-B1.jpg', 'Fotos9Amostras/Q6-3-2-G4.jpg', 'Fotos9Amostras/Q6-9-3-B9.jpg', 'Fotos9Amostras/Q6-2-2-G10.jpg', 'Fotos9Amostras/Q6-8-2-B10.jpg', 'Fotos9Amostras/Q6-7-3-B3.jpg', 'Fotos9Amostras/Q6-3-2-I4.jpg', 'Fotos9Amostras/Q6-7-3-B7.jpg', 'Fotos9Amostras/Q6-6-3-G2.jpg', 'Fotos9Amostras/Q6-4-3-G4.jpg', 'Fotos9Amostras/Q6-2-2-B9.jpg', 'Fotos9Amostras/Q6-8-2-I8.jpg', 'Fotos9Amostras/Q6-2-2-G3.jpg', 'Fotos9Amostras/Q6-9-3-G3.jpg', 'Fotos9Amostras/Q6-3-1-I6.jpg', 'Fotos9Amostras/Q6-4-3-I2.jpg', 'Fotos9Amostras/Q6-6-2-B1.jpg', 'Fotos9Amostras/Q6-8-2-G8.jpg', 'Fotos9Amostras/Q6-7-4-I1.jpg', 'Fotos9Amostras/Q6-8-3-I6.jpg', 'Fotos9Amostras/Q6-3-2-G6.jpg', 'Fotos9Amostras/Q6-3-1-I10.jpg', 'Fotos9Amostras/Q6-3-2-B8.jpg', 'Fotos9Amostras/Q6-1-4-B2.jpg', 'Fotos9Amostras/Q6-2-2-B5.jpg', 'Fotos9Amostras/Q6-2-2-I3.jpg', 'Fotos9Amostras/Q6-1-5-I4.jpg', 'Fotos9Amostras/Q6-3-2-G5.jpg', 'Fotos9Amostras/Q6-8-2-I5.jpg', 'Fotos9Amostras/Q6-1-4-G6.jpg', 'Fotos9Amostras/Q6-4-3-G10.jpg', 'Fotos9Amostras/Q6-8-3-G4.jpg', 'Fotos9Amostras/Q6-4-3-B5.jpg', 'Fotos9Amostras/Q6-2-1-G6.jpg', 'Fotos9Amostras/Q6-2-1-B10.jpg', 'Fotos9Amostras/Q6-8-2-B3.jpg', 'Fotos9Amostras/Q6-1-5-B8.jpg', 'Fotos9Amostras/Q6-1-4-B7.jpg', 'Fotos9Amostras/Q6-9-5-B10.jpg', 'Fotos9Amostras/Q6-1-5-I3.jpg', 'Fotos9Amostras/Q6-6-3-I1.jpg', 'Fotos9Amostras/Q6-4-3-B1.jpg', 'Fotos9Amostras/Q6-1-4-G3.jpg', 'Fotos9Amostras/Q6-9-5-B1.jpg', 'Fotos9Amostras/Q6-6-2-G6.jpg', 'Fotos9Amostras/Q6-5-4-B10.jpg', 'Fotos9Amostras/Q6-7-3-I7.jpg', 'Fotos9Amostras/Q6-6-3-I8.jpg', 'Fotos9Amostras/Q6-1-4-I10.jpg', 'Fotos9Amostras/Q6-7-4-I8.jpg', 'Fotos9Amostras/Q6-4-3-B8.jpg', 'Fotos9Amostras/Q6-2-2-G5.jpg', 'Fotos9Amostras/Q6-4-3-G8.jpg', 'Fotos9Amostras/Q6-1-4-I6.jpg', 'Fotos9Amostras/Q6-8-3-B10.jpg', 'Fotos9Amostras/Q6-9-3-G2.jpg', 'Fotos9Amostras/Q6-5-4-G5.jpg', 'Fotos9Amostras/Q6-5-4-I7.jpg', 'Fotos9Amostras/Q6-1-5-I10.jpg', 'Fotos9Amostras/Q6-8-2-I1.jpg', 'Fotos9Amostras/Q6-4-3-G1.jpg', 'Fotos9Amostras/Q6-4-1-B5.jpg', 'Fotos9Amostras/Q6-2-1-G2.jpg', 'Fotos9Amostras/Q6-9-3-G4.jpg', 'Fotos9Amostras/Q6-2-1-B3.jpg', 'Fotos9Amostras/Q6-5-4-B2.jpg', 'Fotos9Amostras/Q6-3-1-I5.jpg', 'Fotos9Amostras/Q6-4-1-B3.jpg', 'Fotos9Amostras/Q6-2-1-G3.jpg', 'Fotos9Amostras/Q6-6-3-G8.jpg', 'Fotos9Amostras/Q6-3-2-I7.jpg', 'Fotos9Amostras/Q6-3-2-G10.jpg', 'Fotos9Amostras/Q6-4-1-G4.jpg', 'Fotos9Amostras/Q6-4-1-G1.jpg', 'Fotos9Amostras/Q6-2-1-G7.jpg', 'Fotos9Amostras/Q6-1-5-G8.jpg', 'Fotos9Amostras/Q6-2-1-B2.jpg', 'Fotos9Amostras/Q6-2-1-B5.jpg', 'Fotos9Amostras/Q6-5-4-G2.jpg', 'Fotos9Amostras/Q6-4-3-B2.jpg', 'Fotos9Amostras/Q6-9-3-I3.jpg', 'Fotos9Amostras/Q6-3-2-B9.jpg', 'Fotos9Amostras/Q6-2-2-I7.jpg', 'Fotos9Amostras/Q6-7-3-I4.jpg', 'Fotos9Amostras/Q6-3-2-I6.jpg', 'Fotos9Amostras/Q6-8-3-G7.jpg', 'Fotos9Amostras/Q6-4-3-I6.jpg', 'Fotos9Amostras/Q6-5-4-G10.jpg', 'Fotos9Amostras/Q6-5-4-B1.jpg', 'Fotos9Amostras/Q6-1-5-G9.jpg', 'Fotos9Amostras/Q6-7-3-B8.jpg', 'Fotos9Amostras/Q6-1-5-B2.jpg', 'Fotos9Amostras/Q6-6-2-B5.jpg', 'Fotos9Amostras/Q6-1-5-B5.jpg', 'Fotos9Amostras/Q6-7-3-I8.jpg', 'Fotos9Amostras/Q6-6-2-B10.jpg', 'Fotos9Amostras/Q6-3-2-B4.jpg', 'Fotos9Amostras/Q6-2-2-G2.jpg', 'Fotos9Amostras/Q6-3-2-I3.jpg', 'Fotos9Amostras/Q6-4-1-B10.jpg', 'Fotos9Amostras/Q6-4-1-I10.jpg', 'Fotos9Amostras/Q6-7-4-G8.jpg', 'Fotos9Amostras/Q6-1-4-G1.jpg', 'Fotos9Amostras/Q6-9-3-I7.jpg', 'Fotos9Amostras/Q6-7-4-B4.jpg', 'Fotos9Amostras/Q6-3-2-I5.jpg', 'Fotos9Amostras/Q6-4-3-G5.jpg', 'Fotos9Amostras/Q6-4-3-B3.jpg', 'Fotos9Amostras/Q6-4-1-G6.jpg', 'Fotos9Amostras/Q6-5-4-I1.jpg', 'Fotos9Amostras/Q6-1-4-I1.jpg', 'Fotos9Amostras/Q6-9-3-B5.jpg', 'Fotos9Amostras/Q6-7-3-G7.jpg', 'Fotos9Amostras/Q6-7-3-I6.jpg', 'Fotos9Amostras/Q6-1-4-I3.jpg', 'Fotos9Amostras/Q6-8-2-B9.jpg', 'Fotos9Amostras/Q6-4-3-B7.jpg', 'Fotos9Amostras/Q6-9-3-G7.jpg', 'Fotos9Amostras/Q6-1-4-I7.jpg', 'Fotos9Amostras/Q6-4-1-I6.jpg', 'Fotos9Amostras/Q6-5-2-B8.jpg', 'Fotos9Amostras/Q6-5-2-I5.jpg', 'Fotos9Amostras/Q6-9-3-G9.jpg', 'Fotos9Amostras/Q6-4-3-B4.jpg', 'Fotos9Amostras/Q6-7-3-B5.jpg', 'Fotos9Amostras/Q6-8-3-I2.jpg', 'Fotos9Amostras/Q6-2-1-I5.jpg', 'Fotos9Amostras/Q6-5-2-G8.jpg', 'Fotos9Amostras/Q6-9-5-B4.jpg', 'Fotos9Amostras/Q6-7-4-B1.jpg', 'Fotos9Amostras/Q6-4-3-I1.jpg', 'Fotos9Amostras/Q6-1-4-G10.jpg', 'Fotos9Amostras/Q6-3-1-B5.jpg', 'Fotos9Amostras/Q6-6-2-G10.jpg', 'Fotos9Amostras/Q6-1-4-I4.jpg', 'Fotos9Amostras/Q6-7-4-B3.jpg', 'Fotos9Amostras/Q6-4-1-B6.jpg', 'Fotos9Amostras/Q6-8-3-I9.jpg', 'Fotos9Amostras/Q6-3-2-B3.jpg', 'Fotos9Amostras/Q6-1-5-G2.jpg', 'Fotos9Amostras/Q6-8-3-I1.jpg', 'Fotos9Amostras/Q6-1-5-I6.jpg', 'Fotos9Amostras/Q6-4-3-G3.jpg', 'Fotos9Amostras/Q6-2-1-I4.jpg', 'Fotos9Amostras/Q6-8-3-B7.jpg', 'Fotos9Amostras/Q6-4-3-B6.jpg', 'Fotos9Amostras/Q6-5-2-G1.jpg', 'Fotos9Amostras/Q6-8-3-G1.jpg', 'Fotos9Amostras/Q6-4-3-G9.jpg', 'Fotos9Amostras/Q6-2-1-B6.jpg', 'Fotos9Amostras/Q6-2-1-B1.jpg', 'Fotos9Amostras/Q6-1-4-I2.jpg', 'Fotos9Amostras/Q6-1-4-B5.jpg', 'Fotos9Amostras/Q6-3-1-B4.jpg', 'Fotos9Amostras/Q6-9-3-B6.jpg', 'Fotos9Amostras/Q6-3-1-B6.jpg', 'Fotos9Amostras/Q6-3-2-B10.jpg', 'Fotos9Amostras/Q6-3-2-G8.jpg', 'Fotos9Amostras/Q6-8-2-I7.jpg', 'Fotos9Amostras/Q6-6-3-G4.jpg', 'Fotos9Amostras/Q6-5-2-G2.jpg', 'Fotos9Amostras/Q6-8-3-I8.jpg', 'Fotos9Amostras/Q6-8-2-G4.jpg', 'Fotos9Amostras/Q6-8-2-G9.jpg', 'Fotos9Amostras/Q6-7-4-G3.jpg', 'Fotos9Amostras/Q6-3-2-I9.jpg', 'Fotos9Amostras/Q6-6-2-B3.jpg', 'Fotos9Amostras/Q6-2-1-G1.jpg', 'Fotos9Amostras/Q6-3-2-G2.jpg', 'Fotos9Amostras/Q6-5-2-B1.jpg', 'Fotos9Amostras/Q6-8-3-I10.jpg', 'Fotos9Amostras/Q6-1-5-G7.jpg', 'Fotos9Amostras/Q6-4-1-I8.jpg', 'Fotos9Amostras/Q6-3-2-B2.jpg', 'Fotos9Amostras/Q6-7-3-G10.jpg', 'Fotos9Amostras/Q6-4-1-B7.jpg', 'Fotos9Amostras/Q6-4-1-I2.jpg', 'Fotos9Amostras/Q6-5-2-I10.jpg', 'Fotos9Amostras/Q6-8-2-G2.jpg', 'Fotos9Amostras/Q6-3-1-G2.jpg', 'Fotos9Amostras/Q6-2-1-I1.jpg', 'Fotos9Amostras/Q6-1-4-B4.jpg', 'Fotos9Amostras/Q6-2-1-I7.jpg', 'Fotos9Amostras/Q6-1-5-G6.jpg', 'Fotos9Amostras/Q6-6-3-I4.jpg', 'Fotos9Amostras/Q6-2-1-G4.jpg', 'Fotos9Amostras/Q6-7-3-G8.jpg', 'Fotos9Amostras/Q6-1-4-B1.jpg', 'Fotos9Amostras/Q6-2-2-B8.jpg', 'Fotos9Amostras/Q6-1-4-B10.jpg', 'Fotos9Amostras/Q6-5-4-G3.jpg', 'Fotos9Amostras/Q6-1-5-G3.jpg', 'Fotos9Amostras/Q6-5-4-I10.jpg', 'Fotos9Amostras/Q6-1-4-G9.jpg', 'Fotos9Amostras/Q6-8-2-I4.jpg', 'Fotos9Amostras/Q6-7-4-G9.jpg', 'Fotos9Amostras/Q6-3-2-B1.jpg', 'Fotos9Amostras/Q6-4-1-B8.jpg', 'Fotos9Amostras/Q6-6-3-G9.jpg', 'Fotos9Amostras/Q6-7-4-B8.jpg', 'Fotos9Amostras/Q6-8-2-I2.jpg', 'Fotos9Amostras/Q6-6-3-I6.jpg', 'Fotos9Amostras/Q6-8-2-I10.jpg', 'Fotos9Amostras/Q6-5-2-B2.jpg', 'Fotos9Amostras/Q6-4-3-G6.jpg', 'Fotos9Amostras/Q6-4-1-G9.jpg', 'Fotos9Amostras/Q6-7-3-G6.jpg', 'Fotos9Amostras/Q6-7-3-I10.jpg', 'Fotos9Amostras/Q6-7-3-B6.jpg', 'Fotos9Amostras/Q6-3-1-I9.jpg', 'Fotos9Amostras/Q6-5-2-B6.jpg', 'Fotos9Amostras/Q6-7-4-B9.jpg', 'Fotos9Amostras/Q6-5-4-B7.jpg', 'Fotos9Amostras/Q6-4-1-B2.jpg', 'Fotos9Amostras/Q6-5-4-B4.jpg', 'Fotos9Amostras/Q6-4-3-I4.jpg', 'Fotos9Amostras/Q6-5-4-B9.jpg', 'Fotos9Amostras/Q6-3-1-I7.jpg', 'Fotos9Amostras/Q6-4-3-I9.jpg', 'Fotos9Amostras/Q6-8-3-G3.jpg', 'Fotos9Amostras/Q6-4-3-B10.jpg', 'Fotos9Amostras/Q6-8-3-B1.jpg', 'Fotos9Amostras/Q6-2-2-B6.jpg', 'Fotos9Amostras/Q6-1-5-G10.jpg', 'Fotos9Amostras/Q6-8-3-B9.jpg', 'Fotos9Amostras/Q6-5-4-I5.jpg', 'Fotos9Amostras/Q6-1-5-B6.jpg', 'Fotos9Amostras/Q6-2-1-G5.jpg', 'Fotos9Amostras/Q6-2-1-B7.jpg', 'Fotos9Amostras/Q6-6-3-G7.jpg', 'Fotos9Amostras/Q6-6-3-I2.jpg', 'Fotos9Amostras/Q6-7-4-G4.jpg', 'Fotos9Amostras/Q6-2-2-I4.jpg', 'Fotos9Amostras/Q6-5-2-B10.jpg', 'Fotos9Amostras/Q6-1-5-B10.jpg', 'Fotos9Amostras/Q6-8-2-G7.jpg', 'Fotos9Amostras/Q6-8-2-I9.jpg', 'Fotos9Amostras/Q6-4-1-B9.jpg', 'Fotos9Amostras/Q6-8-3-B2.jpg', 'Fotos9Amostras/Q6-8-3-I3.jpg', 'Fotos9Amostras/Q6-4-1-I7.jpg', 'Fotos9Amostras/Q6-2-2-G9.jpg']\n"
          ],
          "name": "stdout"
        }
      ]
    },
    {
      "cell_type": "code",
      "metadata": {
        "id": "MukX2r3ys3tm",
        "colab_type": "code",
        "colab": {}
      },
      "source": [
        "# Find the list elements starting with specific letter\n",
        "subs = 'B'\n",
        "Buraco = [x for x in img_name if re.search(subs, x)] \n",
        "subs = 'G'\n",
        "Grao = [x for x in img_name if re.search(subs, x)] \n",
        "subs = 'I'\n",
        "Indef = [x for x in img_name if re.search(subs, x)] "
      ],
      "execution_count": 0,
      "outputs": []
    },
    {
      "cell_type": "code",
      "metadata": {
        "id": "PWD4B_LtBALu",
        "colab_type": "code",
        "colab": {
          "base_uri": "https://localhost:8080/",
          "height": 90
        },
        "outputId": "d57efe82-cc9f-4b38-ce60-5b0ff4a71345"
      },
      "source": [
        "print(Buraco)\n",
        "print(Grao)\n",
        "print(Indef)"
      ],
      "execution_count": 16,
      "outputs": [
        {
          "output_type": "stream",
          "text": [
            "['Fotos9Amostras/Q6-9-5-B8.jpg', 'Fotos9Amostras/Q6-8-2-B6.jpg', 'Fotos9Amostras/Q6-9-5-B7.jpg', 'Fotos9Amostras/Q6-9-5-B6.jpg', 'Fotos9Amostras/Q6-9-5-B9.jpg', 'Fotos9Amostras/Q6-9-5-B5.jpg', 'Fotos9Amostras/Q6-6-3-B9.jpg', 'Fotos9Amostras/Q6-6-3-B2.jpg', 'Fotos9Amostras/Q6-6-3-B4.jpg', 'Fotos9Amostras/Q6-6-3-B10.jpg', 'Fotos9Amostras/Q6-6-3-B8.jpg', 'Fotos9Amostras/Q6-6-3-B7.jpg', 'Fotos9Amostras/Q6-6-3-B1.jpg', 'Fotos9Amostras/Q6-6-3-B6.jpg', 'Fotos9Amostras/Q6-6-3-B3.jpg', 'Fotos9Amostras/Q6-6-3-B5.jpg', 'Fotos9Amostras/Q6-1-5-B3.jpg', 'Fotos9Amostras/Q6-7-4-B2.jpg', 'Fotos9Amostras/Q6-2-2-B3.jpg', 'Fotos9Amostras/Q6-2-1-B8.jpg', 'Fotos9Amostras/Q6-4-1-B4.jpg', 'Fotos9Amostras/Q6-8-3-B4.jpg', 'Fotos9Amostras/Q6-7-4-B6.jpg', 'Fotos9Amostras/Q6-8-3-B8.jpg', 'Fotos9Amostras/Q6-5-4-B8.jpg', 'Fotos9Amostras/Q6-6-2-B7.jpg', 'Fotos9Amostras/Q6-5-2-B3.jpg', 'Fotos9Amostras/Q6-6-2-B2.jpg', 'Fotos9Amostras/Q6-9-3-B10.jpg', 'Fotos9Amostras/Q6-8-2-B5.jpg', 'Fotos9Amostras/Q6-3-1-B1.jpg', 'Fotos9Amostras/Q6-5-2-B5.jpg', 'Fotos9Amostras/Q6-8-3-B3.jpg', 'Fotos9Amostras/Q6-8-2-B7.jpg', 'Fotos9Amostras/Q6-8-2-B8.jpg', 'Fotos9Amostras/Q6-1-5-B7.jpg', 'Fotos9Amostras/Q6-3-1-B3.jpg', 'Fotos9Amostras/Q6-2-2-B7.jpg', 'Fotos9Amostras/Q6-6-2-B6.jpg', 'Fotos9Amostras/Q6-9-3-B3.jpg', 'Fotos9Amostras/Q6-8-2-B2.jpg', 'Fotos9Amostras/Q6-8-2-B1.jpg', 'Fotos9Amostras/Q6-5-2-B4.jpg', 'Fotos9Amostras/Q6-1-4-B3.jpg', 'Fotos9Amostras/Q6-2-2-B1.jpg', 'Fotos9Amostras/Q6-1-5-B9.jpg', 'Fotos9Amostras/Q6-2-2-B4.jpg', 'Fotos9Amostras/Q6-6-2-B4.jpg', 'Fotos9Amostras/Q6-5-2-B7.jpg', 'Fotos9Amostras/Q6-3-2-B5.jpg', 'Fotos9Amostras/Q6-6-2-B9.jpg', 'Fotos9Amostras/Q6-3-1-B9.jpg', 'Fotos9Amostras/Q6-5-4-B3.jpg', 'Fotos9Amostras/Q6-9-3-B8.jpg', 'Fotos9Amostras/Q6-7-3-B9.jpg', 'Fotos9Amostras/Q6-5-4-B6.jpg', 'Fotos9Amostras/Q6-9-5-B2.jpg', 'Fotos9Amostras/Q6-3-2-B6.jpg', 'Fotos9Amostras/Q6-3-1-B8.jpg', 'Fotos9Amostras/Q6-3-1-B10.jpg', 'Fotos9Amostras/Q6-7-3-B10.jpg', 'Fotos9Amostras/Q6-1-4-B6.jpg', 'Fotos9Amostras/Q6-1-5-B1.jpg', 'Fotos9Amostras/Q6-3-1-B2.jpg', 'Fotos9Amostras/Q6-5-4-B5.jpg', 'Fotos9Amostras/Q6-3-1-B7.jpg', 'Fotos9Amostras/Q6-2-1-B4.jpg', 'Fotos9Amostras/Q6-5-2-B9.jpg', 'Fotos9Amostras/Q6-8-2-B4.jpg', 'Fotos9Amostras/Q6-7-4-B10.jpg', 'Fotos9Amostras/Q6-2-1-B9.jpg', 'Fotos9Amostras/Q6-7-4-B7.jpg', 'Fotos9Amostras/Q6-9-3-B4.jpg', 'Fotos9Amostras/Q6-8-3-B6.jpg', 'Fotos9Amostras/Q6-1-5-B4.jpg', 'Fotos9Amostras/Q6-2-2-B2.jpg', 'Fotos9Amostras/Q6-7-4-B5.jpg', 'Fotos9Amostras/Q6-3-2-B7.jpg', 'Fotos9Amostras/Q6-9-5-B3.jpg', 'Fotos9Amostras/Q6-9-3-B2.jpg', 'Fotos9Amostras/Q6-7-3-B1.jpg', 'Fotos9Amostras/Q6-9-3-B1.jpg', 'Fotos9Amostras/Q6-4-3-B9.jpg', 'Fotos9Amostras/Q6-1-4-B9.jpg', 'Fotos9Amostras/Q6-8-3-B5.jpg', 'Fotos9Amostras/Q6-1-4-B8.jpg', 'Fotos9Amostras/Q6-9-3-B7.jpg', 'Fotos9Amostras/Q6-6-2-B8.jpg', 'Fotos9Amostras/Q6-7-3-B2.jpg', 'Fotos9Amostras/Q6-2-2-B10.jpg', 'Fotos9Amostras/Q6-7-3-B4.jpg', 'Fotos9Amostras/Q6-4-1-B1.jpg', 'Fotos9Amostras/Q6-9-3-B9.jpg', 'Fotos9Amostras/Q6-8-2-B10.jpg', 'Fotos9Amostras/Q6-7-3-B3.jpg', 'Fotos9Amostras/Q6-7-3-B7.jpg', 'Fotos9Amostras/Q6-2-2-B9.jpg', 'Fotos9Amostras/Q6-6-2-B1.jpg', 'Fotos9Amostras/Q6-3-2-B8.jpg', 'Fotos9Amostras/Q6-1-4-B2.jpg', 'Fotos9Amostras/Q6-2-2-B5.jpg', 'Fotos9Amostras/Q6-4-3-B5.jpg', 'Fotos9Amostras/Q6-2-1-B10.jpg', 'Fotos9Amostras/Q6-8-2-B3.jpg', 'Fotos9Amostras/Q6-1-5-B8.jpg', 'Fotos9Amostras/Q6-1-4-B7.jpg', 'Fotos9Amostras/Q6-9-5-B10.jpg', 'Fotos9Amostras/Q6-4-3-B1.jpg', 'Fotos9Amostras/Q6-9-5-B1.jpg', 'Fotos9Amostras/Q6-5-4-B10.jpg', 'Fotos9Amostras/Q6-4-3-B8.jpg', 'Fotos9Amostras/Q6-8-3-B10.jpg', 'Fotos9Amostras/Q6-4-1-B5.jpg', 'Fotos9Amostras/Q6-2-1-B3.jpg', 'Fotos9Amostras/Q6-5-4-B2.jpg', 'Fotos9Amostras/Q6-4-1-B3.jpg', 'Fotos9Amostras/Q6-2-1-B2.jpg', 'Fotos9Amostras/Q6-2-1-B5.jpg', 'Fotos9Amostras/Q6-4-3-B2.jpg', 'Fotos9Amostras/Q6-3-2-B9.jpg', 'Fotos9Amostras/Q6-5-4-B1.jpg', 'Fotos9Amostras/Q6-7-3-B8.jpg', 'Fotos9Amostras/Q6-1-5-B2.jpg', 'Fotos9Amostras/Q6-6-2-B5.jpg', 'Fotos9Amostras/Q6-1-5-B5.jpg', 'Fotos9Amostras/Q6-6-2-B10.jpg', 'Fotos9Amostras/Q6-3-2-B4.jpg', 'Fotos9Amostras/Q6-4-1-B10.jpg', 'Fotos9Amostras/Q6-7-4-B4.jpg', 'Fotos9Amostras/Q6-4-3-B3.jpg', 'Fotos9Amostras/Q6-9-3-B5.jpg', 'Fotos9Amostras/Q6-8-2-B9.jpg', 'Fotos9Amostras/Q6-4-3-B7.jpg', 'Fotos9Amostras/Q6-5-2-B8.jpg', 'Fotos9Amostras/Q6-4-3-B4.jpg', 'Fotos9Amostras/Q6-7-3-B5.jpg', 'Fotos9Amostras/Q6-9-5-B4.jpg', 'Fotos9Amostras/Q6-7-4-B1.jpg', 'Fotos9Amostras/Q6-3-1-B5.jpg', 'Fotos9Amostras/Q6-7-4-B3.jpg', 'Fotos9Amostras/Q6-4-1-B6.jpg', 'Fotos9Amostras/Q6-3-2-B3.jpg', 'Fotos9Amostras/Q6-8-3-B7.jpg', 'Fotos9Amostras/Q6-4-3-B6.jpg', 'Fotos9Amostras/Q6-2-1-B6.jpg', 'Fotos9Amostras/Q6-2-1-B1.jpg', 'Fotos9Amostras/Q6-1-4-B5.jpg', 'Fotos9Amostras/Q6-3-1-B4.jpg', 'Fotos9Amostras/Q6-9-3-B6.jpg', 'Fotos9Amostras/Q6-3-1-B6.jpg', 'Fotos9Amostras/Q6-3-2-B10.jpg', 'Fotos9Amostras/Q6-6-2-B3.jpg', 'Fotos9Amostras/Q6-5-2-B1.jpg', 'Fotos9Amostras/Q6-3-2-B2.jpg', 'Fotos9Amostras/Q6-4-1-B7.jpg', 'Fotos9Amostras/Q6-1-4-B4.jpg', 'Fotos9Amostras/Q6-1-4-B1.jpg', 'Fotos9Amostras/Q6-2-2-B8.jpg', 'Fotos9Amostras/Q6-1-4-B10.jpg', 'Fotos9Amostras/Q6-3-2-B1.jpg', 'Fotos9Amostras/Q6-4-1-B8.jpg', 'Fotos9Amostras/Q6-7-4-B8.jpg', 'Fotos9Amostras/Q6-5-2-B2.jpg', 'Fotos9Amostras/Q6-7-3-B6.jpg', 'Fotos9Amostras/Q6-5-2-B6.jpg', 'Fotos9Amostras/Q6-7-4-B9.jpg', 'Fotos9Amostras/Q6-5-4-B7.jpg', 'Fotos9Amostras/Q6-4-1-B2.jpg', 'Fotos9Amostras/Q6-5-4-B4.jpg', 'Fotos9Amostras/Q6-5-4-B9.jpg', 'Fotos9Amostras/Q6-4-3-B10.jpg', 'Fotos9Amostras/Q6-8-3-B1.jpg', 'Fotos9Amostras/Q6-2-2-B6.jpg', 'Fotos9Amostras/Q6-8-3-B9.jpg', 'Fotos9Amostras/Q6-1-5-B6.jpg', 'Fotos9Amostras/Q6-2-1-B7.jpg', 'Fotos9Amostras/Q6-5-2-B10.jpg', 'Fotos9Amostras/Q6-1-5-B10.jpg', 'Fotos9Amostras/Q6-4-1-B9.jpg', 'Fotos9Amostras/Q6-8-3-B2.jpg']\n",
            "['Fotos9Amostras/Q6-9-5-G9.jpg', 'Fotos9Amostras/Q6-9-5-G6.jpg', 'Fotos9Amostras/Q6-8-2-G1.jpg', 'Fotos9Amostras/Q6-7-3-G1.jpg', 'Fotos9Amostras/Q6-9-5-G1.jpg', 'Fotos9Amostras/Q6-9-5-G7.jpg', 'Fotos9Amostras/Q6-9-5-G4.jpg', 'Fotos9Amostras/Q6-9-5-G10.jpg', 'Fotos9Amostras/Q6-9-5-G2.jpg', 'Fotos9Amostras/Q6-9-5-G8.jpg', 'Fotos9Amostras/Q6-9-5-G3.jpg', 'Fotos9Amostras/Q6-9-5-G5.jpg', 'Fotos9Amostras/Q6-6-2-G5.jpg', 'Fotos9Amostras/Q6-6-2-G2.jpg', 'Fotos9Amostras/Q6-6-2-G7.jpg', 'Fotos9Amostras/Q6-6-2-G4.jpg', 'Fotos9Amostras/Q6-6-2-G8.jpg', 'Fotos9Amostras/Q6-3-1-G4.jpg', 'Fotos9Amostras/Q6-7-4-G6.jpg', 'Fotos9Amostras/Q6-2-2-G1.jpg', 'Fotos9Amostras/Q6-3-1-G3.jpg', 'Fotos9Amostras/Q6-6-3-G1.jpg', 'Fotos9Amostras/Q6-4-3-G7.jpg', 'Fotos9Amostras/Q6-1-4-G5.jpg', 'Fotos9Amostras/Q6-3-1-G8.jpg', 'Fotos9Amostras/Q6-1-5-G4.jpg', 'Fotos9Amostras/Q6-2-2-G8.jpg', 'Fotos9Amostras/Q6-4-3-G2.jpg', 'Fotos9Amostras/Q6-5-2-G7.jpg', 'Fotos9Amostras/Q6-8-3-G8.jpg', 'Fotos9Amostras/Q6-6-3-G10.jpg', 'Fotos9Amostras/Q6-4-1-G2.jpg', 'Fotos9Amostras/Q6-5-4-G1.jpg', 'Fotos9Amostras/Q6-3-2-G3.jpg', 'Fotos9Amostras/Q6-9-3-G5.jpg', 'Fotos9Amostras/Q6-7-3-G3.jpg', 'Fotos9Amostras/Q6-9-3-G10.jpg', 'Fotos9Amostras/Q6-4-1-G7.jpg', 'Fotos9Amostras/Q6-9-3-G8.jpg', 'Fotos9Amostras/Q6-5-4-G4.jpg', 'Fotos9Amostras/Q6-2-2-G6.jpg', 'Fotos9Amostras/Q6-7-4-G7.jpg', 'Fotos9Amostras/Q6-8-2-G6.jpg', 'Fotos9Amostras/Q6-4-1-G5.jpg', 'Fotos9Amostras/Q6-5-4-G7.jpg', 'Fotos9Amostras/Q6-6-3-G6.jpg', 'Fotos9Amostras/Q6-1-4-G8.jpg', 'Fotos9Amostras/Q6-3-2-G7.jpg', 'Fotos9Amostras/Q6-1-4-G2.jpg', 'Fotos9Amostras/Q6-3-1-G1.jpg', 'Fotos9Amostras/Q6-6-2-G9.jpg', 'Fotos9Amostras/Q6-3-2-G9.jpg', 'Fotos9Amostras/Q6-5-4-G8.jpg', 'Fotos9Amostras/Q6-7-4-G10.jpg', 'Fotos9Amostras/Q6-1-4-G4.jpg', 'Fotos9Amostras/Q6-7-4-G5.jpg', 'Fotos9Amostras/Q6-3-1-G5.jpg', 'Fotos9Amostras/Q6-6-2-G3.jpg', 'Fotos9Amostras/Q6-8-3-G9.jpg', 'Fotos9Amostras/Q6-4-1-G8.jpg', 'Fotos9Amostras/Q6-5-2-G9.jpg', 'Fotos9Amostras/Q6-5-2-G6.jpg', 'Fotos9Amostras/Q6-7-4-G2.jpg', 'Fotos9Amostras/Q6-2-2-G4.jpg', 'Fotos9Amostras/Q6-5-2-G10.jpg', 'Fotos9Amostras/Q6-8-3-G2.jpg', 'Fotos9Amostras/Q6-2-1-G10.jpg', 'Fotos9Amostras/Q6-3-2-G1.jpg', 'Fotos9Amostras/Q6-4-1-G10.jpg', 'Fotos9Amostras/Q6-7-3-G4.jpg', 'Fotos9Amostras/Q6-5-2-G5.jpg', 'Fotos9Amostras/Q6-2-1-G8.jpg', 'Fotos9Amostras/Q6-1-5-G1.jpg', 'Fotos9Amostras/Q6-7-3-G2.jpg', 'Fotos9Amostras/Q6-7-3-G5.jpg', 'Fotos9Amostras/Q6-3-1-G7.jpg', 'Fotos9Amostras/Q6-3-1-G9.jpg', 'Fotos9Amostras/Q6-3-1-G6.jpg', 'Fotos9Amostras/Q6-7-4-G1.jpg', 'Fotos9Amostras/Q6-8-2-G10.jpg', 'Fotos9Amostras/Q6-8-3-G10.jpg', 'Fotos9Amostras/Q6-6-3-G5.jpg', 'Fotos9Amostras/Q6-3-1-G10.jpg', 'Fotos9Amostras/Q6-4-1-G3.jpg', 'Fotos9Amostras/Q6-7-3-G9.jpg', 'Fotos9Amostras/Q6-9-3-G6.jpg', 'Fotos9Amostras/Q6-1-5-G5.jpg', 'Fotos9Amostras/Q6-2-1-G9.jpg', 'Fotos9Amostras/Q6-5-2-G3.jpg', 'Fotos9Amostras/Q6-8-3-G5.jpg', 'Fotos9Amostras/Q6-6-3-G3.jpg', 'Fotos9Amostras/Q6-6-2-G1.jpg', 'Fotos9Amostras/Q6-5-2-G4.jpg', 'Fotos9Amostras/Q6-1-4-G7.jpg', 'Fotos9Amostras/Q6-5-4-G6.jpg', 'Fotos9Amostras/Q6-8-3-G6.jpg', 'Fotos9Amostras/Q6-8-2-G5.jpg', 'Fotos9Amostras/Q6-5-4-G9.jpg', 'Fotos9Amostras/Q6-8-2-G3.jpg', 'Fotos9Amostras/Q6-9-3-G1.jpg', 'Fotos9Amostras/Q6-2-2-G7.jpg', 'Fotos9Amostras/Q6-3-2-G4.jpg', 'Fotos9Amostras/Q6-2-2-G10.jpg', 'Fotos9Amostras/Q6-6-3-G2.jpg', 'Fotos9Amostras/Q6-4-3-G4.jpg', 'Fotos9Amostras/Q6-2-2-G3.jpg', 'Fotos9Amostras/Q6-9-3-G3.jpg', 'Fotos9Amostras/Q6-8-2-G8.jpg', 'Fotos9Amostras/Q6-3-2-G6.jpg', 'Fotos9Amostras/Q6-3-2-G5.jpg', 'Fotos9Amostras/Q6-1-4-G6.jpg', 'Fotos9Amostras/Q6-4-3-G10.jpg', 'Fotos9Amostras/Q6-8-3-G4.jpg', 'Fotos9Amostras/Q6-2-1-G6.jpg', 'Fotos9Amostras/Q6-1-4-G3.jpg', 'Fotos9Amostras/Q6-6-2-G6.jpg', 'Fotos9Amostras/Q6-2-2-G5.jpg', 'Fotos9Amostras/Q6-4-3-G8.jpg', 'Fotos9Amostras/Q6-9-3-G2.jpg', 'Fotos9Amostras/Q6-5-4-G5.jpg', 'Fotos9Amostras/Q6-4-3-G1.jpg', 'Fotos9Amostras/Q6-2-1-G2.jpg', 'Fotos9Amostras/Q6-9-3-G4.jpg', 'Fotos9Amostras/Q6-2-1-G3.jpg', 'Fotos9Amostras/Q6-6-3-G8.jpg', 'Fotos9Amostras/Q6-3-2-G10.jpg', 'Fotos9Amostras/Q6-4-1-G4.jpg', 'Fotos9Amostras/Q6-4-1-G1.jpg', 'Fotos9Amostras/Q6-2-1-G7.jpg', 'Fotos9Amostras/Q6-1-5-G8.jpg', 'Fotos9Amostras/Q6-5-4-G2.jpg', 'Fotos9Amostras/Q6-8-3-G7.jpg', 'Fotos9Amostras/Q6-5-4-G10.jpg', 'Fotos9Amostras/Q6-1-5-G9.jpg', 'Fotos9Amostras/Q6-2-2-G2.jpg', 'Fotos9Amostras/Q6-7-4-G8.jpg', 'Fotos9Amostras/Q6-1-4-G1.jpg', 'Fotos9Amostras/Q6-4-3-G5.jpg', 'Fotos9Amostras/Q6-4-1-G6.jpg', 'Fotos9Amostras/Q6-7-3-G7.jpg', 'Fotos9Amostras/Q6-9-3-G7.jpg', 'Fotos9Amostras/Q6-9-3-G9.jpg', 'Fotos9Amostras/Q6-5-2-G8.jpg', 'Fotos9Amostras/Q6-1-4-G10.jpg', 'Fotos9Amostras/Q6-6-2-G10.jpg', 'Fotos9Amostras/Q6-1-5-G2.jpg', 'Fotos9Amostras/Q6-4-3-G3.jpg', 'Fotos9Amostras/Q6-5-2-G1.jpg', 'Fotos9Amostras/Q6-8-3-G1.jpg', 'Fotos9Amostras/Q6-4-3-G9.jpg', 'Fotos9Amostras/Q6-3-2-G8.jpg', 'Fotos9Amostras/Q6-6-3-G4.jpg', 'Fotos9Amostras/Q6-5-2-G2.jpg', 'Fotos9Amostras/Q6-8-2-G4.jpg', 'Fotos9Amostras/Q6-8-2-G9.jpg', 'Fotos9Amostras/Q6-7-4-G3.jpg', 'Fotos9Amostras/Q6-2-1-G1.jpg', 'Fotos9Amostras/Q6-3-2-G2.jpg', 'Fotos9Amostras/Q6-1-5-G7.jpg', 'Fotos9Amostras/Q6-7-3-G10.jpg', 'Fotos9Amostras/Q6-8-2-G2.jpg', 'Fotos9Amostras/Q6-3-1-G2.jpg', 'Fotos9Amostras/Q6-1-5-G6.jpg', 'Fotos9Amostras/Q6-2-1-G4.jpg', 'Fotos9Amostras/Q6-7-3-G8.jpg', 'Fotos9Amostras/Q6-5-4-G3.jpg', 'Fotos9Amostras/Q6-1-5-G3.jpg', 'Fotos9Amostras/Q6-1-4-G9.jpg', 'Fotos9Amostras/Q6-7-4-G9.jpg', 'Fotos9Amostras/Q6-6-3-G9.jpg', 'Fotos9Amostras/Q6-4-3-G6.jpg', 'Fotos9Amostras/Q6-4-1-G9.jpg', 'Fotos9Amostras/Q6-7-3-G6.jpg', 'Fotos9Amostras/Q6-8-3-G3.jpg', 'Fotos9Amostras/Q6-1-5-G10.jpg', 'Fotos9Amostras/Q6-2-1-G5.jpg', 'Fotos9Amostras/Q6-6-3-G7.jpg', 'Fotos9Amostras/Q6-7-4-G4.jpg', 'Fotos9Amostras/Q6-8-2-G7.jpg', 'Fotos9Amostras/Q6-2-2-G9.jpg']\n",
            "['Fotos9Amostras/Q6-9-5-I8.jpg', 'Fotos9Amostras/Q6-6-3-I3.jpg', 'Fotos9Amostras/Q6-7-3-I1.jpg', 'Fotos9Amostras/Q6-8-3-I5.jpg', 'Fotos9Amostras/Q6-9-5-I3.jpg', 'Fotos9Amostras/Q6-9-5-I1.jpg', 'Fotos9Amostras/Q6-9-5-I4.jpg', 'Fotos9Amostras/Q6-9-5-I2.jpg', 'Fotos9Amostras/Q6-9-5-I7.jpg', 'Fotos9Amostras/Q6-9-5-I6.jpg', 'Fotos9Amostras/Q6-9-5-I10.jpg', 'Fotos9Amostras/Q6-9-5-I5.jpg', 'Fotos9Amostras/Q6-9-5-I9.jpg', 'Fotos9Amostras/Q6-6-2-I7.jpg', 'Fotos9Amostras/Q6-6-2-I2.jpg', 'Fotos9Amostras/Q6-6-2-I3.jpg', 'Fotos9Amostras/Q6-6-2-I6.jpg', 'Fotos9Amostras/Q6-6-2-I1.jpg', 'Fotos9Amostras/Q6-6-2-I8.jpg', 'Fotos9Amostras/Q6-6-2-I9.jpg', 'Fotos9Amostras/Q6-6-2-I4.jpg', 'Fotos9Amostras/Q6-6-2-I5.jpg', 'Fotos9Amostras/Q6-6-2-I10.jpg', 'Fotos9Amostras/Q6-2-2-I10.jpg', 'Fotos9Amostras/Q6-1-5-I7.jpg', 'Fotos9Amostras/Q6-1-5-I2.jpg', 'Fotos9Amostras/Q6-1-4-I5.jpg', 'Fotos9Amostras/Q6-6-3-I7.jpg', 'Fotos9Amostras/Q6-7-4-I5.jpg', 'Fotos9Amostras/Q6-7-4-I7.jpg', 'Fotos9Amostras/Q6-7-3-I2.jpg', 'Fotos9Amostras/Q6-4-1-I9.jpg', 'Fotos9Amostras/Q6-7-4-I10.jpg', 'Fotos9Amostras/Q6-2-2-I6.jpg', 'Fotos9Amostras/Q6-5-4-I4.jpg', 'Fotos9Amostras/Q6-9-3-I9.jpg', 'Fotos9Amostras/Q6-5-2-I4.jpg', 'Fotos9Amostras/Q6-1-5-I1.jpg', 'Fotos9Amostras/Q6-3-1-I3.jpg', 'Fotos9Amostras/Q6-7-4-I2.jpg', 'Fotos9Amostras/Q6-9-3-I8.jpg', 'Fotos9Amostras/Q6-5-2-I2.jpg', 'Fotos9Amostras/Q6-3-1-I1.jpg', 'Fotos9Amostras/Q6-4-3-I8.jpg', 'Fotos9Amostras/Q6-4-3-I7.jpg', 'Fotos9Amostras/Q6-7-4-I9.jpg', 'Fotos9Amostras/Q6-5-2-I8.jpg', 'Fotos9Amostras/Q6-7-3-I9.jpg', 'Fotos9Amostras/Q6-7-3-I5.jpg', 'Fotos9Amostras/Q6-3-2-I2.jpg', 'Fotos9Amostras/Q6-5-4-I2.jpg', 'Fotos9Amostras/Q6-3-1-I4.jpg', 'Fotos9Amostras/Q6-5-4-I3.jpg', 'Fotos9Amostras/Q6-5-4-I8.jpg', 'Fotos9Amostras/Q6-4-3-I10.jpg', 'Fotos9Amostras/Q6-6-3-I5.jpg', 'Fotos9Amostras/Q6-5-4-I9.jpg', 'Fotos9Amostras/Q6-5-2-I1.jpg', 'Fotos9Amostras/Q6-9-3-I10.jpg', 'Fotos9Amostras/Q6-2-2-I5.jpg', 'Fotos9Amostras/Q6-2-1-I3.jpg', 'Fotos9Amostras/Q6-1-5-I5.jpg', 'Fotos9Amostras/Q6-7-3-I3.jpg', 'Fotos9Amostras/Q6-3-1-I8.jpg', 'Fotos9Amostras/Q6-2-1-I6.jpg', 'Fotos9Amostras/Q6-9-3-I2.jpg', 'Fotos9Amostras/Q6-7-4-I3.jpg', 'Fotos9Amostras/Q6-5-2-I9.jpg', 'Fotos9Amostras/Q6-8-2-I6.jpg', 'Fotos9Amostras/Q6-6-3-I9.jpg', 'Fotos9Amostras/Q6-1-5-I9.jpg', 'Fotos9Amostras/Q6-9-3-I5.jpg', 'Fotos9Amostras/Q6-8-3-I7.jpg', 'Fotos9Amostras/Q6-5-2-I7.jpg', 'Fotos9Amostras/Q6-8-3-I4.jpg', 'Fotos9Amostras/Q6-3-2-I1.jpg', 'Fotos9Amostras/Q6-1-4-I8.jpg', 'Fotos9Amostras/Q6-2-2-I2.jpg', 'Fotos9Amostras/Q6-9-3-I4.jpg', 'Fotos9Amostras/Q6-1-5-I8.jpg', 'Fotos9Amostras/Q6-5-4-I6.jpg', 'Fotos9Amostras/Q6-2-1-I10.jpg', 'Fotos9Amostras/Q6-6-3-I10.jpg', 'Fotos9Amostras/Q6-8-2-I3.jpg', 'Fotos9Amostras/Q6-4-1-I3.jpg', 'Fotos9Amostras/Q6-2-2-I9.jpg', 'Fotos9Amostras/Q6-3-1-I2.jpg', 'Fotos9Amostras/Q6-2-1-I8.jpg', 'Fotos9Amostras/Q6-9-3-I6.jpg', 'Fotos9Amostras/Q6-2-1-I9.jpg', 'Fotos9Amostras/Q6-3-2-I8.jpg', 'Fotos9Amostras/Q6-4-1-I5.jpg', 'Fotos9Amostras/Q6-7-4-I4.jpg', 'Fotos9Amostras/Q6-4-3-I5.jpg', 'Fotos9Amostras/Q6-5-2-I6.jpg', 'Fotos9Amostras/Q6-2-2-I8.jpg', 'Fotos9Amostras/Q6-4-3-I3.jpg', 'Fotos9Amostras/Q6-2-2-I1.jpg', 'Fotos9Amostras/Q6-4-1-I1.jpg', 'Fotos9Amostras/Q6-2-1-I2.jpg', 'Fotos9Amostras/Q6-3-2-I10.jpg', 'Fotos9Amostras/Q6-5-2-I3.jpg', 'Fotos9Amostras/Q6-7-4-I6.jpg', 'Fotos9Amostras/Q6-9-3-I1.jpg', 'Fotos9Amostras/Q6-1-4-I9.jpg', 'Fotos9Amostras/Q6-4-1-I4.jpg', 'Fotos9Amostras/Q6-3-2-I4.jpg', 'Fotos9Amostras/Q6-8-2-I8.jpg', 'Fotos9Amostras/Q6-3-1-I6.jpg', 'Fotos9Amostras/Q6-4-3-I2.jpg', 'Fotos9Amostras/Q6-7-4-I1.jpg', 'Fotos9Amostras/Q6-8-3-I6.jpg', 'Fotos9Amostras/Q6-3-1-I10.jpg', 'Fotos9Amostras/Q6-2-2-I3.jpg', 'Fotos9Amostras/Q6-1-5-I4.jpg', 'Fotos9Amostras/Q6-8-2-I5.jpg', 'Fotos9Amostras/Q6-1-5-I3.jpg', 'Fotos9Amostras/Q6-6-3-I1.jpg', 'Fotos9Amostras/Q6-7-3-I7.jpg', 'Fotos9Amostras/Q6-6-3-I8.jpg', 'Fotos9Amostras/Q6-1-4-I10.jpg', 'Fotos9Amostras/Q6-7-4-I8.jpg', 'Fotos9Amostras/Q6-1-4-I6.jpg', 'Fotos9Amostras/Q6-5-4-I7.jpg', 'Fotos9Amostras/Q6-1-5-I10.jpg', 'Fotos9Amostras/Q6-8-2-I1.jpg', 'Fotos9Amostras/Q6-3-1-I5.jpg', 'Fotos9Amostras/Q6-3-2-I7.jpg', 'Fotos9Amostras/Q6-9-3-I3.jpg', 'Fotos9Amostras/Q6-2-2-I7.jpg', 'Fotos9Amostras/Q6-7-3-I4.jpg', 'Fotos9Amostras/Q6-3-2-I6.jpg', 'Fotos9Amostras/Q6-4-3-I6.jpg', 'Fotos9Amostras/Q6-7-3-I8.jpg', 'Fotos9Amostras/Q6-3-2-I3.jpg', 'Fotos9Amostras/Q6-4-1-I10.jpg', 'Fotos9Amostras/Q6-9-3-I7.jpg', 'Fotos9Amostras/Q6-3-2-I5.jpg', 'Fotos9Amostras/Q6-5-4-I1.jpg', 'Fotos9Amostras/Q6-1-4-I1.jpg', 'Fotos9Amostras/Q6-7-3-I6.jpg', 'Fotos9Amostras/Q6-1-4-I3.jpg', 'Fotos9Amostras/Q6-1-4-I7.jpg', 'Fotos9Amostras/Q6-4-1-I6.jpg', 'Fotos9Amostras/Q6-5-2-I5.jpg', 'Fotos9Amostras/Q6-8-3-I2.jpg', 'Fotos9Amostras/Q6-2-1-I5.jpg', 'Fotos9Amostras/Q6-4-3-I1.jpg', 'Fotos9Amostras/Q6-1-4-I4.jpg', 'Fotos9Amostras/Q6-8-3-I9.jpg', 'Fotos9Amostras/Q6-8-3-I1.jpg', 'Fotos9Amostras/Q6-1-5-I6.jpg', 'Fotos9Amostras/Q6-2-1-I4.jpg', 'Fotos9Amostras/Q6-1-4-I2.jpg', 'Fotos9Amostras/Q6-8-2-I7.jpg', 'Fotos9Amostras/Q6-8-3-I8.jpg', 'Fotos9Amostras/Q6-3-2-I9.jpg', 'Fotos9Amostras/Q6-8-3-I10.jpg', 'Fotos9Amostras/Q6-4-1-I8.jpg', 'Fotos9Amostras/Q6-4-1-I2.jpg', 'Fotos9Amostras/Q6-5-2-I10.jpg', 'Fotos9Amostras/Q6-2-1-I1.jpg', 'Fotos9Amostras/Q6-2-1-I7.jpg', 'Fotos9Amostras/Q6-6-3-I4.jpg', 'Fotos9Amostras/Q6-5-4-I10.jpg', 'Fotos9Amostras/Q6-8-2-I4.jpg', 'Fotos9Amostras/Q6-8-2-I2.jpg', 'Fotos9Amostras/Q6-6-3-I6.jpg', 'Fotos9Amostras/Q6-8-2-I10.jpg', 'Fotos9Amostras/Q6-7-3-I10.jpg', 'Fotos9Amostras/Q6-3-1-I9.jpg', 'Fotos9Amostras/Q6-4-3-I4.jpg', 'Fotos9Amostras/Q6-3-1-I7.jpg', 'Fotos9Amostras/Q6-4-3-I9.jpg', 'Fotos9Amostras/Q6-5-4-I5.jpg', 'Fotos9Amostras/Q6-6-3-I2.jpg', 'Fotos9Amostras/Q6-2-2-I4.jpg', 'Fotos9Amostras/Q6-8-2-I9.jpg', 'Fotos9Amostras/Q6-8-3-I3.jpg', 'Fotos9Amostras/Q6-4-1-I7.jpg']\n"
          ],
          "name": "stdout"
        }
      ]
    },
    {
      "cell_type": "code",
      "metadata": {
        "id": "WkQzQVXn3k42",
        "colab_type": "code",
        "outputId": "a267add3-e4fb-486e-e3c1-dc5948fcda09",
        "colab": {
          "base_uri": "https://localhost:8080/",
          "height": 371
        }
      },
      "source": [
        "# find df texture for a given picture\n",
        "df=Go2Mahotas.Mahotas(ww[0],Size,Sub_Size,Crop,img_name)   # gotoMahotas junta Mahotas com outros calculos\n",
        "print(df)"
      ],
      "execution_count": 17,
      "outputs": [
        {
          "output_type": "stream",
          "text": [
            "         ASM   constrast    correl  ...  dif entropy      IMC1      IMC2\n",
            "0   0.052758  203.298611  0.152889  ...     2.785192 -0.743669  0.996773\n",
            "1   0.055845   31.020833  0.342875  ...     2.670405 -0.703922  0.994526\n",
            "2   0.063465   32.423611  0.190614  ...     2.681161 -0.684040  0.992619\n",
            "3   0.060378   30.333333  0.339750  ...     2.689808 -0.673151  0.992236\n",
            "4   0.052951   48.104167  0.265168  ...     2.868526 -0.716823  0.995305\n",
            "5   0.053627   72.611111  0.489955  ...     2.917272 -0.732802  0.996253\n",
            "6   0.052758   82.583333  0.578873  ...     2.880577 -0.754925  0.997102\n",
            "7   0.055845   63.256944  0.537282  ...     2.764495 -0.745438  0.996544\n",
            "8   0.060378   29.166667  0.147679  ...     2.434294 -0.659026  0.991375\n",
            "9   0.054687   18.458333  0.080350  ...     2.547243 -0.560115  0.980686\n",
            "10  0.054495   15.673611  0.542779  ...     2.613012 -0.684337  0.993240\n",
            "11  0.057774   19.763889  0.511472  ...     2.635819 -0.660435  0.991557\n",
            "12  0.055170   26.583333  0.614535  ...     2.604637 -0.719042  0.995407\n",
            "13  0.053241   38.229167  0.660761  ...     2.442427 -0.739695  0.996462\n",
            "14  0.055845   40.361111  0.644650  ...     2.031183 -0.739875  0.996371\n",
            "15  0.055845   35.173611  0.591013  ...     2.392113 -0.699777  0.994458\n",
            "16  0.051022  622.875000  0.008509  ...     2.984879 -0.758486  0.997426\n",
            "\n",
            "[17 rows x 13 columns]\n"
          ],
          "name": "stdout"
        }
      ]
    },
    {
      "cell_type": "code",
      "metadata": {
        "id": "XfeRom6H2vPv",
        "colab_type": "code",
        "outputId": "a39949a4-68d9-41a9-d003-269015f2d232",
        "colab": {
          "base_uri": "https://localhost:8080/",
          "height": 55
        }
      },
      "source": [
        "Nomes=list(df.columns)\n",
        "Nomes_2=[]\n",
        "for it in Nomes:\n",
        "  Nomes_2.append(it)\n",
        "Nomes_2.append('colors') # vai adicionar as variaveis novas \n",
        "# caso queria adicionar outra variavel alem de cor, tem que modificar\n",
        "# a lista Nomes_2 com a adicao do nome da variavel a ser adicionada\n",
        "print(Nomes_2)"
      ],
      "execution_count": 18,
      "outputs": [
        {
          "output_type": "stream",
          "text": [
            "['ASM', 'constrast', 'correl', 'variance', 'inv diff mom', 'sum aveg', 'sum var', 'sum entropy', 'entropy', 'dif var', 'dif entropy', 'IMC1', 'IMC2', 'colors']\n"
          ],
          "name": "stdout"
        }
      ]
    },
    {
      "cell_type": "code",
      "metadata": {
        "id": "UgKlHvzR4T3J",
        "colab_type": "code",
        "colab": {}
      },
      "source": [
        "#print(Nomes)"
      ],
      "execution_count": 0,
      "outputs": []
    },
    {
      "cell_type": "code",
      "metadata": {
        "id": "BdfF9ZHzjDeI",
        "colab_type": "code",
        "outputId": "fe376cca-927c-42bf-8f45-ef6257be7e9a",
        "colab": {
          "base_uri": "https://localhost:8080/",
          "height": 35
        }
      },
      "source": [
        "print(len(df['ASM']))"
      ],
      "execution_count": 20,
      "outputs": [
        {
          "output_type": "stream",
          "text": [
            "17\n"
          ],
          "name": "stdout"
        }
      ]
    },
    {
      "cell_type": "code",
      "metadata": {
        "id": "U2ymyUPFiADf",
        "colab_type": "code",
        "colab": {
          "base_uri": "https://localhost:8080/",
          "height": 90
        },
        "outputId": "5278ac21-dad5-4e22-acd3-caa602000661"
      },
      "source": [
        "# observacao: cuidado para nao confundir Buracos com Buraco\n",
        "#             cuidado para nao confundir Graos com Grao\n",
        "#             cuidado para nao confundir Indefs com Indef\n",
        "\n",
        "j=0\n",
        "cont=-1\n",
        "Posicao_Buraco=[]\n",
        "Buracos=[]\n",
        "for i in img_name:\n",
        "  cont=cont+1\n",
        "  for k in Buraco:\n",
        "    if(i==k):\n",
        "      Posicao_Buraco.append(cont)\n",
        "      Buracos.append(4) # Buracos.append(1)\n",
        "j=0\n",
        "cont=-1\n",
        "Posicao_Grao=[]\n",
        "Graos=[]\n",
        "for i in img_name:\n",
        "  cont=cont+1\n",
        "  for k in Grao:\n",
        "    if(i==k):\n",
        "      Posicao_Grao.append(cont)\n",
        "      Graos.append(5) # Graos.append(2)\n",
        "\n",
        "j=0\n",
        "cont=-1\n",
        "Posicao_Indef=[]\n",
        "Indefs=[]\n",
        "for i in img_name:\n",
        "  cont=cont+1\n",
        "  for k in Indef:\n",
        "    if(i==k):\n",
        "      Posicao_Indef.append(cont)\n",
        "      Indefs.append(9) # Indefs.append(3)\n",
        "\n",
        "print(Posicao_Grao)\n",
        "print(Posicao_Buraco)\n",
        "print(Posicao_Indef)"
      ],
      "execution_count": 21,
      "outputs": [
        {
          "output_type": "stream",
          "text": [
            "[0, 3, 4, 10, 11, 14, 15, 16, 17, 21, 23, 26, 44, 48, 50, 54, 55, 59, 61, 65, 66, 68, 69, 71, 72, 76, 78, 79, 86, 93, 96, 100, 101, 103, 105, 106, 109, 112, 113, 114, 116, 121, 122, 123, 126, 132, 136, 138, 139, 140, 142, 148, 151, 158, 162, 163, 166, 170, 173, 175, 177, 179, 181, 182, 186, 195, 204, 209, 212, 213, 220, 224, 229, 230, 232, 234, 236, 237, 238, 239, 243, 244, 248, 249, 252, 256, 257, 258, 261, 262, 265, 268, 269, 275, 281, 283, 285, 286, 291, 295, 297, 299, 301, 306, 307, 310, 311, 315, 318, 325, 327, 328, 329, 331, 340, 342, 349, 350, 353, 354, 358, 360, 361, 366, 367, 369, 370, 371, 372, 373, 376, 383, 385, 387, 395, 399, 400, 404, 406, 410, 415, 420, 425, 429, 431, 437, 440, 444, 445, 446, 455, 457, 458, 460, 461, 462, 465, 466, 469, 472, 476, 477, 481, 483, 484, 488, 489, 491, 493, 496, 502, 503, 504, 517, 521, 525, 527, 529, 533, 539]\n",
            "[5, 6, 19, 27, 28, 30, 35, 36, 39, 40, 41, 45, 46, 49, 52, 53, 57, 58, 60, 70, 74, 80, 83, 91, 94, 97, 102, 104, 107, 108, 111, 115, 120, 127, 129, 130, 133, 134, 137, 145, 146, 147, 150, 152, 154, 157, 160, 167, 168, 169, 171, 174, 180, 184, 187, 189, 190, 197, 198, 199, 205, 206, 210, 211, 214, 218, 219, 221, 225, 226, 231, 233, 235, 240, 241, 242, 245, 246, 250, 251, 253, 254, 255, 263, 271, 277, 278, 282, 290, 292, 296, 298, 300, 302, 303, 305, 308, 314, 320, 321, 322, 330, 332, 333, 334, 335, 336, 339, 341, 343, 348, 352, 359, 362, 363, 365, 374, 375, 377, 379, 386, 388, 389, 390, 391, 393, 394, 397, 402, 405, 409, 413, 414, 418, 421, 422, 426, 427, 430, 433, 434, 436, 442, 443, 447, 448, 450, 451, 452, 453, 454, 464, 467, 471, 473, 479, 485, 486, 487, 494, 495, 497, 501, 506, 508, 509, 510, 511, 512, 514, 518, 519, 520, 522, 524, 526, 531, 532, 535, 536]\n",
            "[1, 2, 7, 8, 9, 12, 13, 18, 20, 22, 24, 25, 29, 31, 32, 33, 34, 37, 38, 42, 43, 47, 51, 56, 62, 63, 64, 67, 73, 75, 77, 81, 82, 84, 85, 87, 88, 89, 90, 92, 95, 98, 99, 110, 117, 118, 119, 124, 125, 128, 131, 135, 141, 143, 144, 149, 153, 155, 156, 159, 161, 164, 165, 172, 176, 178, 183, 185, 188, 191, 192, 193, 194, 196, 200, 201, 202, 203, 207, 208, 215, 216, 217, 222, 223, 227, 228, 247, 259, 260, 264, 266, 267, 270, 272, 273, 274, 276, 279, 280, 284, 287, 288, 289, 293, 294, 304, 309, 312, 313, 316, 317, 319, 323, 324, 326, 337, 338, 344, 345, 346, 347, 351, 355, 356, 357, 364, 368, 378, 380, 381, 382, 384, 392, 396, 398, 401, 403, 407, 408, 411, 412, 416, 417, 419, 423, 424, 428, 432, 435, 438, 439, 441, 449, 456, 459, 463, 468, 470, 474, 475, 478, 480, 482, 490, 492, 498, 499, 500, 505, 507, 513, 515, 516, 523, 528, 530, 534, 537, 538]\n"
          ],
          "name": "stdout"
        }
      ]
    },
    {
      "cell_type": "code",
      "metadata": {
        "id": "7YCD3ESkSFfV",
        "colab_type": "code",
        "colab": {}
      },
      "source": [
        "#for i in range(len(Posicao_Buraco)):\n",
        "#for i in Posicao_Buraco:\n",
        "#  print(i)"
      ],
      "execution_count": 0,
      "outputs": []
    },
    {
      "cell_type": "code",
      "metadata": {
        "id": "aNTlSGubnL3P",
        "colab_type": "code",
        "colab": {}
      },
      "source": [
        "# compara constrast dos tres primeiros buracos\n",
        "\n",
        "Matriz_X_Buraco=[] #é a matriz com as 14 variaveis (mahotas+cor) para todas as fotos de buraco\n",
        "\n",
        "for k in Posicao_Buraco:\n",
        "  df=Go2Mahotas.Mahotas(ww[k],Size,Sub_Size,Crop,img_name)\n",
        "  Linha=[]\n",
        "  for it in Nomes:\n",
        "    #print(Linha)\n",
        "    #print(\"Nomes=\",Nomes)\n",
        "    #print(\"it=\",it)\n",
        "    #print(df[it])\n",
        "    Linha.append(np.mean(df[it]))\n",
        "\n",
        "  Linha.append(New_Colunm[k])\n",
        "  Matriz_X_Buraco.append(Linha)\n",
        "  #plt.figure(i+1)\n",
        "  #plt.plot(df['constrast'])\n",
        "  #print(len(Matriz_X_Buraco))\n",
        "#print(pd.DataFrame(Matriz_X_Buraco)) \n",
        "#Contraste_Buraco=pd.DataFrame(Matriz_X_Buraco,columns=Nomes)\n",
        "Contraste_Buraco=pd.DataFrame(Matriz_X_Buraco,columns=Nomes_2) #é a matriz com as 14 variaveis (mahotas+cor) para todas as fotos de buraco, com os nomes do Índice"
      ],
      "execution_count": 0,
      "outputs": []
    },
    {
      "cell_type": "code",
      "metadata": {
        "id": "MMP5HkYEBrAK",
        "colab_type": "code",
        "outputId": "c808e5d9-1d93-41eb-9fe2-06c3e2f611b6",
        "colab": {
          "base_uri": "https://localhost:8080/",
          "height": 265
        }
      },
      "source": [
        "# Insert the new column at position 1.\n",
        "Contraste_Buraco.insert(0,\"Type\",1,True)\n",
        "print(Contraste_Buraco)"
      ],
      "execution_count": 24,
      "outputs": [
        {
          "output_type": "stream",
          "text": [
            "     Type       ASM   constrast  ...      IMC1      IMC2  colors\n",
            "0       1  0.062500  220.456291  ... -0.663729  0.985292  0.5700\n",
            "1       1  0.062653   35.939134  ... -0.637104  0.983396  0.4250\n",
            "2       1  0.056685   94.662582  ... -0.673195  0.989868  0.4475\n",
            "3       1  0.053672  364.052288  ... -0.730844  0.992383  0.4875\n",
            "4       1  0.051437  196.939542  ... -0.770135  0.997371  0.5350\n",
            "..    ...       ...         ...  ...       ...       ...     ...\n",
            "175     1  0.054330  235.852124  ... -0.744166  0.994744  0.3800\n",
            "176     1  0.069286   94.935458  ... -0.637510  0.977972  0.4475\n",
            "177     1  0.053292  228.943219  ... -0.726038  0.994353  0.4575\n",
            "178     1  0.053354  268.989788  ... -0.753436  0.994489  0.4975\n",
            "179     1  0.065961  209.309641  ... -0.624451  0.972010  0.3700\n",
            "\n",
            "[180 rows x 15 columns]\n"
          ],
          "name": "stdout"
        }
      ]
    },
    {
      "cell_type": "code",
      "metadata": {
        "id": "FKpqBGqMq0U2",
        "colab_type": "code",
        "colab": {}
      },
      "source": [
        "# compara constrast dos graos\n",
        "\n",
        "Matriz_X_Grao=[] #é a matriz com as 14 variaveis (mahotas+cor) para todas as fotos de grao\n",
        "\n",
        "for k in Posicao_Grao:\n",
        "  df=Go2Mahotas.Mahotas(ww[k],Size,Sub_Size,Crop,img_name)\n",
        "  Linha=[]\n",
        "  for it in Nomes:\n",
        "    Linha.append(np.mean(df[it]))\n",
        "    \n",
        "  Linha.append(New_Colunm[k])\n",
        "  Matriz_X_Grao.append(Linha)\n",
        "#print(pd.DataFrame(Matriz_X_Grao))\n",
        "\n",
        "Contraste_Grao=pd.DataFrame(Matriz_X_Grao,columns=Nomes_2) #é a matriz com as 14 variaveis (mahotas+cor) para todas as fotos de grao, com os nomes do Índice"
      ],
      "execution_count": 0,
      "outputs": []
    },
    {
      "cell_type": "code",
      "metadata": {
        "id": "BB-sS62MsF1p",
        "colab_type": "code",
        "outputId": "d6375fc2-57d6-48e5-a011-ea5a31e05c32",
        "colab": {
          "base_uri": "https://localhost:8080/",
          "height": 265
        }
      },
      "source": [
        "# Insert the new column at position 1.\n",
        "Contraste_Grao.insert(0,\"Type\",2,True)\n",
        "print(Contraste_Grao)"
      ],
      "execution_count": 26,
      "outputs": [
        {
          "output_type": "stream",
          "text": [
            "     Type       ASM    constrast  ...      IMC1      IMC2  colors\n",
            "0       2  0.055652    82.936275  ... -0.704445  0.994020  0.6075\n",
            "1       2  0.053950   686.425245  ... -0.719483  0.994347  0.4950\n",
            "2       2  0.050625  1191.962010  ... -0.803702  0.998208  0.5150\n",
            "3       2  0.053042   323.158497  ... -0.748230  0.995994  0.5825\n",
            "4       2  0.051590   721.428513  ... -0.779493  0.997592  0.6175\n",
            "..    ...       ...          ...  ...       ...       ...     ...\n",
            "175     2  0.052248   471.955474  ... -0.748800  0.995720  0.5000\n",
            "176     2  0.052078   217.250817  ... -0.755789  0.996103  0.5400\n",
            "177     2  0.051902   580.909722  ... -0.764484  0.996541  0.6225\n",
            "178     2  0.054863   555.391748  ... -0.725014  0.993488  0.6075\n",
            "179     2  0.056021   187.295343  ... -0.727588  0.993051  0.5225\n",
            "\n",
            "[180 rows x 15 columns]\n"
          ],
          "name": "stdout"
        }
      ]
    },
    {
      "cell_type": "code",
      "metadata": {
        "id": "e6cV2a71_tJL",
        "colab_type": "code",
        "colab": {
          "base_uri": "https://localhost:8080/",
          "height": 90
        },
        "outputId": "1f786d90-01e7-4391-a188-1c40bc3f5b88"
      },
      "source": [
        "print(Posicao_Grao)\n",
        "print(Posicao_Buraco)\n",
        "print(Posicao_Indef)"
      ],
      "execution_count": 27,
      "outputs": [
        {
          "output_type": "stream",
          "text": [
            "[0, 3, 4, 10, 11, 14, 15, 16, 17, 21, 23, 26, 44, 48, 50, 54, 55, 59, 61, 65, 66, 68, 69, 71, 72, 76, 78, 79, 86, 93, 96, 100, 101, 103, 105, 106, 109, 112, 113, 114, 116, 121, 122, 123, 126, 132, 136, 138, 139, 140, 142, 148, 151, 158, 162, 163, 166, 170, 173, 175, 177, 179, 181, 182, 186, 195, 204, 209, 212, 213, 220, 224, 229, 230, 232, 234, 236, 237, 238, 239, 243, 244, 248, 249, 252, 256, 257, 258, 261, 262, 265, 268, 269, 275, 281, 283, 285, 286, 291, 295, 297, 299, 301, 306, 307, 310, 311, 315, 318, 325, 327, 328, 329, 331, 340, 342, 349, 350, 353, 354, 358, 360, 361, 366, 367, 369, 370, 371, 372, 373, 376, 383, 385, 387, 395, 399, 400, 404, 406, 410, 415, 420, 425, 429, 431, 437, 440, 444, 445, 446, 455, 457, 458, 460, 461, 462, 465, 466, 469, 472, 476, 477, 481, 483, 484, 488, 489, 491, 493, 496, 502, 503, 504, 517, 521, 525, 527, 529, 533, 539]\n",
            "[5, 6, 19, 27, 28, 30, 35, 36, 39, 40, 41, 45, 46, 49, 52, 53, 57, 58, 60, 70, 74, 80, 83, 91, 94, 97, 102, 104, 107, 108, 111, 115, 120, 127, 129, 130, 133, 134, 137, 145, 146, 147, 150, 152, 154, 157, 160, 167, 168, 169, 171, 174, 180, 184, 187, 189, 190, 197, 198, 199, 205, 206, 210, 211, 214, 218, 219, 221, 225, 226, 231, 233, 235, 240, 241, 242, 245, 246, 250, 251, 253, 254, 255, 263, 271, 277, 278, 282, 290, 292, 296, 298, 300, 302, 303, 305, 308, 314, 320, 321, 322, 330, 332, 333, 334, 335, 336, 339, 341, 343, 348, 352, 359, 362, 363, 365, 374, 375, 377, 379, 386, 388, 389, 390, 391, 393, 394, 397, 402, 405, 409, 413, 414, 418, 421, 422, 426, 427, 430, 433, 434, 436, 442, 443, 447, 448, 450, 451, 452, 453, 454, 464, 467, 471, 473, 479, 485, 486, 487, 494, 495, 497, 501, 506, 508, 509, 510, 511, 512, 514, 518, 519, 520, 522, 524, 526, 531, 532, 535, 536]\n",
            "[1, 2, 7, 8, 9, 12, 13, 18, 20, 22, 24, 25, 29, 31, 32, 33, 34, 37, 38, 42, 43, 47, 51, 56, 62, 63, 64, 67, 73, 75, 77, 81, 82, 84, 85, 87, 88, 89, 90, 92, 95, 98, 99, 110, 117, 118, 119, 124, 125, 128, 131, 135, 141, 143, 144, 149, 153, 155, 156, 159, 161, 164, 165, 172, 176, 178, 183, 185, 188, 191, 192, 193, 194, 196, 200, 201, 202, 203, 207, 208, 215, 216, 217, 222, 223, 227, 228, 247, 259, 260, 264, 266, 267, 270, 272, 273, 274, 276, 279, 280, 284, 287, 288, 289, 293, 294, 304, 309, 312, 313, 316, 317, 319, 323, 324, 326, 337, 338, 344, 345, 346, 347, 351, 355, 356, 357, 364, 368, 378, 380, 381, 382, 384, 392, 396, 398, 401, 403, 407, 408, 411, 412, 416, 417, 419, 423, 424, 428, 432, 435, 438, 439, 441, 449, 456, 459, 463, 468, 470, 474, 475, 478, 480, 482, 490, 492, 498, 499, 500, 505, 507, 513, 515, 516, 523, 528, 530, 534, 537, 538]\n"
          ],
          "name": "stdout"
        }
      ]
    },
    {
      "cell_type": "code",
      "metadata": {
        "id": "uno28vfVq0lc",
        "colab_type": "code",
        "colab": {}
      },
      "source": [
        "# compara constrast dos indefinidos\n",
        "\n",
        "Matriz_X_Indef=[] #é a matriz com as 14 variaveis (mahotas+cor) para todas as fotos de indef\n",
        "\n",
        "for k in Posicao_Indef:\n",
        "  df=Go2Mahotas.Mahotas(ww[k],Size,Sub_Size,Crop,img_name)\n",
        "  Linha=[]\n",
        "  for it in Nomes:\n",
        "    Linha.append(np.mean(df[it]))\n",
        "    \n",
        "  Linha.append(New_Colunm[k])\n",
        "  Matriz_X_Indef.append(Linha)\n",
        "Contraste_Indef=pd.DataFrame(Matriz_X_Indef,columns=Nomes_2) #é a matriz com as 14 variaveis (mahotas+cor) para todas as fotos de indef, com os nomes do Índice"
      ],
      "execution_count": 0,
      "outputs": []
    },
    {
      "cell_type": "code",
      "metadata": {
        "id": "gf4jCbwHtDOs",
        "colab_type": "code",
        "outputId": "f0d5439d-a11e-4230-d9e5-2d1fcfee6615",
        "colab": {
          "base_uri": "https://localhost:8080/",
          "height": 265
        }
      },
      "source": [
        "# Insert the new column at position 1.\n",
        "Contraste_Indef.insert(0,\"Type\",3,True)\n",
        "print(Contraste_Indef)"
      ],
      "execution_count": 29,
      "outputs": [
        {
          "output_type": "stream",
          "text": [
            "     Type       ASM    constrast  ...      IMC1      IMC2  colors\n",
            "0       3  0.053933   104.133170  ... -0.730964  0.992647  0.5100\n",
            "1       3  0.061581   130.968546  ... -0.664889  0.986649  0.4775\n",
            "2       3  0.053468  3428.661356  ... -0.763836  0.995966  0.3225\n",
            "3       3  0.056021    23.720997  ... -0.693172  0.991625  0.5375\n",
            "4       3  0.062591   139.585376  ... -0.656057  0.962582  0.5075\n",
            "..    ...       ...          ...  ...       ...       ...     ...\n",
            "175     3  0.050926   410.030229  ... -0.780248  0.997502  0.5000\n",
            "176     3  0.053093   585.907680  ... -0.761510  0.994935  0.5550\n",
            "177     3  0.060123    16.233660  ... -0.607501  0.978556  0.6150\n",
            "178     3  0.056792   147.247958  ... -0.699026  0.991186  0.4900\n",
            "179     3  0.053984   484.488971  ... -0.759572  0.996433  0.4625\n",
            "\n",
            "[180 rows x 15 columns]\n"
          ],
          "name": "stdout"
        }
      ]
    },
    {
      "cell_type": "code",
      "metadata": {
        "id": "EHSBh2ye9WV8",
        "colab_type": "code",
        "outputId": "b3e62142-6685-4838-857f-13902a5e5142",
        "colab": {
          "base_uri": "https://localhost:8080/",
          "height": 158
        }
      },
      "source": [
        "print(Contraste_Buraco.head())"
      ],
      "execution_count": 30,
      "outputs": [
        {
          "output_type": "stream",
          "text": [
            "   Type       ASM   constrast  ...      IMC1      IMC2  colors\n",
            "0     1  0.062500  220.456291  ... -0.663729  0.985292  0.5700\n",
            "1     1  0.062653   35.939134  ... -0.637104  0.983396  0.4250\n",
            "2     1  0.056685   94.662582  ... -0.673195  0.989868  0.4475\n",
            "3     1  0.053672  364.052288  ... -0.730844  0.992383  0.4875\n",
            "4     1  0.051437  196.939542  ... -0.770135  0.997371  0.5350\n",
            "\n",
            "[5 rows x 15 columns]\n"
          ],
          "name": "stdout"
        }
      ]
    },
    {
      "cell_type": "code",
      "metadata": {
        "id": "k5e1EwMAs84e",
        "colab_type": "code",
        "outputId": "8c2488dd-3ee6-4a46-8ca1-5bb56e635a33",
        "colab": {
          "base_uri": "https://localhost:8080/",
          "height": 158
        }
      },
      "source": [
        "print(Contraste_Grao.head())"
      ],
      "execution_count": 31,
      "outputs": [
        {
          "output_type": "stream",
          "text": [
            "   Type       ASM    constrast  ...      IMC1      IMC2  colors\n",
            "0     2  0.055652    82.936275  ... -0.704445  0.994020  0.6075\n",
            "1     2  0.053950   686.425245  ... -0.719483  0.994347  0.4950\n",
            "2     2  0.050625  1191.962010  ... -0.803702  0.998208  0.5150\n",
            "3     2  0.053042   323.158497  ... -0.748230  0.995994  0.5825\n",
            "4     2  0.051590   721.428513  ... -0.779493  0.997592  0.6175\n",
            "\n",
            "[5 rows x 15 columns]\n"
          ],
          "name": "stdout"
        }
      ]
    },
    {
      "cell_type": "code",
      "metadata": {
        "id": "3ehKvYQAs9TP",
        "colab_type": "code",
        "outputId": "faaefbd7-7ae3-4e93-f77a-a461fefb5393",
        "colab": {
          "base_uri": "https://localhost:8080/",
          "height": 158
        }
      },
      "source": [
        "print(Contraste_Indef.head())"
      ],
      "execution_count": 32,
      "outputs": [
        {
          "output_type": "stream",
          "text": [
            "   Type       ASM    constrast  ...      IMC1      IMC2  colors\n",
            "0     3  0.053933   104.133170  ... -0.730964  0.992647  0.5100\n",
            "1     3  0.061581   130.968546  ... -0.664889  0.986649  0.4775\n",
            "2     3  0.053468  3428.661356  ... -0.763836  0.995966  0.3225\n",
            "3     3  0.056021    23.720997  ... -0.693172  0.991625  0.5375\n",
            "4     3  0.062591   139.585376  ... -0.656057  0.962582  0.5075\n",
            "\n",
            "[5 rows x 15 columns]\n"
          ],
          "name": "stdout"
        }
      ]
    },
    {
      "cell_type": "code",
      "metadata": {
        "id": "umnYO8zBI2J_",
        "colab_type": "code",
        "colab": {}
      },
      "source": [
        "Contraste_Completo_mar_2020 = pd.concat([Contraste_Buraco, Contraste_Grao, Contraste_Indef], axis=0)"
      ],
      "execution_count": 0,
      "outputs": []
    },
    {
      "cell_type": "code",
      "metadata": {
        "id": "3aZ6btGKJpr7",
        "colab_type": "code",
        "colab": {
          "base_uri": "https://localhost:8080/",
          "height": 265
        },
        "outputId": "7ea5f115-0cad-4e5d-9e54-3af92ebaeaf2"
      },
      "source": [
        "print(Contraste_Completo_mar_2020)"
      ],
      "execution_count": 34,
      "outputs": [
        {
          "output_type": "stream",
          "text": [
            "     Type       ASM   constrast  ...      IMC1      IMC2  colors\n",
            "0       1  0.062500  220.456291  ... -0.663729  0.985292  0.5700\n",
            "1       1  0.062653   35.939134  ... -0.637104  0.983396  0.4250\n",
            "2       1  0.056685   94.662582  ... -0.673195  0.989868  0.4475\n",
            "3       1  0.053672  364.052288  ... -0.730844  0.992383  0.4875\n",
            "4       1  0.051437  196.939542  ... -0.770135  0.997371  0.5350\n",
            "..    ...       ...         ...  ...       ...       ...     ...\n",
            "175     3  0.050926  410.030229  ... -0.780248  0.997502  0.5000\n",
            "176     3  0.053093  585.907680  ... -0.761510  0.994935  0.5550\n",
            "177     3  0.060123   16.233660  ... -0.607501  0.978556  0.6150\n",
            "178     3  0.056792  147.247958  ... -0.699026  0.991186  0.4900\n",
            "179     3  0.053984  484.488971  ... -0.759572  0.996433  0.4625\n",
            "\n",
            "[540 rows x 15 columns]\n"
          ],
          "name": "stdout"
        }
      ]
    },
    {
      "cell_type": "code",
      "metadata": {
        "id": "dZSOVH78CeU_",
        "colab_type": "code",
        "outputId": "d81c2758-6a86-44d5-b113-ac2bf85dd9b6",
        "colab": {
          "base_uri": "https://localhost:8080/",
          "height": 55
        }
      },
      "source": [
        "# found drive\n",
        "from google.colab import drive\n",
        "drive.mount('drive')"
      ],
      "execution_count": 35,
      "outputs": [
        {
          "output_type": "stream",
          "text": [
            "Drive already mounted at drive; to attempt to forcibly remount, call drive.mount(\"drive\", force_remount=True).\n"
          ],
          "name": "stdout"
        }
      ]
    },
    {
      "cell_type": "code",
      "metadata": {
        "id": "Lw8rqNu0CpQv",
        "colab_type": "code",
        "colab": {}
      },
      "source": [
        "# get csv file\n",
        "Contraste_Completo_mar_2020.to_csv('Contraste_Completo_mar_2020.csv', float_format=\"%.5f\")"
      ],
      "execution_count": 0,
      "outputs": []
    },
    {
      "cell_type": "code",
      "metadata": {
        "id": "65m5BDM5NDfH",
        "colab_type": "code",
        "colab": {}
      },
      "source": [
        "\n",
        "# save in drive\n",
        "!cp Contraste_Completo_mar_2020.csv drive/My\\ Drive/Maria_Gabriela_Textura_dados_jan_2020/"
      ],
      "execution_count": 0,
      "outputs": []
    }
  ]
}