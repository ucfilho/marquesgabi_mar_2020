{
  "nbformat": 4,
  "nbformat_minor": 0,
  "metadata": {
    "colab": {
      "name": "ANN_fotos_testa_01_variaveis_mar_10_2020.ipynb",
      "provenance": [],
      "collapsed_sections": [],
      "include_colab_link": true
    },
    "kernelspec": {
      "name": "python3",
      "display_name": "Python 3"
    }
  },
  "cells": [
    {
      "cell_type": "markdown",
      "metadata": {
        "id": "view-in-github",
        "colab_type": "text"
      },
      "source": [
        "<a href=\"https://colab.research.google.com/github/ucfilho/marquesgabi_mar_2020/blob/master/ANN_fotos_testa_01_variaveis_mar_10_2020.ipynb\" target=\"_parent\"><img src=\"https://colab.research.google.com/assets/colab-badge.svg\" alt=\"Open In Colab\"/></a>"
      ]
    },
    {
      "cell_type": "code",
      "metadata": {
        "id": "uPzMNtMQeqs-",
        "colab_type": "code",
        "colab": {}
      },
      "source": [
        "from sklearn.model_selection import train_test_split\n",
        "import numpy as np\n",
        "import cv2\n",
        "import math\n",
        "import pandas as pd\n",
        "from sklearn.neural_network import MLPRegressor\n",
        "from sklearn.neural_network import MLPClassifier\n",
        "from sklearn.metrics import mean_squared_error\n",
        "from sklearn.metrics import r2_score \n",
        "from mpl_toolkits.mplot3d import Axes3D, axes3d\n",
        "from sklearn.metrics import classification_report, confusion_matrix\n",
        "import matplotlib.pyplot as plt\n",
        "import matplotlib\n",
        "%matplotlib inline"
      ],
      "execution_count": 0,
      "outputs": []
    },
    {
      "cell_type": "code",
      "metadata": {
        "id": "HkPGXHfRpji7",
        "colab_type": "code",
        "outputId": "c279d260-4643-4b8f-bcf0-12ba93417c47",
        "colab": {
          "base_uri": "https://localhost:8080/",
          "height": 72
        }
      },
      "source": [
        "!git clone https://github.com/ucfilho/marquesgabi_mar_2020 #clonar do Github\n",
        "%cd marquesgabi_mar_2020"
      ],
      "execution_count": 0,
      "outputs": [
        {
          "output_type": "stream",
          "text": [
            "fatal: destination path 'marquesgabi_mar_2020' already exists and is not an empty directory.\n",
            "/content/marquesgabi_mar_2020\n"
          ],
          "name": "stdout"
        }
      ]
    },
    {
      "cell_type": "code",
      "metadata": {
        "id": "EYWpJccwpn_l",
        "colab_type": "code",
        "outputId": "7ff24d42-5ef6-47be-d71d-b67997c92df1",
        "colab": {
          "base_uri": "https://localhost:8080/",
          "height": 176
        }
      },
      "source": [
        "!ls"
      ],
      "execution_count": 0,
      "outputs": [
        {
          "output_type": "stream",
          "text": [
            "01_Features_Mahotas_Completo_mar_03_2020.ipynb\n",
            "02_Mahotas_fracionado_A_mar_03_2020.ipynb\n",
            "02_Mahotas_fracionado_B_mar_03_2020.ipynb\n",
            "ANN_fotos_testa_02_variaveis_mar_10_2020.ipynb\n",
            "ANN_fotos_testa_03_variaveis_mar_10_2020.ipynb\n",
            "ANN_fotos_testa_variaveis_mar_10_2020.ipynb\n",
            "Contraste_Completo_mar_2020.csv\n",
            "Fracionado_Completo_mar_2020.csv\n",
            "Incompleto_01_Features_Mahotas_Completo_mar_03_2020.ipynb\n"
          ],
          "name": "stdout"
        }
      ]
    },
    {
      "cell_type": "code",
      "metadata": {
        "id": "OqImBAP-3H6M",
        "colab_type": "code",
        "colab": {}
      },
      "source": [
        "#@title Digite os parametros { run: \"auto\", vertical-output: true }\n",
        "#@markdown Enter neurons hidden layer\n",
        "N_Hidden=24  #@param {type:\"number\"}\n",
        "#@markdown Activation function\n",
        "\n",
        "Ativa='tanh'#@param [\"tanh\", \"identity\", \"logistic\",\"relu\"] {allow-input: true}"
      ],
      "execution_count": 0,
      "outputs": []
    },
    {
      "cell_type": "code",
      "metadata": {
        "id": "4vZxttY2XZ2e",
        "colab_type": "code",
        "colab": {}
      },
      "source": [
        "# funcao normatiza dados\n",
        "def Normatiza(x):\n",
        "    strings=list(x)\n",
        "    for i in strings:\n",
        "        max_x=x[i].max()\n",
        "        min_x=x[i].min()\n",
        "        a=(max_x+min_x)/2\n",
        "        b=(max_x-min_x)/2\n",
        "        x[i]=(x[i]-a)/b\n",
        "    return x"
      ],
      "execution_count": 0,
      "outputs": []
    },
    {
      "cell_type": "code",
      "metadata": {
        "id": "quDi173pXomN",
        "colab_type": "code",
        "colab": {}
      },
      "source": [
        "# funcao retorna os dados a forma original\n",
        "def Original(x,x_old):\n",
        "    strings=list(x)\n",
        "    for i in strings:\n",
        "        max_x=x_old[i].max()\n",
        "        min_x=x_old[i].min()\n",
        "        a=(max_x+min_x)/2\n",
        "        b=(max_x-min_x)/2\n",
        "        x[i]=x[i]*b+a\n",
        "    return x"
      ],
      "execution_count": 0,
      "outputs": []
    },
    {
      "cell_type": "code",
      "metadata": {
        "id": "4UxbasKHkWsQ",
        "colab_type": "code",
        "outputId": "fda8bdb5-18bc-487c-d807-e552fbb4a987",
        "colab": {
          "base_uri": "https://localhost:8080/",
          "height": 214
        }
      },
      "source": [
        "\n",
        "df_contraste= pd.read_csv('Contraste_Completo_mar_2020.csv') \n",
        "#df_contraste= np.delete(df_contraste, 0, axis=1) # delete first colunm\n",
        "\n",
        "Nomes=list(df_contraste.columns)\n",
        "del df_contraste['Unnamed: 0'] # delete first colunm\n",
        "print(Nomes)\n",
        "print(df_contraste.head())\n",
        "print(df_contraste.shape)"
      ],
      "execution_count": 0,
      "outputs": [
        {
          "output_type": "stream",
          "text": [
            "['Unnamed: 0', 'Type', 'ASM', 'constrast', 'correl', 'variance', 'inv diff mom', 'sum aveg', 'sum var', 'sum entropy', 'entropy', 'dif var', 'dif entropy', 'IMC1', 'IMC2', 'colors']\n",
            "   Type      ASM  constrast   correl  ...  dif entropy     IMC1     IMC2  colors\n",
            "0     1  0.06250  220.45629  0.33330  ...      2.70205 -0.66373  0.98529  0.5700\n",
            "1     1  0.06265   35.93913  0.15288  ...      2.38193 -0.63710  0.98340  0.4250\n",
            "2     1  0.05668   94.66258  0.35417  ...      2.40839 -0.67320  0.98987  0.4475\n",
            "3     1  0.05367  364.05229  0.24475  ...      2.94304 -0.73084  0.99238  0.4875\n",
            "4     1  0.05144  196.93954  0.39782  ...      2.84978 -0.77013  0.99737  0.5350\n",
            "\n",
            "[5 rows x 15 columns]\n",
            "(540, 15)\n"
          ],
          "name": "stdout"
        }
      ]
    },
    {
      "cell_type": "code",
      "metadata": {
        "id": "eXeE24jTqNPo",
        "colab_type": "code",
        "outputId": "1e8b31d4-c8d2-4f04-c2bc-b524d3233aeb",
        "colab": {
          "base_uri": "https://localhost:8080/",
          "height": 176
        }
      },
      "source": [
        "df_fracionado= pd.read_csv('Fracionado_Completo_mar_2020.csv') \n",
        "#df_fracionado= np.delete(df_fracionado, 0, axis=1) # delete first colunm\n",
        "del df_fracionado['Unnamed: 0'] # delete first colunm\n",
        "del df_fracionado['Type'] # delete first colunm\n",
        "Nomes_fracionado=list(df_fracionado.columns)\n",
        "print(df_fracionado.head())\n",
        "print(df_fracionado.shape)"
      ],
      "execution_count": 0,
      "outputs": [
        {
          "output_type": "stream",
          "text": [
            "   N_peaks  Media_proem        Area  ...      Mode       Mean         Sd\n",
            "0        2     21.73958  1024.86111  ...  15.80556   66.99632   68.46875\n",
            "1        1     13.34722  1140.79398  ...  10.85417   86.34600   95.53923\n",
            "2        2     50.77083  2055.15972  ...  30.75000  130.03922   85.50475\n",
            "3        2    196.14815  4612.20139  ...  13.15278  285.03799  368.87534\n",
            "4        2    248.66551  5680.38889  ...  13.53472  347.03758  297.34679\n",
            "\n",
            "[5 rows x 10 columns]\n",
            "(540, 10)\n"
          ],
          "name": "stdout"
        }
      ]
    },
    {
      "cell_type": "code",
      "metadata": {
        "id": "zOXpU0ob09DV",
        "colab_type": "code",
        "outputId": "6a0b9677-ef40-40ff-e702-8e8158e95369",
        "colab": {
          "base_uri": "https://localhost:8080/",
          "height": 55
        }
      },
      "source": [
        "print(Nomes_fracionado)"
      ],
      "execution_count": 0,
      "outputs": [
        {
          "output_type": "stream",
          "text": [
            "['N_peaks', 'Media_proem', 'Area', 'Width_peaks', 'Width_peaks_max', 'Width_peaks_min', 'Median', 'Mode', 'Mean', 'Sd']\n"
          ],
          "name": "stdout"
        }
      ]
    },
    {
      "cell_type": "code",
      "metadata": {
        "id": "ljOhLeDav5__",
        "colab_type": "code",
        "outputId": "21d55a40-0c0f-49b2-c761-e69bd1f715a4",
        "colab": {
          "base_uri": "https://localhost:8080/",
          "height": 196
        }
      },
      "source": [
        "\n",
        "ANN_Completo = pd.concat([df_contraste, df_fracionado], axis=1)\n",
        "print(ANN_Completo.head())\n",
        "print(ANN_Completo.shape)"
      ],
      "execution_count": 0,
      "outputs": [
        {
          "output_type": "stream",
          "text": [
            "   Type      ASM  constrast   correl  ...     Median      Mode       Mean         Sd\n",
            "0     1  0.06250  220.45629  0.33330  ...   41.70833  15.80556   66.99632   68.46875\n",
            "1     1  0.06265   35.93913  0.15288  ...   34.56250  10.85417   86.34600   95.53923\n",
            "2     1  0.05668   94.66258  0.35417  ...  116.78472  30.75000  130.03922   85.50475\n",
            "3     1  0.05367  364.05229  0.24475  ...   70.88889  13.15278  285.03799  368.87534\n",
            "4     1  0.05144  196.93954  0.39782  ...  341.29167  13.53472  347.03758  297.34679\n",
            "\n",
            "[5 rows x 25 columns]\n",
            "(540, 25)\n"
          ],
          "name": "stdout"
        }
      ]
    },
    {
      "cell_type": "code",
      "metadata": {
        "id": "1gVOPf_LhXhb",
        "colab_type": "code",
        "outputId": "3df8f0db-e9e9-4271-85bb-7e1b64ea1546",
        "colab": {
          "base_uri": "https://localhost:8080/",
          "height": 477
        }
      },
      "source": [
        "\n",
        "Colunms=['N_peaks', 'Media_proem', 'Area', 'Width_peaks', \n",
        "          'Width_peaks_max', 'Width_peaks_min', 'Median', \n",
        "          'Mode', 'Mean', 'Sd']\n",
        "del df_contraste['Type'] # delete first colunm\n",
        "Nomes_contraste=list(df_contraste.columns)\n",
        "for ii in Nomes_contraste:\n",
        "  Colunms.append(ii)\n",
        "#X=df.iloc[:,2:12]\n",
        "#y=df.iloc[:,1].astype(int)\n",
        "X=ANN_Completo[Colunms]\n",
        "print(X)\n",
        "#y=df['Type'].astype(int)\n",
        "y=ANN_Completo['Type']\n",
        "print(y)"
      ],
      "execution_count": 0,
      "outputs": [
        {
          "output_type": "stream",
          "text": [
            "     N_peaks  Media_proem         Area  ...     IMC1     IMC2  colors\n",
            "0          2     21.73958   1024.86111  ... -0.66373  0.98529  0.5700\n",
            "1          1     13.34722   1140.79398  ... -0.63710  0.98340  0.4250\n",
            "2          2     50.77083   2055.15972  ... -0.67320  0.98987  0.4475\n",
            "3          2    196.14815   4612.20139  ... -0.73084  0.99238  0.4875\n",
            "4          2    248.66551   5680.38889  ... -0.77013  0.99737  0.5350\n",
            "..       ...          ...          ...  ...      ...      ...     ...\n",
            "535        2      9.60880   1926.58796  ... -0.78025  0.99750  0.5000\n",
            "536        2    330.73032  15839.67593  ... -0.76151  0.99493  0.5550\n",
            "537        2     54.44907   1677.80787  ... -0.60750  0.97856  0.6150\n",
            "538        2     14.74306    662.65509  ... -0.69903  0.99119  0.4900\n",
            "539        3     19.56096   1105.09722  ... -0.75957  0.99643  0.4625\n",
            "\n",
            "[540 rows x 24 columns]\n",
            "0      1\n",
            "1      1\n",
            "2      1\n",
            "3      1\n",
            "4      1\n",
            "      ..\n",
            "535    3\n",
            "536    3\n",
            "537    3\n",
            "538    3\n",
            "539    3\n",
            "Name: Type, Length: 540, dtype: int64\n"
          ],
          "name": "stdout"
        }
      ]
    },
    {
      "cell_type": "code",
      "metadata": {
        "id": "JPuT29HY0h6B",
        "colab_type": "code",
        "outputId": "a867ef6f-e0ce-4712-adec-29b819080f61",
        "colab": {
          "base_uri": "https://localhost:8080/",
          "height": 55
        }
      },
      "source": [
        "print(Colunms)"
      ],
      "execution_count": 0,
      "outputs": [
        {
          "output_type": "stream",
          "text": [
            "['N_peaks', 'Media_proem', 'Area', 'Width_peaks', 'Width_peaks_max', 'Width_peaks_min', 'Median', 'Mode', 'Mean', 'Sd', 'ASM', 'constrast', 'correl', 'variance', 'inv diff mom', 'sum aveg', 'sum var', 'sum entropy', 'entropy', 'dif var', 'dif entropy', 'IMC1', 'IMC2', 'colors']\n"
          ],
          "name": "stdout"
        }
      ]
    },
    {
      "cell_type": "code",
      "metadata": {
        "id": "dZbTaHhkGqWJ",
        "colab_type": "code",
        "outputId": "c72ddb94-3dd0-44d9-cdfc-ef6ca1605518",
        "colab": {
          "base_uri": "https://localhost:8080/",
          "height": 35
        }
      },
      "source": [
        "print(len(Colunms))"
      ],
      "execution_count": 0,
      "outputs": [
        {
          "output_type": "stream",
          "text": [
            "24\n"
          ],
          "name": "stdout"
        }
      ]
    },
    {
      "cell_type": "code",
      "metadata": {
        "id": "q_R9MQraX2K_",
        "colab_type": "code",
        "outputId": "ad78e831-8744-4808-805e-da3d98be678f",
        "colab": {
          "base_uri": "https://localhost:8080/",
          "height": 143
        }
      },
      "source": [
        "\n",
        "# separa os dados variaveis de entrada em normatizados e originais\n",
        "X_OLD=[]\n",
        "X_OLD=X.copy()\n",
        "X=Normatiza(X)\n",
        "#print(X)\n"
      ],
      "execution_count": 0,
      "outputs": [
        {
          "output_type": "stream",
          "text": [
            "/usr/local/lib/python3.6/dist-packages/ipykernel_launcher.py:8: SettingWithCopyWarning: \n",
            "A value is trying to be set on a copy of a slice from a DataFrame.\n",
            "Try using .loc[row_indexer,col_indexer] = value instead\n",
            "\n",
            "See the caveats in the documentation: http://pandas.pydata.org/pandas-docs/stable/user_guide/indexing.html#returning-a-view-versus-a-copy\n",
            "  \n"
          ],
          "name": "stderr"
        }
      ]
    },
    {
      "cell_type": "code",
      "metadata": {
        "id": "Zi9gBj86i0V_",
        "colab_type": "code",
        "colab": {}
      },
      "source": [
        "# Train Test Split\n",
        "X_train, X_test, y_train, y_test = train_test_split(X, y, test_size=0.20, \n",
        "                                                    random_state=25)"
      ],
      "execution_count": 0,
      "outputs": []
    },
    {
      "cell_type": "code",
      "metadata": {
        "id": "YoPO53S3bif2",
        "colab_type": "code",
        "colab": {}
      },
      "source": [
        "# define a rede neural \n",
        "#N_Hidden=(18,18,18)\n",
        "\n",
        "\n",
        "clf = MLPClassifier(solver='lbfgs',activation=Ativa,alpha=1e-5,\n",
        "                    hidden_layer_sizes=N_Hidden,random_state=0)\n"
      ],
      "execution_count": 0,
      "outputs": []
    },
    {
      "cell_type": "code",
      "metadata": {
        "id": "VCd7bGM8bm04",
        "colab_type": "code",
        "outputId": "75493a73-d7f6-46a2-f49f-5615d8fbf8f1",
        "colab": {
          "base_uri": "https://localhost:8080/",
          "height": 285
        }
      },
      "source": [
        "# treina a rede neural\n",
        "clf.fit(X_train, y_train)\n"
      ],
      "execution_count": 0,
      "outputs": [
        {
          "output_type": "stream",
          "text": [
            "/usr/local/lib/python3.6/dist-packages/sklearn/neural_network/_multilayer_perceptron.py:470: ConvergenceWarning: lbfgs failed to converge (status=1):\n",
            "STOP: TOTAL NO. of ITERATIONS REACHED LIMIT.\n",
            "\n",
            "Increase the number of iterations (max_iter) or scale the data as shown in:\n",
            "    https://scikit-learn.org/stable/modules/preprocessing.html\n",
            "  self.n_iter_ = _check_optimize_result(\"lbfgs\", opt_res, self.max_iter)\n"
          ],
          "name": "stderr"
        },
        {
          "output_type": "execute_result",
          "data": {
            "text/plain": [
              "MLPClassifier(activation='tanh', alpha=1e-05, batch_size='auto', beta_1=0.9,\n",
              "              beta_2=0.999, early_stopping=False, epsilon=1e-08,\n",
              "              hidden_layer_sizes=24, learning_rate='constant',\n",
              "              learning_rate_init=0.001, max_fun=15000, max_iter=200,\n",
              "              momentum=0.9, n_iter_no_change=10, nesterovs_momentum=True,\n",
              "              power_t=0.5, random_state=0, shuffle=True, solver='lbfgs',\n",
              "              tol=0.0001, validation_fraction=0.1, verbose=False,\n",
              "              warm_start=False)"
            ]
          },
          "metadata": {
            "tags": []
          },
          "execution_count": 17
        }
      ]
    },
    {
      "cell_type": "code",
      "metadata": {
        "id": "kSXYEWkmbu1p",
        "colab_type": "code",
        "colab": {}
      },
      "source": [
        "# usa a rede neural treina em calculos para treino e teste\n",
        "y_calc_train=clf.predict(X_train)\n",
        "y_pred=clf.predict(X_test)\n"
      ],
      "execution_count": 0,
      "outputs": []
    },
    {
      "cell_type": "code",
      "metadata": {
        "id": "yuJNYvbGcjVE",
        "colab_type": "code",
        "outputId": "05991574-dd6d-4d31-d251-ae50428cd0f6",
        "colab": {
          "base_uri": "https://localhost:8080/",
          "height": 247
        }
      },
      "source": [
        "# Evaluating the Algorithm\n",
        "print(confusion_matrix(y_pred, y_test))\n",
        "print(classification_report(y_pred, y_test))"
      ],
      "execution_count": 0,
      "outputs": [
        {
          "output_type": "stream",
          "text": [
            "[[21  2  8]\n",
            " [ 2 27 10]\n",
            " [14  8 16]]\n",
            "              precision    recall  f1-score   support\n",
            "\n",
            "           1       0.57      0.68      0.62        31\n",
            "           2       0.73      0.69      0.71        39\n",
            "           3       0.47      0.42      0.44        38\n",
            "\n",
            "    accuracy                           0.59       108\n",
            "   macro avg       0.59      0.60      0.59       108\n",
            "weighted avg       0.59      0.59      0.59       108\n",
            "\n"
          ],
          "name": "stdout"
        }
      ]
    },
    {
      "cell_type": "markdown",
      "metadata": {
        "id": "Fzmsl4clwqy1",
        "colab_type": "text"
      },
      "source": [
        ""
      ]
    },
    {
      "cell_type": "code",
      "metadata": {
        "id": "uiNqfTz1Ipkp",
        "colab_type": "code",
        "outputId": "d44a0a23-dcab-499f-a0b2-2dc4519d0187",
        "colab": {
          "base_uri": "https://localhost:8080/",
          "height": 55
        }
      },
      "source": [
        "'''\n",
        "[[5 4 2]\n",
        " [2 1 1]\n",
        " [1 3 5]]\n",
        "              precision    recall  f1-score   support\n",
        "\n",
        "           1       0.62      0.45      0.53        11\n",
        "           2       0.12      0.25      0.17         4\n",
        "           3       0.62      0.56      0.59         9\n",
        "\n",
        "    accuracy                           0.46        24\n",
        "   macro avg       0.46      0.42      0.43        24\n",
        "weighted avg       0.54      0.46      0.49        24\n",
        "'''"
      ],
      "execution_count": 0,
      "outputs": [
        {
          "output_type": "execute_result",
          "data": {
            "text/plain": [
              "'\\n[[5 4 2]\\n [2 1 1]\\n [1 3 5]]\\n              precision    recall  f1-score   support\\n\\n           1       0.62      0.45      0.53        11\\n           2       0.12      0.25      0.17         4\\n           3       0.62      0.56      0.59         9\\n\\n    accuracy                           0.46        24\\n   macro avg       0.46      0.42      0.43        24\\nweighted avg       0.54      0.46      0.49        24\\n'"
            ]
          },
          "metadata": {
            "tags": []
          },
          "execution_count": 20
        }
      ]
    },
    {
      "cell_type": "code",
      "metadata": {
        "id": "0_2coHl9nOW_",
        "colab_type": "code",
        "outputId": "dc945630-6916-41c8-b8f1-84748fcf2ec3",
        "colab": {
          "base_uri": "https://localhost:8080/",
          "height": 70
        }
      },
      "source": [
        "print(y_pred)"
      ],
      "execution_count": 0,
      "outputs": [
        {
          "output_type": "stream",
          "text": [
            "[1 2 3 2 3 1 3 1 2 3 1 3 1 1 1 2 2 2 2 1 3 1 2 3 2 2 2 3 2 3 1 3 3 1 1 1 2\n",
            " 1 2 3 3 1 3 3 2 3 2 2 2 2 3 1 1 2 2 1 2 3 2 2 3 2 3 3 1 1 1 3 3 1 1 3 3 2\n",
            " 2 2 3 3 2 3 1 3 2 2 1 2 2 3 1 2 2 1 1 2 3 1 3 3 3 2 3 3 3 1 3 2 1 2]\n"
          ],
          "name": "stdout"
        }
      ]
    }
  ]
}