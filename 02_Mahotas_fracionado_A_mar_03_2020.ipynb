{
  "nbformat": 4,
  "nbformat_minor": 0,
  "metadata": {
    "colab": {
      "name": "02_Mahotas_fracionado_A_mar_03_2020.ipynb",
      "provenance": [],
      "collapsed_sections": [],
      "include_colab_link": true
    },
    "kernelspec": {
      "name": "python3",
      "display_name": "Python 3"
    },
    "accelerator": "GPU"
  },
  "cells": [
    {
      "cell_type": "markdown",
      "metadata": {
        "id": "view-in-github",
        "colab_type": "text"
      },
      "source": [
        "<a href=\"https://colab.research.google.com/github/ucfilho/marquesgabi_mar_2020/blob/master/02_Mahotas_fracionado_A_mar_03_2020.ipynb\" target=\"_parent\"><img src=\"https://colab.research.google.com/assets/colab-badge.svg\" alt=\"Open In Colab\"/></a>"
      ]
    },
    {
      "cell_type": "code",
      "metadata": {
        "id": "f393Z8HdEmRg",
        "colab_type": "code",
        "outputId": "2468d567-83ba-4936-c041-2560799b5afa",
        "colab": {
          "base_uri": "https://localhost:8080/",
          "height": 72
        }
      },
      "source": [
        "!pip install mahotas"
      ],
      "execution_count": 0,
      "outputs": [
        {
          "output_type": "stream",
          "text": [
            "Requirement already satisfied: mahotas in /usr/local/lib/python3.6/dist-packages (1.4.9)\n",
            "Requirement already satisfied: numpy in /usr/local/lib/python3.6/dist-packages (from mahotas) (1.17.5)\n"
          ],
          "name": "stdout"
        }
      ]
    },
    {
      "cell_type": "code",
      "metadata": {
        "id": "XBCyxlSmWLRH",
        "colab_type": "code",
        "colab": {}
      },
      "source": [
        "# fotos pequenas \n",
        "# 02_Mahotas_fracionado_B_mar_03_2020.ipynb \n",
        "# fotos grandes\n",
        "# 02_Mahotas_fracionado_A_mar_03_2020.ipynb"
      ],
      "execution_count": 0,
      "outputs": []
    },
    {
      "cell_type": "code",
      "metadata": {
        "id": "ZS1qeQn3WCSY",
        "colab_type": "code",
        "colab": {}
      },
      "source": [
        ""
      ],
      "execution_count": 0,
      "outputs": []
    },
    {
      "cell_type": "code",
      "metadata": {
        "id": "8yb-DpxXF8Ht",
        "colab_type": "code",
        "colab": {}
      },
      "source": [
        "Escolha=['ASM', 'constrast', 'correl', 'variance', 'inv diff mom', 'sum aveg', \n",
        "         'sum var', 'sum entropy', 'entropy', 'dif var', 'dif entropy', \n",
        "         'IMC1', 'IMC2']\n",
        "Prop=Escolha[1] # Propriedade a escolher para ter picos, largura de pico, proeminencia,..."
      ],
      "execution_count": 0,
      "outputs": []
    },
    {
      "cell_type": "code",
      "metadata": {
        "id": "W0wfLMP8nWAM",
        "colab_type": "code",
        "outputId": "fea6c7eb-1358-445d-e3b3-17595ca86017",
        "colab": {
          "base_uri": "https://localhost:8080/",
          "height": 72
        }
      },
      "source": [
        "!git clone https://github.com/ucfilho/marquesgabi_fev_2020 #clonar do Github\n",
        "%cd marquesgabi_fev_2020"
      ],
      "execution_count": 0,
      "outputs": [
        {
          "output_type": "stream",
          "text": [
            "fatal: destination path 'marquesgabi_fev_2020' already exists and is not an empty directory.\n",
            "/content/marquesgabi_fev_2020/marquesgabi_fev_2020\n"
          ],
          "name": "stdout"
        }
      ]
    },
    {
      "cell_type": "code",
      "metadata": {
        "id": "SzWdrvAgvBId",
        "colab_type": "code",
        "colab": {}
      },
      "source": [
        "import numpy as np\n",
        "import cv2\n",
        "from skimage import data\n",
        "import matplotlib.pyplot as plt\n",
        "import matplotlib\n",
        "import pandas as pd\n",
        "from skimage import io, util\n",
        "import mahotas.features.texture as mht\n",
        "import mahotas.features\n",
        "import os \n",
        "import zipfile\n",
        "from skimage import filters\n",
        "from skimage import exposure\n",
        "import skimage.feature as sk\n",
        "from google.colab import files\n",
        "from numpy import linalg as LA\n",
        "from scipy import stats\n",
        "from scipy.signal import find_peaks\n",
        "from scipy.signal import peak_prominences\n",
        "from scipy.signal import peak_widths\n",
        "from scipy import integrate\n",
        "import re\n",
        "import Go2BlackWhite\n",
        "import Go2Mahotas\n",
        "%matplotlib inline"
      ],
      "execution_count": 0,
      "outputs": []
    },
    {
      "cell_type": "code",
      "metadata": {
        "id": "xoW1HoWp3qNO",
        "colab_type": "code",
        "colab": {}
      },
      "source": [
        "\n",
        "Size=20 # tamanho da foto\n",
        "Sub_Size=int(Size/5) # tamanho do fracionamento\n",
        "Row_Crop=1/2 # posicao do corte\n",
        "Crop=int(Size*Row_Crop)"
      ],
      "execution_count": 0,
      "outputs": []
    },
    {
      "cell_type": "code",
      "metadata": {
        "id": "c43TnWalRs_H",
        "colab_type": "code",
        "colab": {}
      },
      "source": [
        "Transfere='Fotos_Grandes.zip'\n",
        "file_name = zipfile.ZipFile(Transfere, 'r')\n",
        "file_name.extractall()"
      ],
      "execution_count": 0,
      "outputs": []
    },
    {
      "cell_type": "code",
      "metadata": {
        "id": "LEUZAUTbaa7C",
        "colab_type": "code",
        "outputId": "c241b326-b2ac-45cd-92de-29c7b1da68ae",
        "colab": {
          "base_uri": "https://localhost:8080/",
          "height": 335
        }
      },
      "source": [
        "!ls"
      ],
      "execution_count": 0,
      "outputs": [
        {
          "output_type": "stream",
          "text": [
            "00_Arquivos_utilizados_nesta_pasta.ipynb\n",
            "01_Features_Mahotas_Completo_fev_11_2020.ipynb\n",
            "02_Mahotas_fracionado_B_mar_03_2020.ipynb\n",
            "02_Mahotas_fracionado_fev_14_2020.ipynb\n",
            "02_Mahotas_fracionado_fev_18_2020.ipynb\n",
            "02_Mahotas_fracionado_fev_20_2020.ipynb\n",
            "Color_Features_Determination_fev_06_2020.ipynb\n",
            "Features_Determination_fev_06_2020.ipynb\n",
            "Features_fev_2020.zip\n",
            "Features_Mahotas_fev_11_2020.ipynb\n",
            "Fotos9Amostras.zip\n",
            "Fotos_Grandes\n",
            "Fotos_Grandes.zip\n",
            "Go2BlackWhite.py\n",
            "Go2GLCM.py\n",
            "Go2Mahotas.py\n",
            "Matriz_rede_fev_06_2020.ipynb\n",
            "README.md\n"
          ],
          "name": "stdout"
        }
      ]
    },
    {
      "cell_type": "code",
      "metadata": {
        "id": "GrLtSCRor_By",
        "colab_type": "code",
        "outputId": "38404da7-58f5-4a69-e637-463049e81dad",
        "colab": {
          "base_uri": "https://localhost:8080/",
          "height": 265
        }
      },
      "source": [
        "ww,img_name=Go2BlackWhite.BlackWhite(Transfere,Size)\n",
        "plt.axis(\"off\")\n",
        "plt.imshow(ww[5], cmap = \"gray\")"
      ],
      "execution_count": 0,
      "outputs": [
        {
          "output_type": "execute_result",
          "data": {
            "text/plain": [
              "<matplotlib.image.AxesImage at 0x7f320dcf3550>"
            ]
          },
          "metadata": {
            "tags": []
          },
          "execution_count": 16
        },
        {
          "output_type": "display_data",
          "data": {
            "image/png": "[encoded data removed]",
            "text/plain": [
              "<Figure size 432x288 with 1 Axes>"
            ]
          },
          "metadata": {
            "tags": []
          }
        }
      ]
    },
    {
      "cell_type": "code",
      "metadata": {
        "id": "rDUgTX8BMOoD",
        "colab_type": "code",
        "colab": {}
      },
      "source": [
        "NumFotos=len(img_name)"
      ],
      "execution_count": 0,
      "outputs": []
    },
    {
      "cell_type": "code",
      "metadata": {
        "id": "MukX2r3ys3tm",
        "colab_type": "code",
        "colab": {}
      },
      "source": [
        "# Find the list elements starting with specific letter\n",
        "subs = 'B'\n",
        "Buraco = [x for x in img_name if re.search(subs, x)] \n",
        "subs = 'G'\n",
        "Grao = [x for x in img_name if re.search(subs, x)] \n",
        "subs = 'I'\n",
        "Indef = [x for x in img_name if re.search(subs, x)] "
      ],
      "execution_count": 0,
      "outputs": []
    },
    {
      "cell_type": "code",
      "metadata": {
        "id": "jEeQ6NiHRLJs",
        "colab_type": "code",
        "colab": {}
      },
      "source": [
        "# ESTA PARTE PRECISA PARA CALCULAR OS PICOS E AREA ABAIXO DA CURVA, CADA\n",
        "# LINHA E UMA CURVA DA PROPRIEDADE ESCOLHIDA PARA UMA FOTO E CADA COLUNA \n",
        "# UM QUADRADO DA FOTO ANDANDO...\n",
        "Todas_Fotos=[] \n",
        "# Todas_Fotos tem os valores medio da propriedade cada linha representa \n",
        "# uma foto e cada coluna as subdivisoes da foto (um quadrado que anda ao \n",
        "# longo da foto)\n",
        "for k in range(NumFotos):\n",
        "  Prop_Escolhida=[]\n",
        "  #p_foto=ww[k,:].reshape(Size,Size)\n",
        "  p_foto=ww[k].reshape(Size,Size)\n",
        "  GLCM=[]\n",
        "  glcm_haralick=[]\n",
        "  x_ref=[]\n",
        "  Count=Sub_Size\n",
        "  p=np.zeros((Sub_Size,Sub_Size))\n",
        "  j_ref=0\n",
        "  Cada_foto=[]\n",
        "  Posicao_X=[]\n",
        "  Posicao_Y=[]\n",
        "  for k in range(Size):\n",
        "    if((k+Sub_Size-1)<Size):\n",
        "      #print(\"(k+Sub_Size)=\",(k+Sub_Size),\"k=\",k)\n",
        "      for i in range(Sub_Size):\n",
        "        Posicao_X.append(Crop+i)\n",
        "        for j in range(Sub_Size):\n",
        "          p[i,j]=p_foto[Crop+i,j+k]\n",
        "          Posicao_Y.append(j+k)\n",
        "\n",
        "      WW=np.copy(p) \n",
        "      Cada_foto.append(WW.ravel())\n",
        "      x_ref.append(Count-Sub_Size)\n",
        "      Count=Count+1\n",
        "     \n",
        "      Mahotas =pd.DataFrame(mahotas.features.haralick(p.astype(int)), columns =Escolha)\n",
        "      Prop_Escolhida.append(Mahotas[Prop].mean())\n",
        "\n",
        "  Todas_Fotos.append(Prop_Escolhida)\n",
        "\n",
        "df=pd.DataFrame(Todas_Fotos)\n",
        "\n"
      ],
      "execution_count": 0,
      "outputs": []
    },
    {
      "cell_type": "code",
      "metadata": {
        "id": "Liq_cEDz1kPV",
        "colab_type": "code",
        "outputId": "3e43ee31-e604-4e1d-9405-fada38ddf9d5",
        "colab": {
          "base_uri": "https://localhost:8080/",
          "height": 388
        }
      },
      "source": [
        "print(df)"
      ],
      "execution_count": 0,
      "outputs": [
        {
          "output_type": "stream",
          "text": [
            "             0            1   ...           15           16\n",
            "0   2195.472222  1432.756944  ...  1274.715278  2683.701389\n",
            "1   3998.159722  1236.548611  ...  2147.104167  3830.381944\n",
            "2   1254.583333  1952.944444  ...  2133.152778  3028.243056\n",
            "3   3767.687500  3322.159722  ...  4598.993056  4023.645833\n",
            "4   6611.208333  2386.756944  ...  3115.986111  4837.513889\n",
            "5   6944.534722  4261.979167  ...  5417.375000  6221.319444\n",
            "6   4362.861111  2212.500000  ...  2618.715278  2911.138889\n",
            "7   1886.652778  1686.833333  ...  3331.805556  3103.750000\n",
            "8   5110.236111  5357.486111  ...  1627.951389  1671.833333\n",
            "9   3894.604167  3095.361111  ...  3062.131944  6895.215278\n",
            "10  7614.159722  4495.236111  ...  4218.805556  6627.868056\n",
            "11  1905.819444  1617.541667  ...  3549.291667  4354.166667\n",
            "12  2423.819444   818.868056  ...  5525.284722  9124.263889\n",
            "13  2069.152778  2524.520833  ...  1460.236111  2050.013889\n",
            "14  2668.965278  3072.520833  ...  5219.819444  4433.909722\n",
            "15  3666.763889  1651.423611  ...  3299.166667  4023.854167\n",
            "16  5134.493056  1345.743056  ...  3660.118056  6401.312500\n",
            "17  3358.701389  2125.298611  ...  2115.548611  2053.340278\n",
            "\n",
            "[18 rows x 17 columns]\n"
          ],
          "name": "stdout"
        }
      ]
    },
    {
      "cell_type": "code",
      "metadata": {
        "id": "DEJ2xcDgtNRH",
        "colab_type": "code",
        "outputId": "b9f3d977-0959-4099-c384-7f2dc9241a74",
        "colab": {
          "base_uri": "https://localhost:8080/",
          "height": 52
        }
      },
      "source": [
        "print(len(Cada_foto[0])) # Cada_foto contem a foto pequena varrida\n",
        "print(np.array(Cada_foto).shape)"
      ],
      "execution_count": 0,
      "outputs": [
        {
          "output_type": "stream",
          "text": [
            "16\n",
            "(17, 16)\n"
          ],
          "name": "stdout"
        }
      ]
    },
    {
      "cell_type": "code",
      "metadata": {
        "id": "hZF4pOns2qOy",
        "colab_type": "code",
        "outputId": "c8665959-6859-4e9c-f257-23e78d42f4fc",
        "colab": {
          "base_uri": "https://localhost:8080/",
          "height": 35
        }
      },
      "source": [
        "print(NumFotos)"
      ],
      "execution_count": 0,
      "outputs": [
        {
          "output_type": "stream",
          "text": [
            "18\n"
          ],
          "name": "stdout"
        }
      ]
    },
    {
      "cell_type": "code",
      "metadata": {
        "id": "IPEQ7pf5NUjs",
        "colab_type": "code",
        "colab": {}
      },
      "source": [
        "# esta parte calcula picos, area abaixo da curva antes ela precisa gerar \n",
        "# o dataframe que contem a propriedade escolhida com uma foto em cada linha ....\n",
        "Features_Total=[]\n",
        "for i in range(NumFotos):\n",
        "  x=df.iloc[i]\n",
        "  peaks, rr = find_peaks(x, height=0)\n",
        "\n",
        "  N_peaks=len(peaks)\n",
        "  prominences = peak_prominences(x, peaks)\n",
        "  \n",
        "  #Area = simps(x, dx=1)\n",
        "  Area = integrate.simps(x, dx=1)\n",
        "  if(len(peaks)==0):\n",
        "    Width_peaks =0\n",
        "    Width_peaks_max =0\n",
        "    Width_peaks_min =0\n",
        "    Media_proem=0    \n",
        "  else:\n",
        "    Width_peaks =np.mean(peak_widths(x, peaks, rel_height=0.5))\n",
        "    Width_peaks_max =np.max(peak_widths(x, peaks, rel_height=0.5))\n",
        "    Width_peaks_min =np.min(peak_widths(x, peaks, rel_height=0.5))\n",
        "    Media_proem=np.mean(prominences)\n",
        "  Median = np.median(x)\n",
        "  Mode= stats.mode(x)[0]\n",
        "  Mean=np.mean(x)\n",
        "  Sd=np.std(x)\n",
        "\n",
        "  Features=[]\n",
        "  Features.append(N_peaks)\n",
        "  Features.append(Media_proem )\n",
        "  Features.append(Area)\n",
        "  Features.append(Width_peaks )\n",
        "  Features.append(Width_peaks_max)\n",
        "  Features.append(Width_peaks_min)\n",
        "  Features.append(Median )\n",
        "  Features.append(Mode[0])\n",
        "  Features.append(Mean)\n",
        "  Features.append(Sd)\n",
        "\n",
        "  Features_Total.append(Features)\n",
        "\n",
        "Nomes_Fracionada=['N_peaks','Media_proem','Area','Width_peaks','Width_peaks_max',\n",
        "                    'Width_peaks_min','Median','Mode','Mean','Sd'] \n",
        "  \n",
        "Features_Total=pd.DataFrame(Features_Total,columns=Nomes_Fracionada)\n"
      ],
      "execution_count": 0,
      "outputs": []
    },
    {
      "cell_type": "code",
      "metadata": {
        "id": "JQD34kQ6y_GO",
        "colab_type": "code",
        "outputId": "01ba4957-4c70-4b67-938f-7016471508ec",
        "colab": {
          "base_uri": "https://localhost:8080/",
          "height": 408
        }
      },
      "source": [
        "print(Features_Total)"
      ],
      "execution_count": 0,
      "outputs": [
        {
          "output_type": "stream",
          "text": [
            "    N_peaks  Media_proem          Area  ...         Mode         Mean           Sd\n",
            "0         2   572.853009  31446.090278  ...   941.875000  2006.143791   975.100472\n",
            "1         1   449.388889  35530.537037  ...  1106.750000  2360.277369   849.548436\n",
            "2         2   518.478009  29952.266204  ...   435.895833  1867.739379   875.846336\n",
            "3         3   334.019290  41249.861111  ...  1100.048611  2634.691585  1071.684170\n",
            "4         2   155.675926  30912.490741  ...   509.902778  2191.235294  1453.385240\n",
            "5         1    57.456019  43821.969907  ...  1076.590278  2965.673203  1883.417829\n",
            "6         1   714.173611  31620.444444  ...   798.048611  2083.889297   875.158176\n",
            "7         2    61.763889  22437.388889  ...   529.409722  1461.268382   891.571690\n",
            "8         2   728.251157  50873.087963  ...  1430.513889  3185.747958  1516.228582\n",
            "9         1    37.113426  32565.675926  ...  1025.020833  2269.249592  1388.444326\n",
            "10        3   291.766975  50380.930556  ...  1401.000000  3416.674020  1629.980528\n",
            "11        3   184.471451  43329.865741  ...  1617.541667  2744.804739   610.126674\n",
            "12        2   654.432870  43739.027778  ...   818.868056  2959.892565  2005.299863\n",
            "13        2   181.756944  25035.694444  ...  1023.625000  1575.764297   416.108536\n",
            "14        4   211.153935  38906.652778  ...   540.659722  2528.629493  1549.998226\n",
            "15        2   227.274306  30898.331019  ...   745.270833  2054.211601   869.339054\n",
            "16        2   210.594907  34850.041667  ...   669.972222  2446.906046  1547.903702\n",
            "17        2   325.159722  25503.004630  ...   759.326389  1667.947304   753.346550\n",
            "\n",
            "[18 rows x 10 columns]\n"
          ],
          "name": "stdout"
        }
      ]
    },
    {
      "cell_type": "code",
      "metadata": {
        "id": "dZSOVH78CeU_",
        "colab_type": "code",
        "outputId": "2f7472b5-9fd3-496f-c8ba-d914b4715603",
        "colab": {
          "base_uri": "https://localhost:8080/",
          "height": 35
        }
      },
      "source": [
        "# found drive\n",
        "from google.colab import drive\n",
        "drive.mount('drive')"
      ],
      "execution_count": 0,
      "outputs": [
        {
          "output_type": "stream",
          "text": [
            "Mounted at drive\n"
          ],
          "name": "stdout"
        }
      ]
    },
    {
      "cell_type": "code",
      "metadata": {
        "id": "oIVbtweYI7e0",
        "colab_type": "code",
        "outputId": "7011ae0e-216f-4348-bdac-f5355e133092",
        "colab": {
          "base_uri": "https://localhost:8080/",
          "height": 211
        }
      },
      "source": [
        "print(Features_Total.iloc[5])\n"
      ],
      "execution_count": 0,
      "outputs": [
        {
          "output_type": "stream",
          "text": [
            "N_peaks                1.000000\n",
            "Media_proem           57.456019\n",
            "Area               43821.969907\n",
            "Width_peaks          382.353857\n",
            "Width_peaks_max     1516.982639\n",
            "Width_peaks_min        0.716394\n",
            "Median              2105.875000\n",
            "Mode                1076.590278\n",
            "Mean                2965.673203\n",
            "Sd                  1883.417829\n",
            "Name: 5, dtype: float64\n"
          ],
          "name": "stdout"
        }
      ]
    },
    {
      "cell_type": "code",
      "metadata": {
        "id": "I0g7qrM-IxvF",
        "colab_type": "code",
        "outputId": "f2ce0d9d-7c68-4916-e9b3-f29d4a7cdd59",
        "colab": {
          "base_uri": "https://localhost:8080/",
          "height": 211
        }
      },
      "source": [
        "\n",
        "print(Features_Total.iloc[9])"
      ],
      "execution_count": 0,
      "outputs": [
        {
          "output_type": "stream",
          "text": [
            "N_peaks                1.000000\n",
            "Media_proem           37.113426\n",
            "Area               32565.675926\n",
            "Width_peaks          489.278475\n",
            "Width_peaks_max     1948.663194\n",
            "Width_peaks_min        0.725354\n",
            "Median              1898.993056\n",
            "Mode                1025.020833\n",
            "Mean                2269.249592\n",
            "Sd                  1388.444326\n",
            "Name: 9, dtype: float64\n"
          ],
          "name": "stdout"
        }
      ]
    },
    {
      "cell_type": "code",
      "metadata": {
        "id": "Lw8rqNu0CpQv",
        "colab_type": "code",
        "colab": {}
      },
      "source": [
        "# get csv file\n",
        "#Features_Total.to_csv('Contraste_Fracionado_fev_2020.csv')\n",
        "# a mundaca do formato  float_format=\"%.5f\"   objetiva \n",
        "# evitar corromper alguns pontos como aconteceu \n",
        "# antes desta mudanca mudar \n",
        "Features_Total.to_csv('Contraste_Fracionado_fev_2020.csv', float_format=\"%.5f\")"
      ],
      "execution_count": 0,
      "outputs": []
    },
    {
      "cell_type": "code",
      "metadata": {
        "id": "6KFSiJ3tB7L2",
        "colab_type": "code",
        "colab": {}
      },
      "source": [
        "# save in drive\n",
        "!cp Contraste_Fracionado_fev_2020.csv drive/My\\ Drive/Maria_Gabriela_Textura_dados_jan_2020/"
      ],
      "execution_count": 0,
      "outputs": []
    }
  ]
}