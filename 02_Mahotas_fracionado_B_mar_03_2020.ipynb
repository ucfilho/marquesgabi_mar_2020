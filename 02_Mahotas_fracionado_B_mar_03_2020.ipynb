{
  "nbformat": 4,
  "nbformat_minor": 0,
  "metadata": {
    "colab": {
      "name": "02_Mahotas_fracionado_B_mar_03_2020.ipynb",
      "provenance": [],
      "collapsed_sections": [],
      "include_colab_link": true
    },
    "kernelspec": {
      "name": "python3",
      "display_name": "Python 3"
    },
    "accelerator": "GPU"
  },
  "cells": [
    {
      "cell_type": "markdown",
      "metadata": {
        "id": "view-in-github",
        "colab_type": "text"
      },
      "source": [
        "<a href=\"https://colab.research.google.com/github/ucfilho/marquesgabi_mar_2020/blob/master/02_Mahotas_fracionado_B_mar_03_2020.ipynb\" target=\"_parent\"><img src=\"https://colab.research.google.com/assets/colab-badge.svg\" alt=\"Open In Colab\"/></a>"
      ]
    },
    {
      "cell_type": "code",
      "metadata": {
        "id": "f393Z8HdEmRg",
        "colab_type": "code",
        "outputId": "b68a7895-89de-45fc-ff33-34c5499a4af6",
        "colab": {
          "base_uri": "https://localhost:8080/",
          "height": 72
        }
      },
      "source": [
        "!pip install mahotas"
      ],
      "execution_count": 0,
      "outputs": [
        {
          "output_type": "stream",
          "text": [
            "Requirement already satisfied: mahotas in /usr/local/lib/python3.6/dist-packages (1.4.9)\n",
            "Requirement already satisfied: numpy in /usr/local/lib/python3.6/dist-packages (from mahotas) (1.17.5)\n"
          ],
          "name": "stdout"
        }
      ]
    },
    {
      "cell_type": "code",
      "metadata": {
        "id": "XBCyxlSmWLRH",
        "colab_type": "code",
        "colab": {}
      },
      "source": [
        "# fotos pequenas \n",
        "# 02_Mahotas_fracionado_B_mar_03_2020.ipynb \n",
        "# fotos grandes\n",
        "# 02_Mahotas_fracionado_A_mar_03_2020.ipynb"
      ],
      "execution_count": 0,
      "outputs": []
    },
    {
      "cell_type": "code",
      "metadata": {
        "id": "ZS1qeQn3WCSY",
        "colab_type": "code",
        "colab": {}
      },
      "source": [
        ""
      ],
      "execution_count": 0,
      "outputs": []
    },
    {
      "cell_type": "code",
      "metadata": {
        "id": "8yb-DpxXF8Ht",
        "colab_type": "code",
        "colab": {}
      },
      "source": [
        "Escolha=['ASM', 'constrast', 'correl', 'variance', 'inv diff mom', 'sum aveg', \n",
        "         'sum var', 'sum entropy', 'entropy', 'dif var', 'dif entropy', \n",
        "         'IMC1', 'IMC2']\n",
        "Prop=Escolha[1] # Propriedade a escolher para ter picos, largura de pico, proeminencia,..."
      ],
      "execution_count": 0,
      "outputs": []
    },
    {
      "cell_type": "code",
      "metadata": {
        "id": "W0wfLMP8nWAM",
        "colab_type": "code",
        "outputId": "6c2e47e7-f4d1-44e8-8336-2def9b2d978e",
        "colab": {
          "base_uri": "https://localhost:8080/",
          "height": 72
        }
      },
      "source": [
        "!git clone https://github.com/ucfilho/marquesgabi_fev_2020 #clonar do Github\n",
        "%cd marquesgabi_fev_2020"
      ],
      "execution_count": 0,
      "outputs": [
        {
          "output_type": "stream",
          "text": [
            "fatal: destination path 'marquesgabi_fev_2020' already exists and is not an empty directory.\n",
            "/content/marquesgabi_fev_2020\n"
          ],
          "name": "stdout"
        }
      ]
    },
    {
      "cell_type": "code",
      "metadata": {
        "id": "SzWdrvAgvBId",
        "colab_type": "code",
        "colab": {}
      },
      "source": [
        "import numpy as np\n",
        "import cv2\n",
        "from skimage import data\n",
        "import matplotlib.pyplot as plt\n",
        "import matplotlib\n",
        "import pandas as pd\n",
        "from skimage import io, util\n",
        "import mahotas.features.texture as mht\n",
        "import mahotas.features\n",
        "import os \n",
        "import zipfile\n",
        "from skimage import filters\n",
        "from skimage import exposure\n",
        "import skimage.feature as sk\n",
        "from google.colab import files\n",
        "from numpy import linalg as LA\n",
        "from scipy import stats\n",
        "from scipy.signal import find_peaks\n",
        "from scipy.signal import peak_prominences\n",
        "from scipy.signal import peak_widths\n",
        "from scipy import integrate\n",
        "import re\n",
        "import Go2BlackWhite\n",
        "import Go2Mahotas\n",
        "%matplotlib inline"
      ],
      "execution_count": 0,
      "outputs": []
    },
    {
      "cell_type": "code",
      "metadata": {
        "id": "xoW1HoWp3qNO",
        "colab_type": "code",
        "colab": {}
      },
      "source": [
        "\n",
        "Size=20 # tamanho da foto\n",
        "Sub_Size=int(Size/5) # tamanho do fracionamento\n",
        "Row_Crop=1/2 # posicao do corte\n",
        "Crop=int(Size*Row_Crop)"
      ],
      "execution_count": 0,
      "outputs": []
    },
    {
      "cell_type": "code",
      "metadata": {
        "id": "c43TnWalRs_H",
        "colab_type": "code",
        "colab": {}
      },
      "source": [
        "Transfere='Fotos9Amostras.zip'\n",
        "file_name = zipfile.ZipFile(Transfere, 'r')\n",
        "file_name.extractall()"
      ],
      "execution_count": 0,
      "outputs": []
    },
    {
      "cell_type": "code",
      "metadata": {
        "id": "GrLtSCRor_By",
        "colab_type": "code",
        "outputId": "d32c12a7-19bf-4596-c33f-3b6dc679fc7d",
        "colab": {
          "base_uri": "https://localhost:8080/",
          "height": 265
        }
      },
      "source": [
        "ww,img_name=Go2BlackWhite.BlackWhite(Transfere,Size)\n",
        "plt.axis(\"off\")\n",
        "plt.imshow(ww[539], cmap = \"gray\")"
      ],
      "execution_count": 0,
      "outputs": [
        {
          "output_type": "execute_result",
          "data": {
            "text/plain": [
              "<matplotlib.image.AxesImage at 0x7f9eb7a29470>"
            ]
          },
          "metadata": {
            "tags": []
          },
          "execution_count": 8
        },
        {
          "output_type": "display_data",
          "data": {
            "image/png": "[encoded data removed]",
            "text/plain": [
              "<Figure size 432x288 with 1 Axes>"
            ]
          },
          "metadata": {
            "tags": []
          }
        }
      ]
    },
    {
      "cell_type": "code",
      "metadata": {
        "id": "rDUgTX8BMOoD",
        "colab_type": "code",
        "colab": {}
      },
      "source": [
        "NumFotos=len(img_name)"
      ],
      "execution_count": 0,
      "outputs": []
    },
    {
      "cell_type": "code",
      "metadata": {
        "id": "MukX2r3ys3tm",
        "colab_type": "code",
        "colab": {}
      },
      "source": [
        "# Find the list elements starting with specific letter\n",
        "subs = 'B'\n",
        "Buraco = [x for x in img_name if re.search(subs, x)] \n",
        "subs = 'G'\n",
        "Grao = [x for x in img_name if re.search(subs, x)] \n",
        "subs = 'I'\n",
        "Indef = [x for x in img_name if re.search(subs, x)] "
      ],
      "execution_count": 0,
      "outputs": []
    },
    {
      "cell_type": "code",
      "metadata": {
        "id": "jEeQ6NiHRLJs",
        "colab_type": "code",
        "colab": {}
      },
      "source": [
        "# ESTA PARTE PRECISA PARA CALCULAR OS PICOS E AREA ABAIXO DA CURVA, CADA\n",
        "# LINHA E UMA CURVA DA PROPRIEDADE ESCOLHIDA PARA UMA FOTO E CADA COLUNA \n",
        "# UM QUADRADO DA FOTO ANDANDO...\n",
        "Todas_Fotos=[] \n",
        "# Todas_Fotos tem os valores medio da propriedade cada linha representa \n",
        "# uma foto e cada coluna as subdivisoes da foto (um quadrado que anda ao \n",
        "# longo da foto)\n",
        "for k in range(NumFotos):\n",
        "  Prop_Escolhida=[]\n",
        "  #p_foto=ww[k,:].reshape(Size,Size)\n",
        "  p_foto=ww[k].reshape(Size,Size)\n",
        "  GLCM=[]\n",
        "  glcm_haralick=[]\n",
        "  x_ref=[]\n",
        "  Count=Sub_Size\n",
        "  p=np.zeros((Sub_Size,Sub_Size))\n",
        "  j_ref=0\n",
        "  Cada_foto=[]\n",
        "  Posicao_X=[]\n",
        "  Posicao_Y=[]\n",
        "  for k in range(Size):\n",
        "    if((k+Sub_Size-1)<Size):\n",
        "      #print(\"(k+Sub_Size)=\",(k+Sub_Size),\"k=\",k)\n",
        "      for i in range(Sub_Size):\n",
        "        Posicao_X.append(Crop+i)\n",
        "        for j in range(Sub_Size):\n",
        "          p[i,j]=p_foto[Crop+i,j+k]\n",
        "          Posicao_Y.append(j+k)\n",
        "\n",
        "      WW=np.copy(p) \n",
        "      Cada_foto.append(WW.ravel())\n",
        "      x_ref.append(Count-Sub_Size)\n",
        "      Count=Count+1\n",
        "     \n",
        "      Mahotas =pd.DataFrame(mahotas.features.haralick(p.astype(int)), columns =Escolha)\n",
        "      Prop_Escolhida.append(Mahotas[Prop].mean())\n",
        "\n",
        "  Todas_Fotos.append(Prop_Escolhida)\n",
        "\n",
        "df=pd.DataFrame(Todas_Fotos)\n",
        "\n"
      ],
      "execution_count": 0,
      "outputs": []
    },
    {
      "cell_type": "code",
      "metadata": {
        "id": "Liq_cEDz1kPV",
        "colab_type": "code",
        "outputId": "177d1bb5-f12f-4798-e6ae-43407b66d5f3",
        "colab": {
          "base_uri": "https://localhost:8080/",
          "height": 285
        }
      },
      "source": [
        "print(df)"
      ],
      "execution_count": 0,
      "outputs": [
        {
          "output_type": "stream",
          "text": [
            "              0            1           2   ...           14           15          16\n",
            "0      15.805556    59.854167   90.243056  ...    22.236111   221.625000  263.694444\n",
            "1     334.513889   166.770833   21.409722  ...   160.145833   162.298611  266.145833\n",
            "2      36.465278    73.875000  118.305556  ...   169.034722   264.666667  309.222222\n",
            "3      77.875000   403.062500  868.902778  ...    32.930556   123.861111  439.076389\n",
            "4      30.006944    13.534722   20.555556  ...   343.784722   177.465278  235.729167\n",
            "..           ...          ...         ...  ...          ...          ...         ...\n",
            "535   632.069444   513.083333  294.055556  ...   144.708333   129.006944  148.722222\n",
            "536  1858.451389  1918.118056  810.284722  ...  2254.291667  1501.819444  774.548611\n",
            "537    57.263889    80.770833   87.458333  ...    19.097222    23.743056   37.451389\n",
            "538    69.125000    89.659722  107.888889  ...    11.131944    15.027778   16.284722\n",
            "539    68.451389    84.868056   80.138889  ...    29.826389    23.097222   17.006944\n",
            "\n",
            "[540 rows x 17 columns]\n"
          ],
          "name": "stdout"
        }
      ]
    },
    {
      "cell_type": "code",
      "metadata": {
        "id": "DEJ2xcDgtNRH",
        "colab_type": "code",
        "outputId": "12d00578-812b-4c31-ee04-67f9bcda0497",
        "colab": {
          "base_uri": "https://localhost:8080/",
          "height": 52
        }
      },
      "source": [
        "print(len(Cada_foto[0])) # Cada_foto contem a foto pequena varrida\n",
        "print(np.array(Cada_foto).shape)"
      ],
      "execution_count": 0,
      "outputs": [
        {
          "output_type": "stream",
          "text": [
            "16\n",
            "(17, 16)\n"
          ],
          "name": "stdout"
        }
      ]
    },
    {
      "cell_type": "code",
      "metadata": {
        "id": "hZF4pOns2qOy",
        "colab_type": "code",
        "outputId": "48ee7244-3ae9-4874-9cdb-f28105a8d0e6",
        "colab": {
          "base_uri": "https://localhost:8080/",
          "height": 35
        }
      },
      "source": [
        "print(NumFotos)"
      ],
      "execution_count": 0,
      "outputs": [
        {
          "output_type": "stream",
          "text": [
            "540\n"
          ],
          "name": "stdout"
        }
      ]
    },
    {
      "cell_type": "code",
      "metadata": {
        "id": "IPEQ7pf5NUjs",
        "colab_type": "code",
        "colab": {}
      },
      "source": [
        "# esta parte calcula picos, area abaixo da curva antes ela precisa gerar \n",
        "# o dataframe que contem a propriedade escolhida com uma foto em cada linha ....\n",
        "Features_Total=[]\n",
        "for i in range(NumFotos):\n",
        "  x=df.iloc[i]\n",
        "  peaks, rr = find_peaks(x, height=0)\n",
        "\n",
        "  N_peaks=len(peaks)\n",
        "  prominences = peak_prominences(x, peaks)\n",
        "  \n",
        "  #Area = simps(x, dx=1)\n",
        "  Area = integrate.simps(x, dx=1)\n",
        "  if(len(peaks)==0):\n",
        "    Width_peaks =0\n",
        "    Width_peaks_max =0\n",
        "    Width_peaks_min =0\n",
        "    Media_proem=0    \n",
        "  else:\n",
        "    Width_peaks =np.mean(peak_widths(x, peaks, rel_height=0.5))\n",
        "    Width_peaks_max =np.max(peak_widths(x, peaks, rel_height=0.5))\n",
        "    Width_peaks_min =np.min(peak_widths(x, peaks, rel_height=0.5))\n",
        "    Media_proem=np.mean(prominences)\n",
        "  Median = np.median(x)\n",
        "  Mode= stats.mode(x)[0]\n",
        "  Mean=np.mean(x)\n",
        "  Sd=np.std(x)\n",
        "\n",
        "  Features=[]\n",
        "  Features.append(N_peaks)\n",
        "  Features.append(Media_proem )\n",
        "  Features.append(Area)\n",
        "  Features.append(Width_peaks )\n",
        "  Features.append(Width_peaks_max)\n",
        "  Features.append(Width_peaks_min)\n",
        "  Features.append(Median )\n",
        "  Features.append(Mode[0])\n",
        "  Features.append(Mean)\n",
        "  Features.append(Sd)\n",
        "\n",
        "  Features_Total.append(Features)\n",
        "\n",
        "Nomes_Fracionada=['N_peaks','Media_proem','Area','Width_peaks','Width_peaks_max',\n",
        "                    'Width_peaks_min','Median','Mode','Mean','Sd'] \n",
        "  \n",
        "Features_Total=pd.DataFrame(Features_Total,columns=Nomes_Fracionada)\n"
      ],
      "execution_count": 0,
      "outputs": []
    },
    {
      "cell_type": "code",
      "metadata": {
        "id": "JQD34kQ6y_GO",
        "colab_type": "code",
        "outputId": "576d565f-59b2-4b00-d401-b7dff113025a",
        "colab": {
          "base_uri": "https://localhost:8080/",
          "height": 265
        }
      },
      "source": [
        "print(Features_Total)"
      ],
      "execution_count": 0,
      "outputs": [
        {
          "output_type": "stream",
          "text": [
            "     N_peaks  Media_proem          Area  ...       Mode        Mean          Sd\n",
            "0          2    21.739583   1024.861111  ...  15.805556   66.996324   68.468751\n",
            "1          1    13.347222   1140.793981  ...  10.854167   86.345997   95.539228\n",
            "2          2    50.770833   2055.159722  ...  30.750000  130.039216   85.504751\n",
            "3          2   196.148148   4612.201389  ...  13.152778  285.037990  368.875344\n",
            "4          2   248.665509   5680.388889  ...  13.534722  347.037582  297.346788\n",
            "..       ...          ...           ...  ...        ...         ...         ...\n",
            "535        2     9.608796   1926.587963  ...  15.861111  137.834150  175.397843\n",
            "536        2   330.730324  15839.675926  ...  40.881944  995.582925  883.242231\n",
            "537        2    54.449074   1677.807870  ...   9.791667  104.133170   95.560662\n",
            "538        2    14.743056    662.655093  ...   6.437500   41.932190   35.139916\n",
            "539        3    19.560957   1105.097222  ...  17.006944   66.435049   33.177403\n",
            "\n",
            "[540 rows x 10 columns]\n"
          ],
          "name": "stdout"
        }
      ]
    },
    {
      "cell_type": "code",
      "metadata": {
        "id": "dZSOVH78CeU_",
        "colab_type": "code",
        "outputId": "ff92decb-2682-45e8-f68c-e180e046576d",
        "colab": {
          "base_uri": "https://localhost:8080/",
          "height": 55
        }
      },
      "source": [
        "# found drive\n",
        "from google.colab import drive\n",
        "drive.mount('drive')"
      ],
      "execution_count": 0,
      "outputs": [
        {
          "output_type": "stream",
          "text": [
            "Drive already mounted at drive; to attempt to forcibly remount, call drive.mount(\"drive\", force_remount=True).\n"
          ],
          "name": "stdout"
        }
      ]
    },
    {
      "cell_type": "code",
      "metadata": {
        "id": "oIVbtweYI7e0",
        "colab_type": "code",
        "outputId": "7e42b3ce-e837-493b-b037-12cb7d1a6942",
        "colab": {
          "base_uri": "https://localhost:8080/",
          "height": 211
        }
      },
      "source": [
        "print(Features_Total.iloc[92])\n"
      ],
      "execution_count": 0,
      "outputs": [
        {
          "output_type": "stream",
          "text": [
            "N_peaks               3.000000\n",
            "Media_proem          18.106481\n",
            "Area               1183.581019\n",
            "Width_peaks          23.146897\n",
            "Width_peaks_max     109.069444\n",
            "Width_peaks_min       0.654638\n",
            "Median               66.784722\n",
            "Mode                 29.250000\n",
            "Mean                 73.074346\n",
            "Sd                   35.952348\n",
            "Name: 92, dtype: float64\n"
          ],
          "name": "stdout"
        }
      ]
    },
    {
      "cell_type": "code",
      "metadata": {
        "id": "I0g7qrM-IxvF",
        "colab_type": "code",
        "outputId": "2703702f-49b2-43e2-f419-fd2139779cba",
        "colab": {
          "base_uri": "https://localhost:8080/",
          "height": 211
        }
      },
      "source": [
        "\n",
        "print(Features_Total.iloc[520])"
      ],
      "execution_count": 0,
      "outputs": [
        {
          "output_type": "stream",
          "text": [
            "N_peaks                1.000000\n",
            "Media_proem          373.895833\n",
            "Area               10156.000000\n",
            "Width_peaks          361.402484\n",
            "Width_peaks_max     1414.920139\n",
            "Width_peaks_min        2.304858\n",
            "Median               220.895833\n",
            "Mode                  97.694444\n",
            "Mean                 721.428513\n",
            "Sd                   849.161543\n",
            "Name: 520, dtype: float64\n"
          ],
          "name": "stdout"
        }
      ]
    },
    {
      "cell_type": "code",
      "metadata": {
        "id": "Lw8rqNu0CpQv",
        "colab_type": "code",
        "colab": {}
      },
      "source": [
        "# get csv file\n",
        "#Features_Total.to_csv('Contraste_Fracionado_fev_2020.csv')\n",
        "# a mundaca do formato  float_format=\"%.5f\"   objetiva \n",
        "# evitar corromper alguns pontos como aconteceu \n",
        "# antes desta mudanca mudar \n",
        "Features_Total.to_csv('Contraste_Fracionado_B_mar_2020.csv', float_format=\"%.5f\")"
      ],
      "execution_count": 0,
      "outputs": []
    },
    {
      "cell_type": "code",
      "metadata": {
        "id": "6KFSiJ3tB7L2",
        "colab_type": "code",
        "colab": {}
      },
      "source": [
        "# save in drive\n",
        "!cp Contraste_Fracionado_B_mar_2020.csv drive/My\\ Drive/Maria_Gabriela_Textura_dados_jan_2020/"
      ],
      "execution_count": 0,
      "outputs": []
    }
  ]
}